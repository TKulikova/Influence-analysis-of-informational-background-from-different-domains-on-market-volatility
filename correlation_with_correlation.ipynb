{
  "nbformat": 4,
  "nbformat_minor": 0,
  "metadata": {
    "colab": {
      "provenance": []
    },
    "kernelspec": {
      "name": "python3",
      "display_name": "Python 3"
    },
    "language_info": {
      "name": "python"
    }
  },
  "cells": [
    {
      "cell_type": "code",
      "execution_count": null,
      "metadata": {
        "colab": {
          "base_uri": "https://localhost:8080/"
        },
        "id": "Jcs5_ABVX8oi",
        "outputId": "140e24d0-3742-4566-b6ef-ae03ad9d3f97"
      },
      "outputs": [
        {
          "output_type": "stream",
          "name": "stdout",
          "text": [
            "Pearson -0.39437567862414924\n",
            "Spearman -0.20022594622155368\n",
            "KendallTau -0.18568227162261305\n",
            "Pearson -0.6003675213388916\n",
            "Spearman -0.24178606670442676\n",
            "KendallTau -0.17794994248287857\n",
            "Pearson -0.529203103971627\n",
            "Spearman -0.26927418226193495\n",
            "KendallTau -0.20580546572992364\n",
            "Pearson 0.11082512891803914\n",
            "Spearman 0.39338099810891614\n",
            "KendallTau 0.269130224416054\n"
          ]
        }
      ],
      "source": [
        "import scipy.stats as sp\n",
        "\n",
        "apple_training_change = [-3.24, 11.43, 9.45, 14.73, -7.13, 4.34, 0.89, -10.86, 16.45, 1.69, 2.91, 7.14, -4.5, 56.9, 1.84, 0.4, 1.64, 17.32, 5.13, 3.91]\n",
        "apple_pearson_correlation = [0.9, 0.9, -0.002, 0.93, 0.93, 0.8, 0.82, 0.39, 0.88, 0.96, -0.09, 0.06, 0.87, -0.1, 0.65, 0.86, 0.56, 0.75, 0.62, 0.96]\n",
        "apple_spearman_correlation = [0.96, 0.92, 0.27, 0.92, 0.94, 0.78, 0.92, 0.54, 0.95, 0.95, 0.33, -0.19, 0.92, -0.52, 0.65, 0.91, 0.72, 0.8, 0.78, 0.96]\n",
        "apple_kendalltau_correlation = [0.87, 0.75, 0.2, 0.76, 0.83, 0.65, 0.78, 0.44, 0.88, 0.82, 0.22, -0.25, 0.76, -0.34, 0.43, 0.73, 0.6, 0.67, 0.62, 0.8]\n",
        "apple_dtw_correlation = [1.12, 1.5, 3.37, 2.77, 0.7, 1.41, 1.2, 1.34, 1.92, 1.87, 4.84, 2.12, 0.77, 1.65, 2.53, 2.02, 0.7, 1.04, 1.13, 2.6]\n",
        "print('Pearson', sp.pearsonr(apple_training_change, apple_pearson_correlation)[0])\n",
        "print('Spearman', sp.spearmanr(apple_training_change, apple_pearson_correlation)[0])\n",
        "print('KendallTau', sp.kendalltau(apple_training_change, apple_pearson_correlation)[0])\n",
        "print('Pearson', sp.pearsonr(apple_training_change, apple_spearman_correlation)[0])\n",
        "print('Spearman', sp.spearmanr(apple_training_change, apple_spearman_correlation)[0])\n",
        "print('KendallTau', sp.kendalltau(apple_training_change, apple_spearman_correlation)[0])\n",
        "print('Pearson', sp.pearsonr(apple_training_change, apple_kendalltau_correlation)[0])\n",
        "print('Spearman', sp.spearmanr(apple_training_change, apple_kendalltau_correlation)[0])\n",
        "print('KendallTau', sp.kendalltau(apple_training_change, apple_kendalltau_correlation)[0])\n",
        "print('Pearson', sp.pearsonr(apple_training_change, apple_dtw_correlation)[0])\n",
        "print('Spearman', sp.spearmanr(apple_training_change, apple_dtw_correlation)[0])\n",
        "print('KendallTau', sp.kendalltau(apple_training_change, apple_dtw_correlation)[0])"
      ]
    },
    {
      "cell_type": "code",
      "source": [
        "import scipy.stats as sp\n",
        "\n",
        "amazon_training_change = [26.28, 150.33, 67.64, 839.13, 39.63, -14.79, -7.37, -56.88, -39.09, -9.05, 23.87, -11.68, -15.49, 179.74, -1.45, -44.69, -24.23, 0.99, 24.17, 93.53]\n",
        "amazon_pearson_correlation = [0.6, -0.04, 0.89, 0.23, 0.95, 0.94, 0.74, 0.52, 0.5, 0.98, 0.29, 0.77, 0.98, 0.61, 0.91, 0.88, 0.82, 0.96, 0.71, 0.89]\n",
        "amazon_spearman_correlation = [0.68, 0.02, 0.75, 0.03, 0.92, 0.8, 0.84, 0.5, 0.45, 0.97, 0.32, 0.72, 0.97, 0.55, 0.84, 0.8, 0.99, 0.92, 0.7, 0.76]\n",
        "amazon_kendalltau_correlation = [0.6, -0.06, 0.58, -0.04, 0.78, 0.68, 0.78, 0.41, 0.27, 0.86, 0.12, 0.47, 0.88, 0.49, 0.66, 0.6, 0.94, 0.82, 0.66, 0.59]\n",
        "amazon_dtw_correlation = [2.32, 3.5, 1.75, 2.05, 0.59, 1.53, 1.39, 1.53, 1.62, 1.1, 2.55, 2.1, 1.02, 1.78, 1.62, 1.58, 0.87, 0.58, 1.64, 1.72]\n",
        "print('Pearson', sp.pearsonr(amazon_training_change, amazon_pearson_correlation)[0])\n",
        "print('Spearman', sp.spearmanr(amazon_training_change, amazon_pearson_correlation)[0])\n",
        "print('KendallTau', sp.kendalltau(amazon_training_change, amazon_pearson_correlation)[0])\n",
        "print('Pearson', sp.pearsonr(amazon_training_change, amazon_spearman_correlation)[0])\n",
        "print('Spearman', sp.spearmanr(amazon_training_change, amazon_spearman_correlation)[0])\n",
        "print('KendallTau', sp.kendalltau(amazon_training_change, amazon_spearman_correlation)[0])\n",
        "print('Pearson', sp.pearsonr(amazon_training_change, amazon_kendalltau_correlation)[0])\n",
        "print('Spearman', sp.spearmanr(amazon_training_change, amazon_kendalltau_correlation)[0])\n",
        "print('KendallTau', sp.kendalltau(amazon_training_change, amazon_kendalltau_correlation)[0])\n",
        "print('Pearson', sp.pearsonr(amazon_training_change, amazon_dtw_correlation)[0])\n",
        "print('Spearman', sp.spearmanr(amazon_training_change, amazon_dtw_correlation)[0])\n",
        "print('KendallTau', sp.kendalltau(amazon_training_change, amazon_dtw_correlation)[0])"
      ],
      "metadata": {
        "colab": {
          "base_uri": "https://localhost:8080/"
        },
        "id": "imcW35UXZ-ND",
        "outputId": "55315466-d676-42ee-d22a-f60d141efa3c"
      },
      "execution_count": null,
      "outputs": [
        {
          "output_type": "stream",
          "name": "stdout",
          "text": [
            "Pearson -0.48391879885864053\n",
            "Spearman -0.23476304614236657\n",
            "KendallTau -0.19047885669759831\n",
            "Pearson -0.6214972136074609\n",
            "Spearman -0.36596427044527274\n",
            "KendallTau -0.2766113976473717\n",
            "Pearson -0.5615771763811221\n",
            "Spearman -0.3319535424199442\n",
            "KendallTau -0.29178642683553485\n",
            "Pearson 0.28059478697386053\n",
            "Spearman 0.5026337013560925\n",
            "KendallTau 0.3597933959843524\n"
          ]
        }
      ]
    },
    {
      "cell_type": "code",
      "source": [
        "google_training_change = [17.73, 90.35, 11, -6.39, 6.36, -25.28, -10.12, 25.35, 23.77, 21.44, 25.62, 4.24, 67.78, 16.58, -6.74, 72.92, -41.05, -10.08, -7.97, 1.27]\n",
        "short_google_training_change = [17.73, 90.35, 11, 6.36, -25.28, -10.12, 25.35, 23.77, 21.44, 25.62, 4.24, 67.78, 16.58, -6.74, 72.92, -41.05, -10.08, -7.97, 1.27]\n",
        "google_pearson_correlation = [0.12, 0.27, 0.05, 0.28, -0.33, 0.73, 0.88, -0.28, 0.96, 0.88, 0.87, 0.96, 0.97, -0.47, 0.79, 0.95, 0.83, 0.9, 0.86]\n",
        "google_spearman_correlation = [0.41, 0.47, 0.02,  0.34, -0.34, 0.78, 0.94, 0.07, 0.9, 0.86, 0.87, 0.97, 0.93, -0.97, 0.74, 0.97, 0.86, 0.94, 0.83]\n",
        "google_kendalltau_correlation = [0.33, 0.13, -0.17, 0.2, -0.3, 0.66, 0.79, 0.22, 0.77, 0.64, 0.66, 0.82, 0.8, -0.9, 0.54, 0.89, 0.7, 0.8, 0.6]\n",
        "google_dtw_correlation = [4.85, 2.89, 5.53, 5.7, 4.08, 5.63, 2.53, 1.25, 4.37, 1.99, 2.2, 5.52, 1.33, 0.73, 5.62, 1.67, 1.25, 1.007, 1.16, 5.88]\n",
        "print('Pearson', sp.pearsonr(short_google_training_change, google_pearson_correlation)[0])\n",
        "print('Spearman', sp.spearmanr(short_google_training_change, google_pearson_correlation)[0])\n",
        "print('KendallTau', sp.kendalltau(short_google_training_change, google_pearson_correlation)[0])\n",
        "print('Pearson', sp.pearsonr(short_google_training_change, google_spearman_correlation)[0])\n",
        "print('Spearman', sp.spearmanr(short_google_training_change, google_spearman_correlation)[0])\n",
        "print('KendallTau', sp.kendalltau(short_google_training_change, google_spearman_correlation)[0])\n",
        "print('Pearson', sp.pearsonr(short_google_training_change, google_kendalltau_correlation)[0])\n",
        "print('Spearman', sp.spearmanr(short_google_training_change, google_kendalltau_correlation)[0])\n",
        "print('KendallTau', sp.kendalltau(short_google_training_change, google_kendalltau_correlation)[0])\n",
        "print('Pearson', sp.pearsonr(google_training_change, google_dtw_correlation)[0])\n",
        "print('Spearman', sp.spearmanr(google_training_change, google_dtw_correlation)[0])\n",
        "print('KendallTau', sp.kendalltau(google_training_change, google_dtw_correlation)[0])"
      ],
      "metadata": {
        "colab": {
          "base_uri": "https://localhost:8080/"
        },
        "id": "nsYyDb8nja0m",
        "outputId": "f6700838-df37-41a8-fdf4-b8d4960d5b13"
      },
      "execution_count": null,
      "outputs": [
        {
          "output_type": "stream",
          "name": "stdout",
          "text": [
            "Pearson 0.09616078658020541\n",
            "Spearman 0.1255487753411837\n",
            "KendallTau 0.07647191129018725\n",
            "Pearson 0.16579486622840425\n",
            "Spearman 0.05445766694066509\n",
            "KendallTau 0.05899936045039906\n",
            "Pearson 0.07866600527010688\n",
            "Spearman -0.05179984437153733\n",
            "KendallTau -0.029412273573148944\n",
            "Pearson -0.24243231092711606\n",
            "Spearman -0.1481760164960927\n",
            "KendallTau -0.1424807070437933\n"
          ]
        }
      ]
    },
    {
      "cell_type": "code",
      "source": [
        "long_netflix_training_change = [136.32, 55.86, 77.1, 498.09, 7.87, -33.89, 63.22, -35.94, 181.56, -41.25, 26.79, 53.78, -20.82, 12.16, -28.79, 3.39, -2.5, 9.66, -12.76, 18.37]\n",
        "netflix_training_change = [136.32, 77.1, 7.87, -33.89, 63.22, -35.94, 181.56, -41.25, 26.79, 53.78, -20.82, 12.16, 3.39, -2.5, 9.66, -12.76, 18.37]\n",
        "netflix_pearson_correlation = [0.14, 0.56, 0.19, 0.03, 0.92, 0.97, -0.14, 0.45, 0.28, 0.64, 0.96, 0.43, -0.11, 0.94, 0.95, 0.61, 0.88]\n",
        "netflix_spearman_correlation = [0.54, 0.43, 0.39, 0.36, 0.98, 0.97, -0.26, 0.44, 0.28, 0.73, 0.91, 0.53, -0.03, 0.97, 0.9, 0.59, 0.79]\n",
        "netflix_kendalltau_correlation = [0.45, 0.18, 0.35, 0.2, 0.89, 0.83, -0.19, 0.22, 0.23, 0.39, 0.72, 0.47, -0.19, 0.87, 0.76, 0.57, 0.54]\n",
        "netflix_dtw_correlation = [3.39, 4.79, 1.58, 4.65, 2.53, 2.9, 0.35, 0.53, 2.08, 1.97, 2.58, 2.84, 0.62, 2.15, 4.66, 3.13, 0.46, 0.53, 1.9, 2.62]\n",
        "print('Pearson', sp.pearsonr(netflix_training_change, netflix_pearson_correlation)[0])\n",
        "print('Spearman', sp.spearmanr(netflix_training_change, netflix_pearson_correlation)[0])\n",
        "print('KendallTau', sp.kendalltau(netflix_training_change, netflix_pearson_correlation)[0])\n",
        "print('Pearson', sp.pearsonr(netflix_training_change, netflix_spearman_correlation)[0])\n",
        "print('Spearman', sp.spearmanr(netflix_training_change, netflix_spearman_correlation)[0])\n",
        "print('KendallTau', sp.kendalltau(netflix_training_change, netflix_spearman_correlation)[0])\n",
        "print('Pearson', sp.pearsonr(netflix_training_change, netflix_kendalltau_correlation)[0])\n",
        "print('Spearman', sp.spearmanr(netflix_training_change, netflix_kendalltau_correlation)[0])\n",
        "print('KendallTau', sp.kendalltau(netflix_training_change, netflix_kendalltau_correlation)[0])\n",
        "print('Pearson', sp.pearsonr(long_netflix_training_change, netflix_dtw_correlation)[0])\n",
        "print('Spearman', sp.spearmanr(long_netflix_training_change, netflix_dtw_correlation)[0])\n",
        "print('KendallTau', sp.kendalltau(long_netflix_training_change, netflix_dtw_correlation)[0])"
      ],
      "metadata": {
        "colab": {
          "base_uri": "https://localhost:8080/"
        },
        "id": "fGdYalqiopVT",
        "outputId": "31f8bef1-8e6e-4bc8-e3c8-b7b47c58fe0f"
      },
      "execution_count": null,
      "outputs": [
        {
          "output_type": "stream",
          "name": "stdout",
          "text": [
            "Pearson -0.37420568301463053\n",
            "Spearman -0.303921568627451\n",
            "KendallTau -0.2352941176470588\n",
            "Pearson -0.40817677868912633\n",
            "Spearman -0.18884123721106635\n",
            "KendallTau -0.14022235687718174\n",
            "Pearson -0.3435135848319193\n",
            "Spearman -0.19619868801149754\n",
            "KendallTau -0.15498260496951666\n",
            "Pearson 0.40248280231277495\n",
            "Spearman 0.22113578096371195\n",
            "KendallTau 0.17414308638685846\n"
          ]
        }
      ]
    },
    {
      "cell_type": "code",
      "source": [
        "long_tesla_training_change = [28.72, 58.14, 9.05, 2.76, -3.53, 5.58, -7.65, 6.58, 18.98, -27.2, -40.35, 7.17, 12.09, 23.77, 51, -14.4, 3.93, 14.65, 14.12, 310.89]\n",
        "tesla_training_change = [28.72, 58.14, 9.05, 2.76, -3.53, 5.58, -7.65, 6.58, 18.98, -27.2, 7.17, 12.09, 23.77, 51, -14.4, 3.93, 14.65, 14.12, 310.89]\n",
        "tesla_pearson_correlation = [0.87, -0.39, 0.62, 0.45, 0.62, 0.63, 0.75, 0.62, 0.48, 0.69, 0.89, 0.85, 0.23, -0.38, 0.78, -0.24, 0.93, 0.94, 0.72]\n",
        "tesla_spearman_correlation = [0.89, -0.43, 0.58, 0.61, 0.72, 0.5, 0.69, 0.55, 0.35, 0.63, 0.87, 0.78, 0.71, -0.45, 0.9, 0.49, 0.93, 0.97, 0.66]\n",
        "tesla_kendalltau_correlation = [0.71, -0.3, 0.38, 0.54, 0.5, 0.33, 0.46, 0.4, 0.18, 0.4, 0.66, 0.6, 0.63, -0.36, 0.73, 0.46, 0.78, 0.86, 0.43]\n",
        "tesla_dtw_correlation = [1.51, 6.49, 2.93, 2.77, 1.09, 2.92, 2.83, 1.33, 3.55, 3.51, 6.82, 4.92, 2.42, 3.44, 5.7, 1.07, 3.46, 0.65, 0.48, 3.14]\n",
        "print('Pearson', sp.pearsonr(tesla_training_change, tesla_pearson_correlation)[0])\n",
        "print('Spearman', sp.spearmanr(tesla_training_change, tesla_pearson_correlation)[0])\n",
        "print('KendallTau', sp.kendalltau(tesla_training_change, tesla_pearson_correlation)[0])\n",
        "print('Pearson', sp.pearsonr(tesla_training_change, tesla_spearman_correlation)[0])\n",
        "print('Spearman', sp.spearmanr(tesla_training_change, tesla_spearman_correlation)[0])\n",
        "print('KendallTau', sp.kendalltau(tesla_training_change, tesla_spearman_correlation)[0])\n",
        "print('Pearson', sp.pearsonr(tesla_training_change, tesla_kendalltau_correlation)[0])\n",
        "print('Spearman', sp.spearmanr(tesla_training_change, tesla_kendalltau_correlation)[0])\n",
        "print('KendallTau', sp.kendalltau(tesla_training_change, tesla_kendalltau_correlation)[0])\n",
        "print('Pearson', sp.pearsonr(long_tesla_training_change, tesla_dtw_correlation)[0])\n",
        "print('Spearman', sp.spearmanr(long_tesla_training_change, tesla_dtw_correlation)[0])\n",
        "print('KendallTau', sp.kendalltau(long_tesla_training_change, tesla_dtw_correlation)[0])"
      ],
      "metadata": {
        "colab": {
          "base_uri": "https://localhost:8080/"
        },
        "id": "gWy6MxAiw18e",
        "outputId": "a0f93298-02aa-4321-a925-459220ab87fe"
      },
      "execution_count": null,
      "outputs": [
        {
          "output_type": "stream",
          "name": "stdout",
          "text": [
            "Pearson -0.05846881659855149\n",
            "Spearman -0.1282954529661572\n",
            "KendallTau -0.11799872090079812\n",
            "Pearson -0.1375041335631106\n",
            "Spearman -0.1456140350877193\n",
            "KendallTau -0.09941520467836257\n",
            "Pearson -0.17077132608958134\n",
            "Spearman -0.15276564272283888\n",
            "KendallTau -0.08823682071944683\n",
            "Pearson 0.053151870003284044\n",
            "Spearman 0.10827067669172932\n",
            "KendallTau 0.08421052631578947\n"
          ]
        }
      ]
    }
  ]
}