{
 "cells": [
  {
   "cell_type": "code",
   "execution_count": 369,
   "id": "4829afa7",
   "metadata": {
    "cellId": "monbx4kc3jbdev7rh9hka"
   },
   "outputs": [],
   "source": [
    "import warnings\n",
    "import numpy as np\n",
    "from matplotlib import pyplot as plt\n",
    "from sklearn.linear_model import LinearRegression\n",
    "from sklearn.feature_extraction.text import TfidfVectorizer\n",
    "from sklearn.manifold import TSNE\n",
    "from sklearn.metrics import mean_squared_error, r2_score\n",
    "from sklearn.model_selection import train_test_split\n",
    "import pandas as pd\n",
    "from gensim.models import Word2Vec\n",
    "from gensim.models.doc2vec import Doc2Vec, TaggedDocument\n",
    "\n",
    "warnings.filterwarnings(\"ignore\")\n",
    "pd.options.display.max_colwidth = 100\n",
    "pd.options.display.max_rows = 2000"
   ]
  },
  {
   "cell_type": "code",
   "execution_count": 370,
   "id": "f4c9bd38",
   "metadata": {
    "cellId": "jkxrlslwqyqv0rkv1qyid"
   },
   "outputs": [
    {
     "data": {
      "text/plain": [
       "(0, 5)"
      ]
     },
     "execution_count": 370,
     "metadata": {},
     "output_type": "execute_result"
    }
   ],
   "source": [
    "general_news_dataset = pd.read_csv('general_news_dataset.csv')"
   ]
  },
  {
   "cell_type": "code",
   "execution_count": 371,
   "id": "11977270",
   "metadata": {
    "cellId": "hp6unetq8xbojudyt9hll"
   },
   "outputs": [
    {
     "data": {
      "text/plain": [
       "(0, 5)"
      ]
     },
     "execution_count": 371,
     "metadata": {},
     "output_type": "execute_result"
    }
   ],
   "source": [
    "analyst_update_dataset = pd.read_csv('analyst_update_dataset.csv')\n",
    "analyst_update_dataset[pd.isna(analyst_update_dataset.Ticker) == True].shape"
   ]
  },
  {
   "cell_type": "code",
   "execution_count": 372,
   "id": "356afc51",
   "metadata": {
    "cellId": "cpt08a97vrp9fbj01hrf4i"
   },
   "outputs": [
    {
     "data": {
      "text/plain": [
       "(0, 5)"
      ]
     },
     "execution_count": 372,
     "metadata": {},
     "output_type": "execute_result"
    }
   ],
   "source": [
    "central_banks_dataset = pd.read_csv('central_banks_dataset.csv')\n",
    "central_banks_dataset[pd.isna(central_banks_dataset['Data source']) == True].shape"
   ]
  },
  {
   "cell_type": "code",
   "execution_count": 373,
   "id": "174a4cb3",
   "metadata": {
    "cellId": "bvpbaphq7pjddcex9ayi"
   },
   "outputs": [
    {
     "data": {
      "text/plain": [
       "(0, 5)"
      ]
     },
     "execution_count": 373,
     "metadata": {},
     "output_type": "execute_result"
    }
   ],
   "source": [
    "currencies_dataset = pd.read_csv('currencies_dataset.csv')\n",
    "currencies_dataset[pd.isna(currencies_dataset['Ticker']) == True].shape"
   ]
  },
  {
   "cell_type": "code",
   "execution_count": 374,
   "id": "547253fc",
   "metadata": {
    "cellId": "q5kubm019vpn5vojbvfrm"
   },
   "outputs": [
    {
     "data": {
      "text/plain": [
       "(0, 5)"
      ]
     },
     "execution_count": 374,
     "metadata": {},
     "output_type": "execute_result"
    }
   ],
   "source": [
    "dividend_dataset = pd.read_csv('dividend_dataset.csv')\n",
    "dividend_dataset[pd.isna(dividend_dataset['Data source']) == True].shape"
   ]
  },
  {
   "cell_type": "code",
   "execution_count": 375,
   "id": "3d6b265d",
   "metadata": {
    "cellId": "95ecog6s6cw4278sbr8il"
   },
   "outputs": [
    {
     "data": {
      "text/plain": [
       "(0, 5)"
      ]
     },
     "execution_count": 375,
     "metadata": {},
     "output_type": "execute_result"
    }
   ],
   "source": [
    "earnings_dataset = pd.read_csv('earnings_dataset.csv')\n",
    "earnings_dataset[pd.isna(earnings_dataset['Ticker']) == True].shape"
   ]
  },
  {
   "cell_type": "code",
   "execution_count": 376,
   "id": "0161a874",
   "metadata": {
    "cellId": "lzxuvb37skdeowl96aqer"
   },
   "outputs": [
    {
     "data": {
      "text/plain": [
       "(0, 5)"
      ]
     },
     "execution_count": 376,
     "metadata": {},
     "output_type": "execute_result"
    }
   ],
   "source": [
    "energy_oil_dataset = pd.read_csv('energy_oil_dataset.csv')\n",
    "energy_oil_dataset[pd.isna(energy_oil_dataset['Ticker']) == True].shape"
   ]
  },
  {
   "cell_type": "code",
   "execution_count": 377,
   "id": "4f9b3a9b",
   "metadata": {
    "cellId": "h65arzhak7snat4d7jwvh"
   },
   "outputs": [
    {
     "data": {
      "text/plain": [
       "(0, 5)"
      ]
     },
     "execution_count": 377,
     "metadata": {},
     "output_type": "execute_result"
    }
   ],
   "source": [
    "financials_dataset = pd.read_csv('financials_dataset.csv')\n",
    "financials_dataset[pd.isna(financials_dataset['Data source']) == True].shape"
   ]
  },
  {
   "cell_type": "code",
   "execution_count": 378,
   "id": "a851c20f",
   "metadata": {
    "cellId": "k5h4sdm45y8iancncb0hc"
   },
   "outputs": [
    {
     "data": {
      "text/plain": [
       "(0, 5)"
      ]
     },
     "execution_count": 378,
     "metadata": {},
     "output_type": "execute_result"
    }
   ],
   "source": [
    "gold_metals_dataset = pd.read_csv('gold_metals_dataset.csv')\n",
    "gold_metals_dataset[pd.isna(gold_metals_dataset['Data source']) == True].shape"
   ]
  },
  {
   "cell_type": "code",
   "execution_count": 379,
   "id": "435e69ae",
   "metadata": {
    "cellId": "i2za8dfpc7dhgongfz8fo"
   },
   "outputs": [
    {
     "data": {
      "text/plain": [
       "(0, 5)"
      ]
     },
     "execution_count": 379,
     "metadata": {},
     "output_type": "execute_result"
    }
   ],
   "source": [
    "investments_dataset = pd.read_csv('investments_dataset.csv')\n",
    "investments_dataset[pd.isna(investments_dataset['Ticker']) == True].shape"
   ]
  },
  {
   "cell_type": "code",
   "execution_count": 380,
   "id": "388dba19",
   "metadata": {
    "cellId": "1ktsuss2ysett87i6fuhc"
   },
   "outputs": [
    {
     "data": {
      "text/plain": [
       "(0, 5)"
      ]
     },
     "execution_count": 380,
     "metadata": {},
     "output_type": "execute_result"
    }
   ],
   "source": [
    "ipo_dataset = pd.read_csv('ipo_dataset.csv')\n",
    "ipo_dataset[pd.isna(ipo_dataset['Ticker']) == True].shape"
   ]
  },
  {
   "cell_type": "code",
   "execution_count": 381,
   "id": "a22b169b",
   "metadata": {
    "cellId": "r0dbh4k61mw2nvik80nsk"
   },
   "outputs": [
    {
     "data": {
      "text/plain": [
       "(0, 5)"
      ]
     },
     "execution_count": 381,
     "metadata": {},
     "output_type": "execute_result"
    }
   ],
   "source": [
    "legal_dataset = pd.read_csv('legal_dataset.csv')\n",
    "legal_dataset[pd.isna(legal_dataset['Data source']) == True].shape"
   ]
  },
  {
   "cell_type": "code",
   "execution_count": 382,
   "id": "b89dffd4",
   "metadata": {
    "cellId": "mkm09bbqjg2gm6ok9jbxu"
   },
   "outputs": [
    {
     "data": {
      "text/plain": [
       "(0, 5)"
      ]
     },
     "execution_count": 382,
     "metadata": {},
     "output_type": "execute_result"
    }
   ],
   "source": [
    "macro_dataset = pd.read_csv('macro_dataset.csv')\n",
    "macro_dataset[pd.isna(macro_dataset['Data source']) == True].shape"
   ]
  },
  {
   "cell_type": "code",
   "execution_count": 383,
   "id": "705a0fa2",
   "metadata": {
    "cellId": "4p7hgrnd1nkxwkdo05a2i"
   },
   "outputs": [
    {
     "data": {
      "text/plain": [
       "(0, 5)"
      ]
     },
     "execution_count": 383,
     "metadata": {},
     "output_type": "execute_result"
    }
   ],
   "source": [
    "markets_dataset = pd.read_csv('markets_dataset.csv')\n",
    "markets_dataset[pd.isna(markets_dataset['Ticker']) == True].shape"
   ]
  },
  {
   "cell_type": "code",
   "execution_count": 384,
   "id": "179684f0",
   "metadata": {
    "cellId": "2r0l1vlzbk9wkakaotjng"
   },
   "outputs": [
    {
     "data": {
      "text/plain": [
       "(0, 5)"
      ]
     },
     "execution_count": 384,
     "metadata": {},
     "output_type": "execute_result"
    }
   ],
   "source": [
    "personnel_change_dataset = pd.read_csv('personnel_change_dataset.csv')\n",
    "personnel_change_dataset[pd.isna(personnel_change_dataset['Ticker']) == True].shape"
   ]
  },
  {
   "cell_type": "code",
   "execution_count": 385,
   "id": "e7223711",
   "metadata": {
    "cellId": "ak2lrqtlrykqbppu2iitq"
   },
   "outputs": [
    {
     "data": {
      "text/plain": [
       "(0, 5)"
      ]
     },
     "execution_count": 385,
     "metadata": {},
     "output_type": "execute_result"
    }
   ],
   "source": [
    "politics_dataset = pd.read_csv('politics_dataset.csv')\n",
    "politics_dataset[pd.isna(politics_dataset['Data source']) == True].shape"
   ]
  },
  {
   "cell_type": "code",
   "execution_count": 386,
   "id": "8b7a92a3",
   "metadata": {
    "cellId": "6cngybmgbxglc0mzsav9s"
   },
   "outputs": [
    {
     "data": {
      "text/plain": [
       "(0, 5)"
      ]
     },
     "execution_count": 386,
     "metadata": {},
     "output_type": "execute_result"
    }
   ],
   "source": [
    "product_news_dataset = pd.read_csv('product_news_dataset.csv')\n",
    "product_news_dataset[pd.isna(product_news_dataset['Data source']) == True].shape"
   ]
  },
  {
   "cell_type": "code",
   "execution_count": 387,
   "id": "149d0f5b",
   "metadata": {
    "cellId": "jffgtc8tfpjqsfxrdw79q"
   },
   "outputs": [
    {
     "data": {
      "text/plain": [
       "(0, 5)"
      ]
     },
     "execution_count": 387,
     "metadata": {},
     "output_type": "execute_result"
    }
   ],
   "source": [
    "stock_commentary_dataset = pd.read_csv('stock_commentary_dataset.csv')\n",
    "stock_commentary_dataset[pd.isna(stock_commentary_dataset['Ticker']) == True].shape"
   ]
  },
  {
   "cell_type": "code",
   "execution_count": 388,
   "id": "318f9541",
   "metadata": {
    "cellId": "3b2rino823uci7ungeg7"
   },
   "outputs": [
    {
     "data": {
      "text/plain": [
       "(0, 5)"
      ]
     },
     "execution_count": 388,
     "metadata": {},
     "output_type": "execute_result"
    }
   ],
   "source": [
    "stock_movement_dataset = pd.read_csv('stock_movement_dataset.csv')\n",
    "stock_movement_dataset[pd.isna(stock_movement_dataset['Data source']) == True].shape"
   ]
  },
  {
   "cell_type": "code",
   "execution_count": 389,
   "id": "d1f77332",
   "metadata": {
    "cellId": "m3p6jccr9fl80v6wkja5tw"
   },
   "outputs": [
    {
     "data": {
      "text/plain": [
       "(0, 5)"
      ]
     },
     "execution_count": 389,
     "metadata": {},
     "output_type": "execute_result"
    }
   ],
   "source": [
    "treasuries_dataset = pd.read_csv('treasuries_dataset.csv')\n",
    "treasuries_dataset[pd.isna(treasuries_dataset['Data source']) == True].shape"
   ]
  },
  {
   "cell_type": "code",
   "execution_count": 390,
   "id": "b50c0e62",
   "metadata": {
    "cellId": "6nc5k89lynq5msqju8dy9i"
   },
   "outputs": [
    {
     "name": "stdout",
     "output_type": "stream",
     "text": [
      "Found GPU at: /device:GPU:0\n"
     ]
    },
    {
     "name": "stderr",
     "output_type": "stream",
     "text": [
      "2023-01-18 15:29:06.838372: I tensorflow/core/platform/cpu_feature_guard.cc:142] This TensorFlow binary is optimized with oneAPI Deep Neural Network Library (oneDNN) to use the following CPU instructions in performance-critical operations:  AVX2 FMA\n",
      "To enable them in other operations, rebuild TensorFlow with the appropriate compiler flags.\n",
      "2023-01-18 15:29:09.639815: I tensorflow/core/common_runtime/gpu/gpu_device.cc:1510] Created device /device:GPU:0 with 2629 MB memory:  -> device: 0, name: GRID A100X-1-5C MIG 1g.5gb, pci bus id: 0000:8c:00.0, compute capability: 8.0\n"
     ]
    }
   ],
   "source": [
    "#!g2.mig\n",
    "import tensorflow as tf\n",
    "\n",
    "device_name = tf.test.gpu_device_name()\n",
    "if device_name == '/device:GPU:0':\n",
    "    print('Found GPU at: {}'.format(device_name))\n",
    "else:\n",
    "    raise SystemError('GPU device not found')"
   ]
  },
  {
   "cell_type": "code",
   "execution_count": 391,
   "id": "a52ee75e",
   "metadata": {
    "cellId": "zbanito24ait1j23pefd"
   },
   "outputs": [
    {
     "name": "stdout",
     "output_type": "stream",
     "text": [
      "There are 1 GPU(s) available.\n",
      "We will use the GPU: GRID A100X-1-5C MIG 1g.5gb\n"
     ]
    }
   ],
   "source": [
    "#!g2.mig\n",
    "import torch\n",
    "\n",
    "if torch.cuda.is_available():    \n",
    "   \n",
    "    device = torch.device(\"cuda\")\n",
    "\n",
    "    print('There are %d GPU(s) available.' % torch.cuda.device_count())\n",
    "\n",
    "    print('We will use the GPU:', torch.cuda.get_device_name(0))\n",
    "\n",
    "else:\n",
    "    print('No GPU available, using the CPU instead.')\n",
    "    device = torch.device(\"cpu\")"
   ]
  },
  {
   "cell_type": "code",
   "execution_count": 392,
   "id": "a5b82502",
   "metadata": {
    "cellId": "n9e9yqqp2ljnt0rxcdb9l9"
   },
   "outputs": [
    {
     "data": {
      "application/vnd.jupyter.widget-view+json": {
       "model_id": "1e168716b97c489d9b2b3495e51c89ac",
       "version_major": 2,
       "version_minor": 0
      },
      "text/plain": [
       "HBox(children=(HTML(value='Downloading'), FloatProgress(value=0.0, max=533.0), HTML(value='')))"
      ]
     },
     "metadata": {},
     "output_type": "display_data"
    },
    {
     "data": {
      "application/vnd.jupyter.widget-view+json": {
       "model_id": "4e60f9b8f7884abe947e69146f7af126",
       "version_major": 2,
       "version_minor": 0
      },
      "text/plain": [
       "HBox(children=(HTML(value='Downloading'), FloatProgress(value=0.0, max=439101405.0), HTML(value='')))"
      ]
     },
     "metadata": {},
     "output_type": "display_data"
    },
    {
     "data": {
      "application/vnd.jupyter.widget-view+json": {
       "model_id": "c7386b1f6e264f57ae94fb010a99fa12",
       "version_major": 2,
       "version_minor": 0
      },
      "text/plain": [
       "HBox(children=(HTML(value='Downloading'), FloatProgress(value=0.0, max=226122.0), HTML(value='')))"
      ]
     },
     "metadata": {},
     "output_type": "display_data"
    },
    {
     "name": "stdout",
     "output_type": "stream",
     "text": [
      "\n",
      "\n",
      "\n"
     ]
    }
   ],
   "source": [
    "#!g2.mig\n",
    "import torch\n",
    "from torch.utils.data import TensorDataset, SequentialSampler, DataLoader\n",
    "from transformers import BertTokenizer, BertForSequenceClassification, pipeline\n",
    "import numpy as np\n",
    "sentences = analyst_update_dataset.Headline.tolist()\n",
    "finbert = BertForSequenceClassification.from_pretrained('yiyanghkust/finbert-tone',num_labels=3)\n",
    "tokenizer = BertTokenizer.from_pretrained('yiyanghkust/finbert-tone')\n",
    "inputs = tokenizer(sentences, return_tensors=\"pt\", padding=True)\n",
    "input_ids = inputs['input_ids']\n",
    "attention_masks = inputs['attention_mask']\n",
    "\n",
    "batch_size = 32\n",
    "prediction_data = TensorDataset(input_ids, attention_masks)\n",
    "prediction_sampler = SequentialSampler(prediction_data)\n",
    "prediction_dataloader = DataLoader(prediction_data, sampler=prediction_sampler, batch_size=batch_size)\n",
    "finbert.to(device)\n",
    "\n",
    "finbert.eval()\n",
    "predictions = []\n",
    "number = 0\n",
    "for batch in prediction_dataloader:\n",
    "    batch = tuple(t.to(device) for t in batch)\n",
    "\n",
    "    b_input_ids, b_input_mask = batch\n",
    "\n",
    "    with torch.no_grad():\n",
    "     \n",
    "        outputs = finbert(b_input_ids, token_type_ids=None,\n",
    "                        attention_mask=b_input_mask)\n",
    "    for logit in outputs.logits:\n",
    "\n",
    "      logits = logit\n",
    "      predicted_class_id = logits.argmax().item()\n",
    "      logits = logits.detach().cpu().numpy()\n",
    "      predicted_class = finbert.config.id2label[predicted_class_id]\n",
    "      predictions.append(predicted_class)"
   ]
  },
  {
   "cell_type": "code",
   "execution_count": 393,
   "id": "fe11f1b1",
   "metadata": {
    "cellId": "thwuv5o7nw9zyzkkrnvtc"
   },
   "outputs": [
    {
     "data": {
      "text/plain": [
       "7023"
      ]
     },
     "execution_count": 393,
     "metadata": {},
     "output_type": "execute_result"
    }
   ],
   "source": [
    "#!g2.mig\n",
    "len(sentences)"
   ]
  },
  {
   "cell_type": "code",
   "execution_count": 394,
   "id": "4908ef95",
   "metadata": {
    "cellId": "4i7dqmlyvx9ox0349p479e"
   },
   "outputs": [
    {
     "data": {
      "text/plain": [
       "(7023, 5)"
      ]
     },
     "execution_count": 394,
     "metadata": {},
     "output_type": "execute_result"
    }
   ],
   "source": [
    "#!g2.mig\n",
    "analyst_update_dataset.shape"
   ]
  },
  {
   "cell_type": "code",
   "execution_count": 395,
   "id": "ef8ac680",
   "metadata": {
    "cellId": "ug1o25xyuaiek3eikyv3su"
   },
   "outputs": [
    {
     "data": {
      "text/plain": [
       "7023"
      ]
     },
     "execution_count": 395,
     "metadata": {},
     "output_type": "execute_result"
    }
   ],
   "source": [
    "#!g2.mig\n",
    "len(predictions)"
   ]
  },
  {
   "cell_type": "code",
   "execution_count": 396,
   "id": "a4fcac51",
   "metadata": {
    "cellId": "u5280pv0rgdq4rl1tdnnb"
   },
   "outputs": [],
   "source": [
    "#!g2.mig\n",
    "def count_labels(label):\n",
    "  counter = 0\n",
    "  for prediction in predictions:\n",
    "    if prediction == label:\n",
    "      counter += 1\n",
    "  return counter"
   ]
  },
  {
   "cell_type": "code",
   "execution_count": 397,
   "id": "d0951c3f",
   "metadata": {
    "cellId": "yrfh6ovhhw7c0x6bkqxrno"
   },
   "outputs": [
    {
     "name": "stdout",
     "output_type": "stream",
     "text": [
      "Positive 1872\n",
      "Negative 774\n",
      "Neutral 4377\n"
     ]
    }
   ],
   "source": [
    "#!g2.mig\n",
    "print('Positive', count_labels('Positive'))\n",
    "print('Negative', count_labels('Negative'))\n",
    "print('Neutral', count_labels('Neutral'))"
   ]
  },
  {
   "cell_type": "code",
   "execution_count": 398,
   "id": "14e3699e",
   "metadata": {
    "cellId": "1px5e8guqbug5je23lhspt"
   },
   "outputs": [],
   "source": [
    "#!g2.mig\n",
    "analyst_update_dataset['Sentiment'] = predictions"
   ]
  },
  {
   "cell_type": "code",
   "execution_count": 399,
   "id": "9bfb3e0e",
   "metadata": {
    "cellId": "6uveha5xkjn0rj0r3rs4az"
   },
   "outputs": [
    {
     "data": {
      "text/html": [
       "<div>\n",
       "<style scoped>\n",
       "    .dataframe tbody tr th:only-of-type {\n",
       "        vertical-align: middle;\n",
       "    }\n",
       "\n",
       "    .dataframe tbody tr th {\n",
       "        vertical-align: top;\n",
       "    }\n",
       "\n",
       "    .dataframe thead th {\n",
       "        text-align: right;\n",
       "    }\n",
       "</style>\n",
       "<table border=\"1\" class=\"dataframe\">\n",
       "  <thead>\n",
       "    <tr style=\"text-align: right;\">\n",
       "      <th></th>\n",
       "      <th>Ticker</th>\n",
       "      <th>Data source</th>\n",
       "      <th>Headline</th>\n",
       "      <th>Content</th>\n",
       "      <th>Release date</th>\n",
       "      <th>Sentiment</th>\n",
       "    </tr>\n",
       "  </thead>\n",
       "  <tbody>\n",
       "    <tr>\n",
       "      <th>0</th>\n",
       "      <td>GOOGL</td>\n",
       "      <td>Financial news</td>\n",
       "      <td>Citigroup Remains Bullish on Facebook</td>\n",
       "      <td>Shares of social media giant Facebook  NASDAQ ...</td>\n",
       "      <td>2015-04-05</td>\n",
       "      <td>Positive</td>\n",
       "    </tr>\n",
       "    <tr>\n",
       "      <th>1</th>\n",
       "      <td>CACC</td>\n",
       "      <td>Financial news</td>\n",
       "      <td>Ally Financial s Ratings Upgraded By Moody s  ...</td>\n",
       "      <td>Ally Financial s   NYSE ALLY   ratings have be...</td>\n",
       "      <td>2019-02-11</td>\n",
       "      <td>Positive</td>\n",
       "    </tr>\n",
       "    <tr>\n",
       "      <th>2</th>\n",
       "      <td>QCOM</td>\n",
       "      <td>Financial news</td>\n",
       "      <td>Northland Capital upgrades Qualcomm on 3D sens...</td>\n",
       "      <td>Northland Capital upgrades Qualcomm  NASDAQ QC...</td>\n",
       "      <td>2017-09-15</td>\n",
       "      <td>Positive</td>\n",
       "    </tr>\n",
       "    <tr>\n",
       "      <th>3</th>\n",
       "      <td>BAC</td>\n",
       "      <td>Financial news</td>\n",
       "      <td>BofAML ups Nvidia price target to near Street ...</td>\n",
       "      <td>Bank of America Merrill Lynch  NYSE BAC  raise...</td>\n",
       "      <td>2017-09-18</td>\n",
       "      <td>Positive</td>\n",
       "    </tr>\n",
       "    <tr>\n",
       "      <th>4</th>\n",
       "      <td>AAPL</td>\n",
       "      <td>Financial news</td>\n",
       "      <td>Apple to gain unconditional EU approval for Sh...</td>\n",
       "      <td>By Foo Yun Chee BRUSSELS  Reuters    Apple  O ...</td>\n",
       "      <td>2018-08-22</td>\n",
       "      <td>Positive</td>\n",
       "    </tr>\n",
       "  </tbody>\n",
       "</table>\n",
       "</div>"
      ],
      "text/plain": [
       "  Ticker     Data source                                           Headline  \\\n",
       "0  GOOGL  Financial news             Citigroup Remains Bullish on Facebook    \n",
       "1   CACC  Financial news  Ally Financial s Ratings Upgraded By Moody s  ...   \n",
       "2   QCOM  Financial news  Northland Capital upgrades Qualcomm on 3D sens...   \n",
       "3    BAC  Financial news  BofAML ups Nvidia price target to near Street ...   \n",
       "4   AAPL  Financial news  Apple to gain unconditional EU approval for Sh...   \n",
       "\n",
       "                                             Content Release date Sentiment  \n",
       "0  Shares of social media giant Facebook  NASDAQ ...   2015-04-05  Positive  \n",
       "1  Ally Financial s   NYSE ALLY   ratings have be...   2019-02-11  Positive  \n",
       "2  Northland Capital upgrades Qualcomm  NASDAQ QC...   2017-09-15  Positive  \n",
       "3  Bank of America Merrill Lynch  NYSE BAC  raise...   2017-09-18  Positive  \n",
       "4  By Foo Yun Chee BRUSSELS  Reuters    Apple  O ...   2018-08-22  Positive  "
      ]
     },
     "execution_count": 399,
     "metadata": {},
     "output_type": "execute_result"
    }
   ],
   "source": [
    "#!g2.mig\n",
    "analyst_update_dataset.head(5)"
   ]
  },
  {
   "cell_type": "code",
   "execution_count": 400,
   "id": "668cddf5",
   "metadata": {
    "cellId": "uxrslnh3478u56v9knd27"
   },
   "outputs": [
    {
     "data": {
      "text/plain": [
       "(1872, 6)"
      ]
     },
     "execution_count": 400,
     "metadata": {},
     "output_type": "execute_result"
    }
   ],
   "source": [
    "analyst_update_dataset[analyst_update_dataset.Sentiment == 'Positive'].shape"
   ]
  },
  {
   "cell_type": "code",
   "execution_count": 401,
   "id": "d6aa5883",
   "metadata": {
    "cellId": "ntcicbhwzeev7rus04soqn"
   },
   "outputs": [
    {
     "data": {
      "text/plain": [
       "(774, 6)"
      ]
     },
     "execution_count": 401,
     "metadata": {},
     "output_type": "execute_result"
    }
   ],
   "source": [
    "analyst_update_dataset[analyst_update_dataset.Sentiment == 'Negative'].shape"
   ]
  },
  {
   "cell_type": "code",
   "execution_count": 402,
   "id": "483b1b07",
   "metadata": {
    "cellId": "4ra5lwj99hnqd7ljhw4xsj"
   },
   "outputs": [
    {
     "data": {
      "text/plain": [
       "(4377, 6)"
      ]
     },
     "execution_count": 402,
     "metadata": {},
     "output_type": "execute_result"
    }
   ],
   "source": [
    "analyst_update_dataset[analyst_update_dataset.Sentiment == 'Neutral'].shape"
   ]
  },
  {
   "cell_type": "code",
   "execution_count": 403,
   "id": "238bbb3c",
   "metadata": {
    "cellId": "ohl0zp5cnxcio76ecya79"
   },
   "outputs": [
    {
     "data": {
      "text/html": [
       "<div>\n",
       "<style scoped>\n",
       "    .dataframe tbody tr th:only-of-type {\n",
       "        vertical-align: middle;\n",
       "    }\n",
       "\n",
       "    .dataframe tbody tr th {\n",
       "        vertical-align: top;\n",
       "    }\n",
       "\n",
       "    .dataframe thead th {\n",
       "        text-align: right;\n",
       "    }\n",
       "</style>\n",
       "<table border=\"1\" class=\"dataframe\">\n",
       "  <thead>\n",
       "    <tr style=\"text-align: right;\">\n",
       "      <th></th>\n",
       "      <th>Ticker</th>\n",
       "      <th>Data source</th>\n",
       "      <th>Headline</th>\n",
       "      <th>Content</th>\n",
       "      <th>Release date</th>\n",
       "      <th>Sentiment</th>\n",
       "      <th>Topic</th>\n",
       "    </tr>\n",
       "  </thead>\n",
       "  <tbody>\n",
       "    <tr>\n",
       "      <th>0</th>\n",
       "      <td>GOOGL</td>\n",
       "      <td>Financial news</td>\n",
       "      <td>Citigroup Remains Bullish on Facebook</td>\n",
       "      <td>Shares of social media giant Facebook  NASDAQ ...</td>\n",
       "      <td>2015-04-05</td>\n",
       "      <td>Positive</td>\n",
       "      <td>Analyst Update</td>\n",
       "    </tr>\n",
       "    <tr>\n",
       "      <th>1</th>\n",
       "      <td>CACC</td>\n",
       "      <td>Financial news</td>\n",
       "      <td>Ally Financial s Ratings Upgraded By Moody s  ...</td>\n",
       "      <td>Ally Financial s   NYSE ALLY   ratings have be...</td>\n",
       "      <td>2019-02-11</td>\n",
       "      <td>Positive</td>\n",
       "      <td>Analyst Update</td>\n",
       "    </tr>\n",
       "    <tr>\n",
       "      <th>2</th>\n",
       "      <td>QCOM</td>\n",
       "      <td>Financial news</td>\n",
       "      <td>Northland Capital upgrades Qualcomm on 3D sens...</td>\n",
       "      <td>Northland Capital upgrades Qualcomm  NASDAQ QC...</td>\n",
       "      <td>2017-09-15</td>\n",
       "      <td>Positive</td>\n",
       "      <td>Analyst Update</td>\n",
       "    </tr>\n",
       "    <tr>\n",
       "      <th>3</th>\n",
       "      <td>BAC</td>\n",
       "      <td>Financial news</td>\n",
       "      <td>BofAML ups Nvidia price target to near Street ...</td>\n",
       "      <td>Bank of America Merrill Lynch  NYSE BAC  raise...</td>\n",
       "      <td>2017-09-18</td>\n",
       "      <td>Positive</td>\n",
       "      <td>Analyst Update</td>\n",
       "    </tr>\n",
       "    <tr>\n",
       "      <th>4</th>\n",
       "      <td>AAPL</td>\n",
       "      <td>Financial news</td>\n",
       "      <td>Apple to gain unconditional EU approval for Sh...</td>\n",
       "      <td>By Foo Yun Chee BRUSSELS  Reuters    Apple  O ...</td>\n",
       "      <td>2018-08-22</td>\n",
       "      <td>Positive</td>\n",
       "      <td>Analyst Update</td>\n",
       "    </tr>\n",
       "  </tbody>\n",
       "</table>\n",
       "</div>"
      ],
      "text/plain": [
       "  Ticker     Data source                                           Headline  \\\n",
       "0  GOOGL  Financial news             Citigroup Remains Bullish on Facebook    \n",
       "1   CACC  Financial news  Ally Financial s Ratings Upgraded By Moody s  ...   \n",
       "2   QCOM  Financial news  Northland Capital upgrades Qualcomm on 3D sens...   \n",
       "3    BAC  Financial news  BofAML ups Nvidia price target to near Street ...   \n",
       "4   AAPL  Financial news  Apple to gain unconditional EU approval for Sh...   \n",
       "\n",
       "                                             Content Release date Sentiment  \\\n",
       "0  Shares of social media giant Facebook  NASDAQ ...   2015-04-05  Positive   \n",
       "1  Ally Financial s   NYSE ALLY   ratings have be...   2019-02-11  Positive   \n",
       "2  Northland Capital upgrades Qualcomm  NASDAQ QC...   2017-09-15  Positive   \n",
       "3  Bank of America Merrill Lynch  NYSE BAC  raise...   2017-09-18  Positive   \n",
       "4  By Foo Yun Chee BRUSSELS  Reuters    Apple  O ...   2018-08-22  Positive   \n",
       "\n",
       "            Topic  \n",
       "0  Analyst Update  \n",
       "1  Analyst Update  \n",
       "2  Analyst Update  \n",
       "3  Analyst Update  \n",
       "4  Analyst Update  "
      ]
     },
     "execution_count": 403,
     "metadata": {},
     "output_type": "execute_result"
    }
   ],
   "source": [
    "analyst_update_dataset['Topic'] = 'Analyst Update'\n",
    "analyst_update_dataset.head(5)"
   ]
  },
  {
   "cell_type": "code",
   "execution_count": 488,
   "id": "35ee8f16",
   "metadata": {
    "cellId": "9j8lcr7349tjhz96jpjxka"
   },
   "outputs": [],
   "source": [
    "analyst_update_dataset.to_csv('analyst_update_dataset.csv')"
   ]
  },
  {
   "cell_type": "code",
   "execution_count": 404,
   "id": "d29b0fb4",
   "metadata": {
    "cellId": "o6lz12atumigs5ft2c13bt"
   },
   "outputs": [],
   "source": [
    "#!g2.mig\n",
    "sentences = central_banks_dataset.Headline.tolist()\n",
    "inputs = tokenizer(sentences, return_tensors=\"pt\", padding=True)\n",
    "input_ids = inputs['input_ids']\n",
    "attention_masks = inputs['attention_mask']\n",
    "\n",
    "batch_size = 32\n",
    "prediction_data = TensorDataset(input_ids, attention_masks)\n",
    "prediction_sampler = SequentialSampler(prediction_data)\n",
    "prediction_dataloader = DataLoader(prediction_data, sampler=prediction_sampler, batch_size=batch_size)\n",
    "finbert.to(device)\n",
    "finbert.eval()\n",
    "predictions = []\n",
    "number = 0\n",
    "for batch in prediction_dataloader:\n",
    "    batch = tuple(t.to(device) for t in batch)\n",
    "\n",
    "    b_input_ids, b_input_mask = batch\n",
    "\n",
    "    with torch.no_grad():\n",
    "     \n",
    "        outputs = finbert(b_input_ids, token_type_ids=None,\n",
    "                        attention_mask=b_input_mask)\n",
    "    for logit in outputs.logits:\n",
    "\n",
    "      logits = logit\n",
    "      predicted_class_id = logits.argmax().item()\n",
    "      logits = logits.detach().cpu().numpy()\n",
    "      predicted_class = finbert.config.id2label[predicted_class_id]\n",
    "      predictions.append(predicted_class)\n",
    "      number += 1"
   ]
  },
  {
   "cell_type": "code",
   "execution_count": 405,
   "id": "80e81008",
   "metadata": {
    "cellId": "rifw1augemimzzynivz7jh"
   },
   "outputs": [
    {
     "name": "stdout",
     "output_type": "stream",
     "text": [
      "3149\n",
      "3149\n"
     ]
    }
   ],
   "source": [
    "print(len(sentences))\n",
    "print(len(predictions))"
   ]
  },
  {
   "cell_type": "code",
   "execution_count": 406,
   "id": "bc9aae2b",
   "metadata": {
    "cellId": "gxpzkwbp2vs1gbet83npwd"
   },
   "outputs": [
    {
     "name": "stdout",
     "output_type": "stream",
     "text": [
      "Positive 384\n",
      "Negative 688\n",
      "Neutral 2077\n"
     ]
    }
   ],
   "source": [
    "print('Positive', count_labels('Positive'))\n",
    "print('Negative', count_labels('Negative'))\n",
    "print('Neutral', count_labels('Neutral'))"
   ]
  },
  {
   "cell_type": "code",
   "execution_count": 407,
   "id": "dac08a55",
   "metadata": {
    "cellId": "3oaha8pk1byw6rbk4gdx1"
   },
   "outputs": [
    {
     "data": {
      "text/html": [
       "<div>\n",
       "<style scoped>\n",
       "    .dataframe tbody tr th:only-of-type {\n",
       "        vertical-align: middle;\n",
       "    }\n",
       "\n",
       "    .dataframe tbody tr th {\n",
       "        vertical-align: top;\n",
       "    }\n",
       "\n",
       "    .dataframe thead th {\n",
       "        text-align: right;\n",
       "    }\n",
       "</style>\n",
       "<table border=\"1\" class=\"dataframe\">\n",
       "  <thead>\n",
       "    <tr style=\"text-align: right;\">\n",
       "      <th></th>\n",
       "      <th>Ticker</th>\n",
       "      <th>Data source</th>\n",
       "      <th>Headline</th>\n",
       "      <th>Content</th>\n",
       "      <th>Release date</th>\n",
       "      <th>Sentiment</th>\n",
       "      <th>Topic</th>\n",
       "    </tr>\n",
       "  </thead>\n",
       "  <tbody>\n",
       "    <tr>\n",
       "      <th>0</th>\n",
       "      <td>AAPL</td>\n",
       "      <td>Financial news</td>\n",
       "      <td>U S  plan to repatriate billions will have lim...</td>\n",
       "      <td>HONG KONG  Reuters    A U S  push to encourage...</td>\n",
       "      <td>2017-02-06</td>\n",
       "      <td>Neutral</td>\n",
       "      <td>Fed | Central Banks</td>\n",
       "    </tr>\n",
       "    <tr>\n",
       "      <th>1</th>\n",
       "      <td>SPGI</td>\n",
       "      <td>Financial news</td>\n",
       "      <td>Markets Wait To See If ECB Draghi Adds To View...</td>\n",
       "      <td>Economic Data DE  Germany August GfK Consumer ...</td>\n",
       "      <td>2012-07-26</td>\n",
       "      <td>Neutral</td>\n",
       "      <td>Fed | Central Banks</td>\n",
       "    </tr>\n",
       "    <tr>\n",
       "      <th>2</th>\n",
       "      <td>BLK</td>\n",
       "      <td>Financial news</td>\n",
       "      <td>ECB extends deadline for binding bids for Ital...</td>\n",
       "      <td>MILAN  Reuters    The European Central Bank ha...</td>\n",
       "      <td>2019-04-11</td>\n",
       "      <td>Neutral</td>\n",
       "      <td>Fed | Central Banks</td>\n",
       "    </tr>\n",
       "    <tr>\n",
       "      <th>3</th>\n",
       "      <td>BAC</td>\n",
       "      <td>Financial news</td>\n",
       "      <td>After sprinting to aid rupiah  Indonesia c ban...</td>\n",
       "      <td>By Maikel Jefriando and Fransiska Nangoy JAKAR...</td>\n",
       "      <td>2018-07-27</td>\n",
       "      <td>Negative</td>\n",
       "      <td>Fed | Central Banks</td>\n",
       "    </tr>\n",
       "    <tr>\n",
       "      <th>4</th>\n",
       "      <td>MS</td>\n",
       "      <td>Financial news</td>\n",
       "      <td>China to Unleash  108 Billion in Reserves Cut ...</td>\n",
       "      <td>Bloomberg     China s central bank will cut t...</td>\n",
       "      <td>2018-06-24</td>\n",
       "      <td>Neutral</td>\n",
       "      <td>Fed | Central Banks</td>\n",
       "    </tr>\n",
       "  </tbody>\n",
       "</table>\n",
       "</div>"
      ],
      "text/plain": [
       "  Ticker     Data source                                           Headline  \\\n",
       "0   AAPL  Financial news  U S  plan to repatriate billions will have lim...   \n",
       "1   SPGI  Financial news  Markets Wait To See If ECB Draghi Adds To View...   \n",
       "2    BLK  Financial news  ECB extends deadline for binding bids for Ital...   \n",
       "3    BAC  Financial news  After sprinting to aid rupiah  Indonesia c ban...   \n",
       "4     MS  Financial news  China to Unleash  108 Billion in Reserves Cut ...   \n",
       "\n",
       "                                             Content Release date Sentiment  \\\n",
       "0  HONG KONG  Reuters    A U S  push to encourage...   2017-02-06   Neutral   \n",
       "1  Economic Data DE  Germany August GfK Consumer ...   2012-07-26   Neutral   \n",
       "2  MILAN  Reuters    The European Central Bank ha...   2019-04-11   Neutral   \n",
       "3  By Maikel Jefriando and Fransiska Nangoy JAKAR...   2018-07-27  Negative   \n",
       "4   Bloomberg     China s central bank will cut t...   2018-06-24   Neutral   \n",
       "\n",
       "                 Topic  \n",
       "0  Fed | Central Banks  \n",
       "1  Fed | Central Banks  \n",
       "2  Fed | Central Banks  \n",
       "3  Fed | Central Banks  \n",
       "4  Fed | Central Banks  "
      ]
     },
     "execution_count": 407,
     "metadata": {},
     "output_type": "execute_result"
    }
   ],
   "source": [
    "central_banks_dataset['Sentiment'] = predictions\n",
    "central_banks_dataset['Topic'] = 'Fed | Central Banks'\n",
    "central_banks_dataset.head(5)"
   ]
  },
  {
   "cell_type": "code",
   "execution_count": 489,
   "id": "e904e405",
   "metadata": {
    "cellId": "4eyxon0ibhud69ru9fp8"
   },
   "outputs": [],
   "source": [
    "central_banks_dataset.to_csv('central_banks_dataset.csv')"
   ]
  },
  {
   "cell_type": "code",
   "execution_count": 408,
   "id": "a3bfee26",
   "metadata": {
    "cellId": "4h8ca4xavnlyfpzm60r14"
   },
   "outputs": [],
   "source": [
    "#!g2.mig\n",
    "def predict(data, device, finbert, tokenizer):\n",
    "    sentences = data.Headline.tolist()\n",
    "    inputs = tokenizer(sentences, return_tensors=\"pt\", padding=True)\n",
    "    input_ids = inputs['input_ids']\n",
    "    attention_masks = inputs['attention_mask']\n",
    "    batch_size = 32\n",
    "    prediction_data = TensorDataset(input_ids, attention_masks)\n",
    "    prediction_sampler = SequentialSampler(prediction_data)\n",
    "    prediction_dataloader = DataLoader(prediction_data, sampler=prediction_sampler, batch_size=batch_size)\n",
    "    finbert.to(device)\n",
    "    finbert.eval()\n",
    "    predictions = []\n",
    "    number = 0\n",
    "    for batch in prediction_dataloader:\n",
    "        batch = tuple(t.to(device) for t in batch)\n",
    "        b_input_ids, b_input_mask = batch\n",
    "        \n",
    "        with torch.no_grad():\n",
    "     \n",
    "            outputs = finbert(b_input_ids, token_type_ids=None,\n",
    "                            attention_mask=b_input_mask)\n",
    "        for logit in outputs.logits:\n",
    "\n",
    "          logits = logit\n",
    "          predicted_class_id = logits.argmax().item()\n",
    "          logits = logits.detach().cpu().numpy()\n",
    "          predicted_class = finbert.config.id2label[predicted_class_id]\n",
    "          number+=1\n",
    "          predictions.append(predicted_class)\n",
    "    return predictions"
   ]
  },
  {
   "cell_type": "code",
   "execution_count": 409,
   "id": "62980d57",
   "metadata": {
    "cellId": "kdvjgf3klhb38951ccgg2z"
   },
   "outputs": [],
   "source": [
    "#!g2.mig\n",
    "predictions = predict(currencies_dataset, device, finbert, tokenizer)"
   ]
  },
  {
   "cell_type": "code",
   "execution_count": 410,
   "id": "702d8657",
   "metadata": {
    "cellId": "yhr69b5a6u4tw5auetbsm"
   },
   "outputs": [
    {
     "data": {
      "text/plain": [
       "3547"
      ]
     },
     "execution_count": 410,
     "metadata": {},
     "output_type": "execute_result"
    }
   ],
   "source": [
    "#!g2.mig\n",
    "len(predictions)"
   ]
  },
  {
   "cell_type": "code",
   "execution_count": 411,
   "id": "7d8564b2",
   "metadata": {
    "cellId": "m2bhjxqgef982usfn1js5c"
   },
   "outputs": [
    {
     "data": {
      "text/plain": [
       "(3547, 5)"
      ]
     },
     "execution_count": 411,
     "metadata": {},
     "output_type": "execute_result"
    }
   ],
   "source": [
    "#!g2.mig\n",
    "currencies_dataset.shape"
   ]
  },
  {
   "cell_type": "code",
   "execution_count": 412,
   "id": "c6f85aa9",
   "metadata": {
    "cellId": "aojosxo4p87rwxjxapnx1q"
   },
   "outputs": [
    {
     "name": "stdout",
     "output_type": "stream",
     "text": [
      "Positive 742\n",
      "Negative 1133\n",
      "Neutral 1672\n"
     ]
    }
   ],
   "source": [
    "#!g2.mig\n",
    "print('Positive', count_labels('Positive'))\n",
    "print('Negative', count_labels('Negative'))\n",
    "print('Neutral', count_labels('Neutral'))"
   ]
  },
  {
   "cell_type": "code",
   "execution_count": 413,
   "id": "2603bf75",
   "metadata": {
    "cellId": "d9nesdgj3wp3jdime95ap"
   },
   "outputs": [
    {
     "data": {
      "text/html": [
       "<div>\n",
       "<style scoped>\n",
       "    .dataframe tbody tr th:only-of-type {\n",
       "        vertical-align: middle;\n",
       "    }\n",
       "\n",
       "    .dataframe tbody tr th {\n",
       "        vertical-align: top;\n",
       "    }\n",
       "\n",
       "    .dataframe thead th {\n",
       "        text-align: right;\n",
       "    }\n",
       "</style>\n",
       "<table border=\"1\" class=\"dataframe\">\n",
       "  <thead>\n",
       "    <tr style=\"text-align: right;\">\n",
       "      <th></th>\n",
       "      <th>Ticker</th>\n",
       "      <th>Data source</th>\n",
       "      <th>Headline</th>\n",
       "      <th>Content</th>\n",
       "      <th>Release date</th>\n",
       "      <th>Sentiment</th>\n",
       "      <th>Topic</th>\n",
       "    </tr>\n",
       "  </thead>\n",
       "  <tbody>\n",
       "    <tr>\n",
       "      <th>0</th>\n",
       "      <td>NWSA</td>\n",
       "      <td>Financial news</td>\n",
       "      <td>USD Extends Losses Against Major Counterparts</td>\n",
       "      <td>The U S  dollar extended losses against the ma...</td>\n",
       "      <td>2012-12-12</td>\n",
       "      <td>Negative</td>\n",
       "      <td>Currencies</td>\n",
       "    </tr>\n",
       "    <tr>\n",
       "      <th>1</th>\n",
       "      <td>NWSA</td>\n",
       "      <td>Financial news</td>\n",
       "      <td>Euro Moves Lower Amid ECB Speculations</td>\n",
       "      <td>Speculations that the European Central Bank  E...</td>\n",
       "      <td>2013-01-08</td>\n",
       "      <td>Negative</td>\n",
       "      <td>Currencies</td>\n",
       "    </tr>\n",
       "    <tr>\n",
       "      <th>2</th>\n",
       "      <td>NWSA</td>\n",
       "      <td>Financial news</td>\n",
       "      <td>Euro Soared On LTRO News As JPY  CAD  AUD Dived</td>\n",
       "      <td>Euro finally broke out of recent range last we...</td>\n",
       "      <td>2013-01-28</td>\n",
       "      <td>Neutral</td>\n",
       "      <td>Currencies</td>\n",
       "    </tr>\n",
       "    <tr>\n",
       "      <th>3</th>\n",
       "      <td>CME</td>\n",
       "      <td>Financial news</td>\n",
       "      <td>GBP USD  Maintaining Momentum And Pushing Towa...</td>\n",
       "      <td>Retail currency traders can t seem to make up ...</td>\n",
       "      <td>2017-05-18</td>\n",
       "      <td>Positive</td>\n",
       "      <td>Currencies</td>\n",
       "    </tr>\n",
       "    <tr>\n",
       "      <th>4</th>\n",
       "      <td>NWSA</td>\n",
       "      <td>Financial news</td>\n",
       "      <td>EUR USD Touches Four Week High At 1 31</td>\n",
       "      <td>The last 24 hours has seen the Euro experience...</td>\n",
       "      <td>2013-06-04</td>\n",
       "      <td>Neutral</td>\n",
       "      <td>Currencies</td>\n",
       "    </tr>\n",
       "  </tbody>\n",
       "</table>\n",
       "</div>"
      ],
      "text/plain": [
       "  Ticker     Data source                                           Headline  \\\n",
       "0   NWSA  Financial news      USD Extends Losses Against Major Counterparts   \n",
       "1   NWSA  Financial news             Euro Moves Lower Amid ECB Speculations   \n",
       "2   NWSA  Financial news    Euro Soared On LTRO News As JPY  CAD  AUD Dived   \n",
       "3    CME  Financial news  GBP USD  Maintaining Momentum And Pushing Towa...   \n",
       "4   NWSA  Financial news             EUR USD Touches Four Week High At 1 31   \n",
       "\n",
       "                                             Content Release date Sentiment  \\\n",
       "0  The U S  dollar extended losses against the ma...   2012-12-12  Negative   \n",
       "1  Speculations that the European Central Bank  E...   2013-01-08  Negative   \n",
       "2  Euro finally broke out of recent range last we...   2013-01-28   Neutral   \n",
       "3  Retail currency traders can t seem to make up ...   2017-05-18  Positive   \n",
       "4  The last 24 hours has seen the Euro experience...   2013-06-04   Neutral   \n",
       "\n",
       "        Topic  \n",
       "0  Currencies  \n",
       "1  Currencies  \n",
       "2  Currencies  \n",
       "3  Currencies  \n",
       "4  Currencies  "
      ]
     },
     "execution_count": 413,
     "metadata": {},
     "output_type": "execute_result"
    }
   ],
   "source": [
    "#!g2.mig\n",
    "currencies_dataset['Sentiment'] = predictions\n",
    "currencies_dataset['Topic'] = 'Currencies'\n",
    "currencies_dataset.head(5)"
   ]
  },
  {
   "cell_type": "code",
   "execution_count": 490,
   "id": "a14f9503",
   "metadata": {
    "cellId": "bxnrf4t9ekqyoac0d6c55s"
   },
   "outputs": [],
   "source": [
    "#!g2.mig\n",
    "currencies_dataset.to_csv('currencies_dataset.csv')"
   ]
  },
  {
   "cell_type": "code",
   "execution_count": 414,
   "id": "ac143a64",
   "metadata": {
    "cellId": "bxu6ltfh8dsq5rpxia51j"
   },
   "outputs": [],
   "source": [
    "#!g2.mig\n",
    "predictions = predict(dividend_dataset, device, finbert, tokenizer)"
   ]
  },
  {
   "cell_type": "code",
   "execution_count": 415,
   "id": "5922199c",
   "metadata": {
    "cellId": "zkp37q4ln0bbxciekqrhnu"
   },
   "outputs": [
    {
     "data": {
      "text/plain": [
       "1208"
      ]
     },
     "execution_count": 415,
     "metadata": {},
     "output_type": "execute_result"
    }
   ],
   "source": [
    "#!g2.mig\n",
    "len(predictions)"
   ]
  },
  {
   "cell_type": "code",
   "execution_count": 416,
   "id": "012a12d9",
   "metadata": {
    "cellId": "hxrrmhqrla7i0wtg2n9kmi"
   },
   "outputs": [
    {
     "data": {
      "text/plain": [
       "(1208, 5)"
      ]
     },
     "execution_count": 416,
     "metadata": {},
     "output_type": "execute_result"
    }
   ],
   "source": [
    "#!g2.mig\n",
    "dividend_dataset.shape"
   ]
  },
  {
   "cell_type": "code",
   "execution_count": 417,
   "id": "01dc8d34",
   "metadata": {
    "cellId": "r9zgpflorzmkijd6wcpq2a"
   },
   "outputs": [
    {
     "name": "stdout",
     "output_type": "stream",
     "text": [
      "Positive 409\n",
      "Negative 55\n",
      "Neutral 744\n"
     ]
    }
   ],
   "source": [
    "#!g2.mig\n",
    "print('Positive', count_labels('Positive'))\n",
    "print('Negative', count_labels('Negative'))\n",
    "print('Neutral', count_labels('Neutral'))"
   ]
  },
  {
   "cell_type": "code",
   "execution_count": 418,
   "id": "2c4a0a49",
   "metadata": {
    "cellId": "95l99ze934hu2yi78kypsj"
   },
   "outputs": [
    {
     "data": {
      "text/html": [
       "<div>\n",
       "<style scoped>\n",
       "    .dataframe tbody tr th:only-of-type {\n",
       "        vertical-align: middle;\n",
       "    }\n",
       "\n",
       "    .dataframe tbody tr th {\n",
       "        vertical-align: top;\n",
       "    }\n",
       "\n",
       "    .dataframe thead th {\n",
       "        text-align: right;\n",
       "    }\n",
       "</style>\n",
       "<table border=\"1\" class=\"dataframe\">\n",
       "  <thead>\n",
       "    <tr style=\"text-align: right;\">\n",
       "      <th></th>\n",
       "      <th>Ticker</th>\n",
       "      <th>Data source</th>\n",
       "      <th>Headline</th>\n",
       "      <th>Content</th>\n",
       "      <th>Release date</th>\n",
       "      <th>Sentiment</th>\n",
       "      <th>Topic</th>\n",
       "    </tr>\n",
       "  </thead>\n",
       "  <tbody>\n",
       "    <tr>\n",
       "      <th>0</th>\n",
       "      <td>BAC</td>\n",
       "      <td>Financial news</td>\n",
       "      <td>Bank of America Corporation Deposit Shs Perp P...</td>\n",
       "      <td>Bank of America Corporation Deposit Shs Perp P...</td>\n",
       "      <td>2020-01-17</td>\n",
       "      <td>Neutral</td>\n",
       "      <td>Dividend</td>\n",
       "    </tr>\n",
       "    <tr>\n",
       "      <th>1</th>\n",
       "      <td>AVB</td>\n",
       "      <td>Financial news</td>\n",
       "      <td>AvalonBay Communities declares  1 47 dividend</td>\n",
       "      <td>AvalonBay Communities  NYSE AVB  declares  1 4...</td>\n",
       "      <td>2018-01-31</td>\n",
       "      <td>Neutral</td>\n",
       "      <td>Dividend</td>\n",
       "    </tr>\n",
       "    <tr>\n",
       "      <th>2</th>\n",
       "      <td>SNV</td>\n",
       "      <td>Financial news</td>\n",
       "      <td>Synovus declares  0 15 dividend</td>\n",
       "      <td>Synovus  NYSE SNV  declares  0 15 share quarte...</td>\n",
       "      <td>2017-09-08</td>\n",
       "      <td>Neutral</td>\n",
       "      <td>Dividend</td>\n",
       "    </tr>\n",
       "    <tr>\n",
       "      <th>3</th>\n",
       "      <td>SPGI</td>\n",
       "      <td>Financial news</td>\n",
       "      <td>S P Global declares  0 41 dividend</td>\n",
       "      <td>S P Global  NYSE SPGI  declares  0 41 share qu...</td>\n",
       "      <td>2017-06-27</td>\n",
       "      <td>Neutral</td>\n",
       "      <td>Dividend</td>\n",
       "    </tr>\n",
       "    <tr>\n",
       "      <th>4</th>\n",
       "      <td>SO</td>\n",
       "      <td>Financial news</td>\n",
       "      <td>Southern declares  0 60 dividend</td>\n",
       "      <td>Southern   NYSE SO  declares  0 60 share quart...</td>\n",
       "      <td>2018-07-16</td>\n",
       "      <td>Neutral</td>\n",
       "      <td>Dividend</td>\n",
       "    </tr>\n",
       "  </tbody>\n",
       "</table>\n",
       "</div>"
      ],
      "text/plain": [
       "  Ticker     Data source                                           Headline  \\\n",
       "0    BAC  Financial news  Bank of America Corporation Deposit Shs Perp P...   \n",
       "1    AVB  Financial news      AvalonBay Communities declares  1 47 dividend   \n",
       "2    SNV  Financial news                    Synovus declares  0 15 dividend   \n",
       "3   SPGI  Financial news                 S P Global declares  0 41 dividend   \n",
       "4     SO  Financial news                   Southern declares  0 60 dividend   \n",
       "\n",
       "                                             Content Release date Sentiment  \\\n",
       "0  Bank of America Corporation Deposit Shs Perp P...   2020-01-17   Neutral   \n",
       "1  AvalonBay Communities  NYSE AVB  declares  1 4...   2018-01-31   Neutral   \n",
       "2  Synovus  NYSE SNV  declares  0 15 share quarte...   2017-09-08   Neutral   \n",
       "3  S P Global  NYSE SPGI  declares  0 41 share qu...   2017-06-27   Neutral   \n",
       "4  Southern   NYSE SO  declares  0 60 share quart...   2018-07-16   Neutral   \n",
       "\n",
       "      Topic  \n",
       "0  Dividend  \n",
       "1  Dividend  \n",
       "2  Dividend  \n",
       "3  Dividend  \n",
       "4  Dividend  "
      ]
     },
     "execution_count": 418,
     "metadata": {},
     "output_type": "execute_result"
    }
   ],
   "source": [
    "#!g2.mig\n",
    "dividend_dataset['Sentiment'] = predictions\n",
    "dividend_dataset['Topic'] = 'Dividend'\n",
    "dividend_dataset.head(5)"
   ]
  },
  {
   "cell_type": "code",
   "execution_count": 491,
   "id": "dc0175e8",
   "metadata": {
    "cellId": "wo6by0hm47kn52r5sl7vh"
   },
   "outputs": [],
   "source": [
    "#!g2.mig\n",
    "dividend_dataset.to_csv('dividend_dataset.csv')"
   ]
  },
  {
   "cell_type": "code",
   "execution_count": 419,
   "id": "3b128ee9",
   "metadata": {
    "cellId": "fagqsnrnqhp368qwl43tjl"
   },
   "outputs": [],
   "source": [
    "#!g2.mig\n",
    "predictions = predict(earnings_dataset, device, finbert, tokenizer)"
   ]
  },
  {
   "cell_type": "code",
   "execution_count": 420,
   "id": "86440975",
   "metadata": {
    "cellId": "zj0688oigdhlioseul7gub"
   },
   "outputs": [
    {
     "name": "stdout",
     "output_type": "stream",
     "text": [
      "16595\n",
      "(16595, 5)\n"
     ]
    }
   ],
   "source": [
    "#!g2.mig\n",
    "print(len(predictions))\n",
    "print(earnings_dataset.shape)"
   ]
  },
  {
   "cell_type": "code",
   "execution_count": 421,
   "id": "a53243b0",
   "metadata": {
    "cellId": "0zn2xmty16vh4ap40q5ip5x"
   },
   "outputs": [
    {
     "name": "stdout",
     "output_type": "stream",
     "text": [
      "Positive 4909\n",
      "Negative 2108\n",
      "Neutral 9578\n"
     ]
    }
   ],
   "source": [
    "print('Positive', count_labels('Positive'))\n",
    "print('Negative', count_labels('Negative'))\n",
    "print('Neutral', count_labels('Neutral'))"
   ]
  },
  {
   "cell_type": "code",
   "execution_count": 422,
   "id": "c6aee4e2",
   "metadata": {
    "cellId": "1jbr8gfto2knumyvg8ywjd"
   },
   "outputs": [
    {
     "data": {
      "text/html": [
       "<div>\n",
       "<style scoped>\n",
       "    .dataframe tbody tr th:only-of-type {\n",
       "        vertical-align: middle;\n",
       "    }\n",
       "\n",
       "    .dataframe tbody tr th {\n",
       "        vertical-align: top;\n",
       "    }\n",
       "\n",
       "    .dataframe thead th {\n",
       "        text-align: right;\n",
       "    }\n",
       "</style>\n",
       "<table border=\"1\" class=\"dataframe\">\n",
       "  <thead>\n",
       "    <tr style=\"text-align: right;\">\n",
       "      <th></th>\n",
       "      <th>Ticker</th>\n",
       "      <th>Data source</th>\n",
       "      <th>Headline</th>\n",
       "      <th>Content</th>\n",
       "      <th>Release date</th>\n",
       "      <th>Sentiment</th>\n",
       "      <th>Topic</th>\n",
       "    </tr>\n",
       "  </thead>\n",
       "  <tbody>\n",
       "    <tr>\n",
       "      <th>0</th>\n",
       "      <td>PCAR</td>\n",
       "      <td>Financial news</td>\n",
       "      <td>Should You Sell PACCAR  PCAR  Before Earnings</td>\n",
       "      <td>Investors are always looking for stocks that a...</td>\n",
       "      <td>2017-10-23</td>\n",
       "      <td>Neutral</td>\n",
       "      <td>Earnings</td>\n",
       "    </tr>\n",
       "    <tr>\n",
       "      <th>1</th>\n",
       "      <td>AVB</td>\n",
       "      <td>Financial news</td>\n",
       "      <td>REITs To Watch For Earnings Early Next Week  A...</td>\n",
       "      <td>The Q3 earnings season for real estate investm...</td>\n",
       "      <td>2016-10-20</td>\n",
       "      <td>Neutral</td>\n",
       "      <td>Earnings</td>\n",
       "    </tr>\n",
       "    <tr>\n",
       "      <th>2</th>\n",
       "      <td>AAPL</td>\n",
       "      <td>Financial news</td>\n",
       "      <td>Game On  What to Expect from Nike s Earnings</td>\n",
       "      <td>All eyes will be on   NYSE NKE  after today s ...</td>\n",
       "      <td>2015-03-19</td>\n",
       "      <td>Neutral</td>\n",
       "      <td>Earnings</td>\n",
       "    </tr>\n",
       "    <tr>\n",
       "      <th>3</th>\n",
       "      <td>TTM</td>\n",
       "      <td>Financial news</td>\n",
       "      <td>Group 1 Automotive  GPI  Lags Q3 Earnings And ...</td>\n",
       "      <td>Share price of Group 1 Automotive Inc    NYSE ...</td>\n",
       "      <td>2016-10-25</td>\n",
       "      <td>Neutral</td>\n",
       "      <td>Earnings</td>\n",
       "    </tr>\n",
       "    <tr>\n",
       "      <th>4</th>\n",
       "      <td>AAPL</td>\n",
       "      <td>Financial news</td>\n",
       "      <td>Will Revenue Growth Favor Papa John s  PZZA  Q...</td>\n",
       "      <td>Papa John s International  Inc    NASDAQ PZZA ...</td>\n",
       "      <td>2018-02-19</td>\n",
       "      <td>Neutral</td>\n",
       "      <td>Earnings</td>\n",
       "    </tr>\n",
       "  </tbody>\n",
       "</table>\n",
       "</div>"
      ],
      "text/plain": [
       "  Ticker     Data source                                           Headline  \\\n",
       "0   PCAR  Financial news     Should You Sell PACCAR  PCAR  Before Earnings    \n",
       "1    AVB  Financial news  REITs To Watch For Earnings Early Next Week  A...   \n",
       "2   AAPL  Financial news       Game On  What to Expect from Nike s Earnings   \n",
       "3    TTM  Financial news  Group 1 Automotive  GPI  Lags Q3 Earnings And ...   \n",
       "4   AAPL  Financial news  Will Revenue Growth Favor Papa John s  PZZA  Q...   \n",
       "\n",
       "                                             Content Release date Sentiment  \\\n",
       "0  Investors are always looking for stocks that a...   2017-10-23   Neutral   \n",
       "1  The Q3 earnings season for real estate investm...   2016-10-20   Neutral   \n",
       "2  All eyes will be on   NYSE NKE  after today s ...   2015-03-19   Neutral   \n",
       "3  Share price of Group 1 Automotive Inc    NYSE ...   2016-10-25   Neutral   \n",
       "4  Papa John s International  Inc    NASDAQ PZZA ...   2018-02-19   Neutral   \n",
       "\n",
       "      Topic  \n",
       "0  Earnings  \n",
       "1  Earnings  \n",
       "2  Earnings  \n",
       "3  Earnings  \n",
       "4  Earnings  "
      ]
     },
     "execution_count": 422,
     "metadata": {},
     "output_type": "execute_result"
    }
   ],
   "source": [
    "#!g2.mig\n",
    "earnings_dataset['Sentiment'] = predictions\n",
    "earnings_dataset['Topic'] = 'Earnings'\n",
    "earnings_dataset.head(5)"
   ]
  },
  {
   "cell_type": "code",
   "execution_count": 492,
   "id": "9cb504fa",
   "metadata": {
    "cellId": "diuepx036ztivu6fwwdx"
   },
   "outputs": [],
   "source": [
    "#!g2.mig\n",
    "earnings_dataset.to_csv('earnings_dataset.csv')"
   ]
  },
  {
   "cell_type": "code",
   "execution_count": 423,
   "id": "ad46663e",
   "metadata": {
    "cellId": "an1o30qenh9ssitl5x9jm"
   },
   "outputs": [],
   "source": [
    "#!g2.mig\n",
    "predictions = predict(energy_oil_dataset, device, finbert, tokenizer)"
   ]
  },
  {
   "cell_type": "code",
   "execution_count": 424,
   "id": "a0f7a249",
   "metadata": {
    "cellId": "g07ze1lyzuqp7sxpettuko"
   },
   "outputs": [
    {
     "data": {
      "text/plain": [
       "6434"
      ]
     },
     "execution_count": 424,
     "metadata": {},
     "output_type": "execute_result"
    }
   ],
   "source": [
    "#!g2.mig\n",
    "len(predictions)"
   ]
  },
  {
   "cell_type": "code",
   "execution_count": 425,
   "id": "a47a65f5",
   "metadata": {
    "cellId": "uyzlsbmq4bgn2ca30payc"
   },
   "outputs": [
    {
     "data": {
      "text/plain": [
       "(6434, 5)"
      ]
     },
     "execution_count": 425,
     "metadata": {},
     "output_type": "execute_result"
    }
   ],
   "source": [
    "#!g2.mig\n",
    "energy_oil_dataset.shape"
   ]
  },
  {
   "cell_type": "code",
   "execution_count": 426,
   "id": "f9b82989",
   "metadata": {
    "cellId": "q2iawzbd4k94alczs9lm3q"
   },
   "outputs": [
    {
     "name": "stdout",
     "output_type": "stream",
     "text": [
      "Positive 1605\n",
      "Negative 2158\n",
      "Neutral 2671\n"
     ]
    }
   ],
   "source": [
    "#!g2.mig\n",
    "print('Positive', count_labels('Positive'))\n",
    "print('Negative', count_labels('Negative'))\n",
    "print('Neutral', count_labels('Neutral'))"
   ]
  },
  {
   "cell_type": "code",
   "execution_count": 427,
   "id": "fc1f263d",
   "metadata": {
    "cellId": "3ky6oz9g8fth8hr1kbpwoj"
   },
   "outputs": [
    {
     "data": {
      "text/html": [
       "<div>\n",
       "<style scoped>\n",
       "    .dataframe tbody tr th:only-of-type {\n",
       "        vertical-align: middle;\n",
       "    }\n",
       "\n",
       "    .dataframe tbody tr th {\n",
       "        vertical-align: top;\n",
       "    }\n",
       "\n",
       "    .dataframe thead th {\n",
       "        text-align: right;\n",
       "    }\n",
       "</style>\n",
       "<table border=\"1\" class=\"dataframe\">\n",
       "  <thead>\n",
       "    <tr style=\"text-align: right;\">\n",
       "      <th></th>\n",
       "      <th>Ticker</th>\n",
       "      <th>Data source</th>\n",
       "      <th>Headline</th>\n",
       "      <th>Content</th>\n",
       "      <th>Release date</th>\n",
       "      <th>Sentiment</th>\n",
       "      <th>Topic</th>\n",
       "    </tr>\n",
       "  </thead>\n",
       "  <tbody>\n",
       "    <tr>\n",
       "      <th>0</th>\n",
       "      <td>BAC</td>\n",
       "      <td>Financial news</td>\n",
       "      <td>Guess What Happened The Last Time The Price Of...</td>\n",
       "      <td>There has only been one other time in history ...</td>\n",
       "      <td>2014-12-01</td>\n",
       "      <td>Negative</td>\n",
       "      <td>Energy | Oil</td>\n",
       "    </tr>\n",
       "    <tr>\n",
       "      <th>1</th>\n",
       "      <td>GS</td>\n",
       "      <td>Financial news</td>\n",
       "      <td>Oil Peeks Above  57 a Barrel Amid Conflicting ...</td>\n",
       "      <td>Bloomberg     Crude rose after one of the mos...</td>\n",
       "      <td>2017-12-14</td>\n",
       "      <td>Negative</td>\n",
       "      <td>Energy | Oil</td>\n",
       "    </tr>\n",
       "    <tr>\n",
       "      <th>2</th>\n",
       "      <td>SLB</td>\n",
       "      <td>Financial news</td>\n",
       "      <td>Energy sector on track for worst one day drop ...</td>\n",
       "      <td>U S  crude oil plunges 3  to  42 85 bbl  hitti...</td>\n",
       "      <td>2017-06-20</td>\n",
       "      <td>Positive</td>\n",
       "      <td>Energy | Oil</td>\n",
       "    </tr>\n",
       "    <tr>\n",
       "      <th>3</th>\n",
       "      <td>STLD</td>\n",
       "      <td>Financial news</td>\n",
       "      <td>Steel Stocks Weigh On Markets</td>\n",
       "      <td>This morning  many of the leading steel stocks...</td>\n",
       "      <td>2013-01-08</td>\n",
       "      <td>Negative</td>\n",
       "      <td>Energy | Oil</td>\n",
       "    </tr>\n",
       "    <tr>\n",
       "      <th>4</th>\n",
       "      <td>C</td>\n",
       "      <td>Financial news</td>\n",
       "      <td>Commodity Sector Outlook Got You Down  Conside...</td>\n",
       "      <td>By    Commodities have started to seriously bo...</td>\n",
       "      <td>2014-01-29</td>\n",
       "      <td>Negative</td>\n",
       "      <td>Energy | Oil</td>\n",
       "    </tr>\n",
       "  </tbody>\n",
       "</table>\n",
       "</div>"
      ],
      "text/plain": [
       "  Ticker     Data source                                           Headline  \\\n",
       "0    BAC  Financial news  Guess What Happened The Last Time The Price Of...   \n",
       "1     GS  Financial news  Oil Peeks Above  57 a Barrel Amid Conflicting ...   \n",
       "2    SLB  Financial news  Energy sector on track for worst one day drop ...   \n",
       "3   STLD  Financial news                     Steel Stocks Weigh On Markets    \n",
       "4      C  Financial news  Commodity Sector Outlook Got You Down  Conside...   \n",
       "\n",
       "                                             Content Release date Sentiment  \\\n",
       "0  There has only been one other time in history ...   2014-12-01  Negative   \n",
       "1   Bloomberg     Crude rose after one of the mos...   2017-12-14  Negative   \n",
       "2  U S  crude oil plunges 3  to  42 85 bbl  hitti...   2017-06-20  Positive   \n",
       "3  This morning  many of the leading steel stocks...   2013-01-08  Negative   \n",
       "4  By    Commodities have started to seriously bo...   2014-01-29  Negative   \n",
       "\n",
       "          Topic  \n",
       "0  Energy | Oil  \n",
       "1  Energy | Oil  \n",
       "2  Energy | Oil  \n",
       "3  Energy | Oil  \n",
       "4  Energy | Oil  "
      ]
     },
     "execution_count": 427,
     "metadata": {},
     "output_type": "execute_result"
    }
   ],
   "source": [
    "#!g2.mig\n",
    "energy_oil_dataset['Sentiment'] = predictions\n",
    "energy_oil_dataset['Topic'] = 'Energy | Oil'\n",
    "energy_oil_dataset.head(5)"
   ]
  },
  {
   "cell_type": "code",
   "execution_count": 493,
   "id": "b60bbdce",
   "metadata": {
    "cellId": "17j3qoeu4xpmbunojjwzl7"
   },
   "outputs": [],
   "source": [
    "#!g2.mig\n",
    "energy_oil_dataset.to_csv('energy_oil_dataset.csv')"
   ]
  },
  {
   "cell_type": "code",
   "execution_count": 428,
   "id": "33fcd0ea",
   "metadata": {
    "cellId": "bpk2nif78bim4aj8msy5yk"
   },
   "outputs": [],
   "source": [
    "#!g2.mig\n",
    "predictions = predict(financials_dataset, device, finbert, tokenizer)"
   ]
  },
  {
   "cell_type": "code",
   "execution_count": 429,
   "id": "c40c779e",
   "metadata": {
    "cellId": "2tbdmxiut5qzodyv4ueq4"
   },
   "outputs": [
    {
     "name": "stdout",
     "output_type": "stream",
     "text": [
      "17857\n",
      "(17857, 5)\n"
     ]
    }
   ],
   "source": [
    "#!g2.mig\n",
    "print(len(predictions))\n",
    "print(financials_dataset.shape)"
   ]
  },
  {
   "cell_type": "code",
   "execution_count": 430,
   "id": "1f3f2dda",
   "metadata": {
    "cellId": "jkbnsaiaj9m3vnlgxqz1"
   },
   "outputs": [
    {
     "name": "stdout",
     "output_type": "stream",
     "text": [
      "Positive 11363\n",
      "Negative 5662\n",
      "Neutral 832\n"
     ]
    }
   ],
   "source": [
    "#!g2.mig\n",
    "print('Positive', count_labels('Positive'))\n",
    "print('Negative', count_labels('Negative'))\n",
    "print('Neutral', count_labels('Neutral'))"
   ]
  },
  {
   "cell_type": "code",
   "execution_count": 431,
   "id": "2062410c",
   "metadata": {
    "cellId": "xpuujcothzkydxuscd6mn"
   },
   "outputs": [
    {
     "data": {
      "text/html": [
       "<div>\n",
       "<style scoped>\n",
       "    .dataframe tbody tr th:only-of-type {\n",
       "        vertical-align: middle;\n",
       "    }\n",
       "\n",
       "    .dataframe tbody tr th {\n",
       "        vertical-align: top;\n",
       "    }\n",
       "\n",
       "    .dataframe thead th {\n",
       "        text-align: right;\n",
       "    }\n",
       "</style>\n",
       "<table border=\"1\" class=\"dataframe\">\n",
       "  <thead>\n",
       "    <tr style=\"text-align: right;\">\n",
       "      <th></th>\n",
       "      <th>Ticker</th>\n",
       "      <th>Data source</th>\n",
       "      <th>Headline</th>\n",
       "      <th>Content</th>\n",
       "      <th>Release date</th>\n",
       "      <th>Sentiment</th>\n",
       "      <th>Topic</th>\n",
       "    </tr>\n",
       "  </thead>\n",
       "  <tbody>\n",
       "    <tr>\n",
       "      <th>0</th>\n",
       "      <td>WMB</td>\n",
       "      <td>Financial news</td>\n",
       "      <td>Williams Companies  Inc   The   WMB  Q4 Earnin...</td>\n",
       "      <td>Williams Companies  Inc   The   NYSE WMB  came...</td>\n",
       "      <td>2019-02-13</td>\n",
       "      <td>Negative</td>\n",
       "      <td>Financials</td>\n",
       "    </tr>\n",
       "    <tr>\n",
       "      <th>1</th>\n",
       "      <td>APA</td>\n",
       "      <td>Financial news</td>\n",
       "      <td>Apache  APA  Q2 Earnings And Revenues Surpass ...</td>\n",
       "      <td>U S  energy firm Apache Corporation   NYSE APA...</td>\n",
       "      <td>2019-08-01</td>\n",
       "      <td>Positive</td>\n",
       "      <td>Financials</td>\n",
       "    </tr>\n",
       "    <tr>\n",
       "      <th>2</th>\n",
       "      <td>NWSA</td>\n",
       "      <td>Financial news</td>\n",
       "      <td>Volume Explodes On Accusations Of Accounting Sham</td>\n",
       "      <td>Ebix  Inc   NASDAQ  EBIX  is an international ...</td>\n",
       "      <td>2013-02-23</td>\n",
       "      <td>Negative</td>\n",
       "      <td>Financials</td>\n",
       "    </tr>\n",
       "    <tr>\n",
       "      <th>3</th>\n",
       "      <td>NOC</td>\n",
       "      <td>Financial news</td>\n",
       "      <td>Northrop ups guidance again</td>\n",
       "      <td>Diluted EPS increased 11  to  3 15 from  2 85 ...</td>\n",
       "      <td>2017-07-26</td>\n",
       "      <td>Neutral</td>\n",
       "      <td>Financials</td>\n",
       "    </tr>\n",
       "    <tr>\n",
       "      <th>4</th>\n",
       "      <td>TDC</td>\n",
       "      <td>Financial news</td>\n",
       "      <td>Teradata  TDC  Q1 Earnings Beat Estimates</td>\n",
       "      <td>Teradata  TDC  came out with quarterly earning...</td>\n",
       "      <td>2019-05-02</td>\n",
       "      <td>Positive</td>\n",
       "      <td>Financials</td>\n",
       "    </tr>\n",
       "  </tbody>\n",
       "</table>\n",
       "</div>"
      ],
      "text/plain": [
       "  Ticker     Data source                                           Headline  \\\n",
       "0    WMB  Financial news  Williams Companies  Inc   The   WMB  Q4 Earnin...   \n",
       "1    APA  Financial news  Apache  APA  Q2 Earnings And Revenues Surpass ...   \n",
       "2   NWSA  Financial news  Volume Explodes On Accusations Of Accounting Sham   \n",
       "3    NOC  Financial news                        Northrop ups guidance again   \n",
       "4    TDC  Financial news          Teradata  TDC  Q1 Earnings Beat Estimates   \n",
       "\n",
       "                                             Content Release date Sentiment  \\\n",
       "0  Williams Companies  Inc   The   NYSE WMB  came...   2019-02-13  Negative   \n",
       "1  U S  energy firm Apache Corporation   NYSE APA...   2019-08-01  Positive   \n",
       "2  Ebix  Inc   NASDAQ  EBIX  is an international ...   2013-02-23  Negative   \n",
       "3  Diluted EPS increased 11  to  3 15 from  2 85 ...   2017-07-26   Neutral   \n",
       "4  Teradata  TDC  came out with quarterly earning...   2019-05-02  Positive   \n",
       "\n",
       "        Topic  \n",
       "0  Financials  \n",
       "1  Financials  \n",
       "2  Financials  \n",
       "3  Financials  \n",
       "4  Financials  "
      ]
     },
     "execution_count": 431,
     "metadata": {},
     "output_type": "execute_result"
    }
   ],
   "source": [
    "#!g2.mig\n",
    "financials_dataset['Sentiment'] = predictions\n",
    "financials_dataset['Topic'] = 'Financials'\n",
    "financials_dataset.head(5)"
   ]
  },
  {
   "cell_type": "code",
   "execution_count": 494,
   "id": "eeb61dc6",
   "metadata": {
    "cellId": "ickr35daz5bb29lyjgjfkc"
   },
   "outputs": [],
   "source": [
    "#!g2.mig\n",
    "financials_dataset.to_csv('financials_dataset.csv')"
   ]
  },
  {
   "cell_type": "code",
   "execution_count": 432,
   "id": "72e66987",
   "metadata": {
    "cellId": "btm2k3ktg8d1wxq21keu7z"
   },
   "outputs": [],
   "source": [
    "#!g2.mig\n",
    "predictions = predict(general_news_dataset, device, finbert, tokenizer)"
   ]
  },
  {
   "cell_type": "code",
   "execution_count": 433,
   "id": "65fb59fc",
   "metadata": {
    "cellId": "ti9pmwx3lxhioc6my6k8gh"
   },
   "outputs": [
    {
     "name": "stdout",
     "output_type": "stream",
     "text": [
      "12468\n",
      "(12468, 5)\n"
     ]
    }
   ],
   "source": [
    "#!g2.mig\n",
    "print(len(predictions))\n",
    "print(general_news_dataset.shape)"
   ]
  },
  {
   "cell_type": "code",
   "execution_count": 434,
   "id": "188cdcb7",
   "metadata": {
    "cellId": "d4b7azceos6etw6zxhezyt"
   },
   "outputs": [
    {
     "name": "stdout",
     "output_type": "stream",
     "text": [
      "Positive 1061\n",
      "Negative 2506\n",
      "Neutral 8901\n"
     ]
    }
   ],
   "source": [
    "#!g2.mig\n",
    "print('Positive', count_labels('Positive'))\n",
    "print('Negative', count_labels('Negative'))\n",
    "print('Neutral', count_labels('Neutral'))"
   ]
  },
  {
   "cell_type": "code",
   "execution_count": 435,
   "id": "557d4f33",
   "metadata": {
    "cellId": "c4bpz3epirtumv6le5kjz"
   },
   "outputs": [
    {
     "data": {
      "text/html": [
       "<div>\n",
       "<style scoped>\n",
       "    .dataframe tbody tr th:only-of-type {\n",
       "        vertical-align: middle;\n",
       "    }\n",
       "\n",
       "    .dataframe tbody tr th {\n",
       "        vertical-align: top;\n",
       "    }\n",
       "\n",
       "    .dataframe thead th {\n",
       "        text-align: right;\n",
       "    }\n",
       "</style>\n",
       "<table border=\"1\" class=\"dataframe\">\n",
       "  <thead>\n",
       "    <tr style=\"text-align: right;\">\n",
       "      <th></th>\n",
       "      <th>Ticker</th>\n",
       "      <th>Data source</th>\n",
       "      <th>Headline</th>\n",
       "      <th>Content</th>\n",
       "      <th>Release date</th>\n",
       "      <th>Sentiment</th>\n",
       "      <th>Topic</th>\n",
       "    </tr>\n",
       "  </thead>\n",
       "  <tbody>\n",
       "    <tr>\n",
       "      <th>0</th>\n",
       "      <td>JPM</td>\n",
       "      <td>Financial news</td>\n",
       "      <td>Will The Zombie Apocalypse End The Real Estate...</td>\n",
       "      <td>We covered the investment wisdom of phantoms y...</td>\n",
       "      <td>2013-10-31</td>\n",
       "      <td>Neutral</td>\n",
       "      <td>General News | Opinion</td>\n",
       "    </tr>\n",
       "    <tr>\n",
       "      <th>1</th>\n",
       "      <td>WMB</td>\n",
       "      <td>Financial news</td>\n",
       "      <td>Jets down Darnold  draw testy Browns in primetime</td>\n",
       "      <td>The New York Jets will look to avoid an 0 2 st...</td>\n",
       "      <td>2019-09-12</td>\n",
       "      <td>Neutral</td>\n",
       "      <td>General News | Opinion</td>\n",
       "    </tr>\n",
       "    <tr>\n",
       "      <th>2</th>\n",
       "      <td>BHC</td>\n",
       "      <td>Financial news</td>\n",
       "      <td>Ackman s fund falls 7 percent in March  hurt b...</td>\n",
       "      <td>BOSTON  Reuters    Billionaire investor Willia...</td>\n",
       "      <td>2016-04-01</td>\n",
       "      <td>Neutral</td>\n",
       "      <td>General News | Opinion</td>\n",
       "    </tr>\n",
       "    <tr>\n",
       "      <th>3</th>\n",
       "      <td>GS</td>\n",
       "      <td>Financial news</td>\n",
       "      <td>John Whitehead  former leader of Goldman Sachs...</td>\n",
       "      <td>By Doina Chiacu WASHINGTON  Reuters    John Wh...</td>\n",
       "      <td>2015-02-07</td>\n",
       "      <td>Neutral</td>\n",
       "      <td>General News | Opinion</td>\n",
       "    </tr>\n",
       "    <tr>\n",
       "      <th>4</th>\n",
       "      <td>ANF</td>\n",
       "      <td>Financial news</td>\n",
       "      <td>Bubbles  Anyone</td>\n",
       "      <td>Investment bubbles are not hard to spot  There...</td>\n",
       "      <td>2015-11-22</td>\n",
       "      <td>Neutral</td>\n",
       "      <td>General News | Opinion</td>\n",
       "    </tr>\n",
       "  </tbody>\n",
       "</table>\n",
       "</div>"
      ],
      "text/plain": [
       "  Ticker     Data source                                           Headline  \\\n",
       "0    JPM  Financial news  Will The Zombie Apocalypse End The Real Estate...   \n",
       "1    WMB  Financial news  Jets down Darnold  draw testy Browns in primetime   \n",
       "2    BHC  Financial news  Ackman s fund falls 7 percent in March  hurt b...   \n",
       "3     GS  Financial news  John Whitehead  former leader of Goldman Sachs...   \n",
       "4    ANF  Financial news                                  Bubbles  Anyone     \n",
       "\n",
       "                                             Content Release date Sentiment  \\\n",
       "0  We covered the investment wisdom of phantoms y...   2013-10-31   Neutral   \n",
       "1  The New York Jets will look to avoid an 0 2 st...   2019-09-12   Neutral   \n",
       "2  BOSTON  Reuters    Billionaire investor Willia...   2016-04-01   Neutral   \n",
       "3  By Doina Chiacu WASHINGTON  Reuters    John Wh...   2015-02-07   Neutral   \n",
       "4  Investment bubbles are not hard to spot  There...   2015-11-22   Neutral   \n",
       "\n",
       "                    Topic  \n",
       "0  General News | Opinion  \n",
       "1  General News | Opinion  \n",
       "2  General News | Opinion  \n",
       "3  General News | Opinion  \n",
       "4  General News | Opinion  "
      ]
     },
     "execution_count": 435,
     "metadata": {},
     "output_type": "execute_result"
    }
   ],
   "source": [
    "#!g2.mig\n",
    "general_news_dataset['Sentiment'] = predictions\n",
    "general_news_dataset['Topic'] = 'General News | Opinion'\n",
    "general_news_dataset.head(5)"
   ]
  },
  {
   "cell_type": "code",
   "execution_count": 495,
   "id": "77c10485",
   "metadata": {
    "cellId": "zl4o0muaz6o70jejmy901y"
   },
   "outputs": [],
   "source": [
    "#!g2.mig\n",
    "general_news_dataset.to_csv('general_news_dataset.csv')"
   ]
  },
  {
   "cell_type": "code",
   "execution_count": 436,
   "id": "691caccd",
   "metadata": {
    "cellId": "xse2h6dzmtzmufjczwdy"
   },
   "outputs": [],
   "source": [
    "#!g2.mig\n",
    "predictions = predict(gold_metals_dataset, device, finbert, tokenizer)"
   ]
  },
  {
   "cell_type": "code",
   "execution_count": 437,
   "id": "da1ee681",
   "metadata": {
    "cellId": "c4fsvy1akwh5zx5w4lkic"
   },
   "outputs": [
    {
     "name": "stdout",
     "output_type": "stream",
     "text": [
      "2342\n",
      "(2342, 5)\n"
     ]
    }
   ],
   "source": [
    "#!g2.mig\n",
    "print(len(predictions))\n",
    "print(gold_metals_dataset.shape)"
   ]
  },
  {
   "cell_type": "code",
   "execution_count": 438,
   "id": "699bb567",
   "metadata": {
    "cellId": "h7qg766jxru95mieqt7l8r"
   },
   "outputs": [
    {
     "name": "stdout",
     "output_type": "stream",
     "text": [
      "Positive 691\n",
      "Negative 615\n",
      "Neutral 1036\n"
     ]
    }
   ],
   "source": [
    "#!g2.mig\n",
    "print('Positive', count_labels('Positive'))\n",
    "print('Negative', count_labels('Negative'))\n",
    "print('Neutral', count_labels('Neutral'))"
   ]
  },
  {
   "cell_type": "code",
   "execution_count": 439,
   "id": "7efeff74",
   "metadata": {
    "cellId": "ff15jo9kpbj9i6r9tn0vnb"
   },
   "outputs": [
    {
     "data": {
      "text/html": [
       "<div>\n",
       "<style scoped>\n",
       "    .dataframe tbody tr th:only-of-type {\n",
       "        vertical-align: middle;\n",
       "    }\n",
       "\n",
       "    .dataframe tbody tr th {\n",
       "        vertical-align: top;\n",
       "    }\n",
       "\n",
       "    .dataframe thead th {\n",
       "        text-align: right;\n",
       "    }\n",
       "</style>\n",
       "<table border=\"1\" class=\"dataframe\">\n",
       "  <thead>\n",
       "    <tr style=\"text-align: right;\">\n",
       "      <th></th>\n",
       "      <th>Ticker</th>\n",
       "      <th>Data source</th>\n",
       "      <th>Headline</th>\n",
       "      <th>Content</th>\n",
       "      <th>Release date</th>\n",
       "      <th>Sentiment</th>\n",
       "      <th>Topic</th>\n",
       "    </tr>\n",
       "  </thead>\n",
       "  <tbody>\n",
       "    <tr>\n",
       "      <th>0</th>\n",
       "      <td>WMT</td>\n",
       "      <td>Financial news</td>\n",
       "      <td>Dollar gains  gold loses luster amid robust U ...</td>\n",
       "      <td>By Lewis Krauskopf NEW YORK  Reuters    The U ...</td>\n",
       "      <td>2016-10-06</td>\n",
       "      <td>Positive</td>\n",
       "      <td>Gold | Metals | Materials</td>\n",
       "    </tr>\n",
       "    <tr>\n",
       "      <th>1</th>\n",
       "      <td>CME</td>\n",
       "      <td>Financial news</td>\n",
       "      <td>Gold prices gained in Asia as Fed views on rat...</td>\n",
       "      <td>Investing com   Gold gained in Asia on Tuesday...</td>\n",
       "      <td>2016-02-22</td>\n",
       "      <td>Neutral</td>\n",
       "      <td>Gold | Metals | Materials</td>\n",
       "    </tr>\n",
       "    <tr>\n",
       "      <th>2</th>\n",
       "      <td>NFLX</td>\n",
       "      <td>Financial news</td>\n",
       "      <td>Implied Volatility Surging For Energous  WATT ...</td>\n",
       "      <td>Investors in Energous Corporation   NASDAQ WAT...</td>\n",
       "      <td>2018-12-23</td>\n",
       "      <td>Neutral</td>\n",
       "      <td>Gold | Metals | Materials</td>\n",
       "    </tr>\n",
       "    <tr>\n",
       "      <th>3</th>\n",
       "      <td>AA</td>\n",
       "      <td>Financial news</td>\n",
       "      <td>Gold remains near 2 year high  even as global ...</td>\n",
       "      <td>Investing com    Gold closed virtually flat on...</td>\n",
       "      <td>2016-07-11</td>\n",
       "      <td>Positive</td>\n",
       "      <td>Gold | Metals | Materials</td>\n",
       "    </tr>\n",
       "    <tr>\n",
       "      <th>4</th>\n",
       "      <td>GM</td>\n",
       "      <td>Financial news</td>\n",
       "      <td>Platinum Price May Outperform Gold  Silver Bas...</td>\n",
       "      <td>We are seeing some healthy profit taking in pr...</td>\n",
       "      <td>2012-10-21</td>\n",
       "      <td>Positive</td>\n",
       "      <td>Gold | Metals | Materials</td>\n",
       "    </tr>\n",
       "  </tbody>\n",
       "</table>\n",
       "</div>"
      ],
      "text/plain": [
       "  Ticker     Data source                                           Headline  \\\n",
       "0    WMT  Financial news  Dollar gains  gold loses luster amid robust U ...   \n",
       "1    CME  Financial news  Gold prices gained in Asia as Fed views on rat...   \n",
       "2   NFLX  Financial news  Implied Volatility Surging For Energous  WATT ...   \n",
       "3     AA  Financial news  Gold remains near 2 year high  even as global ...   \n",
       "4     GM  Financial news  Platinum Price May Outperform Gold  Silver Bas...   \n",
       "\n",
       "                                             Content Release date Sentiment  \\\n",
       "0  By Lewis Krauskopf NEW YORK  Reuters    The U ...   2016-10-06  Positive   \n",
       "1  Investing com   Gold gained in Asia on Tuesday...   2016-02-22   Neutral   \n",
       "2  Investors in Energous Corporation   NASDAQ WAT...   2018-12-23   Neutral   \n",
       "3  Investing com    Gold closed virtually flat on...   2016-07-11  Positive   \n",
       "4  We are seeing some healthy profit taking in pr...   2012-10-21  Positive   \n",
       "\n",
       "                       Topic  \n",
       "0  Gold | Metals | Materials  \n",
       "1  Gold | Metals | Materials  \n",
       "2  Gold | Metals | Materials  \n",
       "3  Gold | Metals | Materials  \n",
       "4  Gold | Metals | Materials  "
      ]
     },
     "execution_count": 439,
     "metadata": {},
     "output_type": "execute_result"
    }
   ],
   "source": [
    "#!g2.mig\n",
    "gold_metals_dataset['Sentiment'] = predictions\n",
    "gold_metals_dataset['Topic'] = 'Gold | Metals | Materials'\n",
    "gold_metals_dataset.head(5)"
   ]
  },
  {
   "cell_type": "code",
   "execution_count": 496,
   "id": "c4b17b99",
   "metadata": {
    "cellId": "ag06todic4pwm4nugrck6h"
   },
   "outputs": [],
   "source": [
    "#!g2.mig\n",
    "gold_metals_dataset.to_csv('gold_metals_dataset.csv')"
   ]
  },
  {
   "cell_type": "code",
   "execution_count": 440,
   "id": "db8fa1e9",
   "metadata": {
    "cellId": "udacq1n22a98j7pl7oli6n"
   },
   "outputs": [],
   "source": [
    "#!g2.mig\n",
    "predictions = predict(investments_dataset, device, finbert, tokenizer)"
   ]
  },
  {
   "cell_type": "code",
   "execution_count": 441,
   "id": "1af5a0cd",
   "metadata": {
    "cellId": "q8sj03tf6apyzczl50tavg"
   },
   "outputs": [
    {
     "name": "stdout",
     "output_type": "stream",
     "text": [
      "8724\n",
      "(8724, 5)\n"
     ]
    }
   ],
   "source": [
    "#!g2.mig\n",
    "print(len(predictions))\n",
    "print(investments_dataset.shape)"
   ]
  },
  {
   "cell_type": "code",
   "execution_count": 442,
   "id": "b4079b7e",
   "metadata": {
    "cellId": "7e97c67thmizjpnkn1h76j"
   },
   "outputs": [
    {
     "name": "stdout",
     "output_type": "stream",
     "text": [
      "Positive 1076\n",
      "Negative 318\n",
      "Neutral 7330\n"
     ]
    }
   ],
   "source": [
    "#!g2.mig\n",
    "print('Positive', count_labels('Positive'))\n",
    "print('Negative', count_labels('Negative'))\n",
    "print('Neutral', count_labels('Neutral'))"
   ]
  },
  {
   "cell_type": "code",
   "execution_count": 443,
   "id": "72e15f5c",
   "metadata": {
    "cellId": "g7fw24sgsrfcfqkniemit"
   },
   "outputs": [
    {
     "data": {
      "text/html": [
       "<div>\n",
       "<style scoped>\n",
       "    .dataframe tbody tr th:only-of-type {\n",
       "        vertical-align: middle;\n",
       "    }\n",
       "\n",
       "    .dataframe tbody tr th {\n",
       "        vertical-align: top;\n",
       "    }\n",
       "\n",
       "    .dataframe thead th {\n",
       "        text-align: right;\n",
       "    }\n",
       "</style>\n",
       "<table border=\"1\" class=\"dataframe\">\n",
       "  <thead>\n",
       "    <tr style=\"text-align: right;\">\n",
       "      <th></th>\n",
       "      <th>Ticker</th>\n",
       "      <th>Data source</th>\n",
       "      <th>Headline</th>\n",
       "      <th>Content</th>\n",
       "      <th>Release date</th>\n",
       "      <th>Sentiment</th>\n",
       "      <th>Topic</th>\n",
       "    </tr>\n",
       "  </thead>\n",
       "  <tbody>\n",
       "    <tr>\n",
       "      <th>0</th>\n",
       "      <td>IX</td>\n",
       "      <td>Financial news</td>\n",
       "      <td>UPDATE 5 Monex buys Orix unit to form No 2 Jap...</td>\n",
       "      <td>Deal priced at estimated  246 million\\n   Ai...</td>\n",
       "      <td>2009-10-27</td>\n",
       "      <td>Neutral</td>\n",
       "      <td>M&amp;A | Investments</td>\n",
       "    </tr>\n",
       "    <tr>\n",
       "      <th>1</th>\n",
       "      <td>NBL</td>\n",
       "      <td>Financial news</td>\n",
       "      <td>Devon s Divestiture Goal Reached With Access P...</td>\n",
       "      <td>Devon Energy Corporation   NYSE DVN   announce...</td>\n",
       "      <td>2016-07-14</td>\n",
       "      <td>Neutral</td>\n",
       "      <td>M&amp;A | Investments</td>\n",
       "    </tr>\n",
       "    <tr>\n",
       "      <th>2</th>\n",
       "      <td>IP</td>\n",
       "      <td>Financial news</td>\n",
       "      <td>International Paper To Buy Weyerhaeuser s Pulp...</td>\n",
       "      <td>Paper and packaging firm International Paper C...</td>\n",
       "      <td>2016-05-03</td>\n",
       "      <td>Neutral</td>\n",
       "      <td>M&amp;A | Investments</td>\n",
       "    </tr>\n",
       "    <tr>\n",
       "      <th>3</th>\n",
       "      <td>VZ</td>\n",
       "      <td>Financial news</td>\n",
       "      <td>Verizon Looking To Cut  1 Billion Off Its Yaho...</td>\n",
       "      <td>On Friday  it was reported that telecommunicat...</td>\n",
       "      <td>2016-10-07</td>\n",
       "      <td>Neutral</td>\n",
       "      <td>M&amp;A | Investments</td>\n",
       "    </tr>\n",
       "    <tr>\n",
       "      <th>4</th>\n",
       "      <td>GS</td>\n",
       "      <td>Financial news</td>\n",
       "      <td>RBS Might Transfer Assets To Netherlands In No...</td>\n",
       "      <td>The Royal Bank of Scotland  LON RBS    NYSE RB...</td>\n",
       "      <td>2018-12-10</td>\n",
       "      <td>Neutral</td>\n",
       "      <td>M&amp;A | Investments</td>\n",
       "    </tr>\n",
       "  </tbody>\n",
       "</table>\n",
       "</div>"
      ],
      "text/plain": [
       "  Ticker     Data source                                           Headline  \\\n",
       "0     IX  Financial news  UPDATE 5 Monex buys Orix unit to form No 2 Jap...   \n",
       "1    NBL  Financial news  Devon s Divestiture Goal Reached With Access P...   \n",
       "2     IP  Financial news  International Paper To Buy Weyerhaeuser s Pulp...   \n",
       "3     VZ  Financial news  Verizon Looking To Cut  1 Billion Off Its Yaho...   \n",
       "4     GS  Financial news  RBS Might Transfer Assets To Netherlands In No...   \n",
       "\n",
       "                                             Content Release date Sentiment  \\\n",
       "0    Deal priced at estimated  246 million\\n   Ai...   2009-10-27   Neutral   \n",
       "1  Devon Energy Corporation   NYSE DVN   announce...   2016-07-14   Neutral   \n",
       "2  Paper and packaging firm International Paper C...   2016-05-03   Neutral   \n",
       "3  On Friday  it was reported that telecommunicat...   2016-10-07   Neutral   \n",
       "4  The Royal Bank of Scotland  LON RBS    NYSE RB...   2018-12-10   Neutral   \n",
       "\n",
       "               Topic  \n",
       "0  M&A | Investments  \n",
       "1  M&A | Investments  \n",
       "2  M&A | Investments  \n",
       "3  M&A | Investments  \n",
       "4  M&A | Investments  "
      ]
     },
     "execution_count": 443,
     "metadata": {},
     "output_type": "execute_result"
    }
   ],
   "source": [
    "#!g2.mig\n",
    "investments_dataset['Sentiment'] = predictions\n",
    "investments_dataset['Topic'] = 'M&A | Investments'\n",
    "investments_dataset.head(5)"
   ]
  },
  {
   "cell_type": "code",
   "execution_count": 497,
   "id": "fee88112",
   "metadata": {
    "cellId": "mhyi456fneyf6ctj1ytu"
   },
   "outputs": [],
   "source": [
    "#!g2.mig\n",
    "investments_dataset.to_csv('investments_dataset.csv')"
   ]
  },
  {
   "cell_type": "code",
   "execution_count": 444,
   "id": "a7c889a4",
   "metadata": {
    "cellId": "wtrd8gjutgc6adnw6nml5"
   },
   "outputs": [],
   "source": [
    "#!g2.mig\n",
    "predictions = predict(ipo_dataset, device, finbert, tokenizer)"
   ]
  },
  {
   "cell_type": "code",
   "execution_count": 445,
   "id": "e9fd7cc3",
   "metadata": {
    "cellId": "7i0mmw8un0iirvztjpf3q"
   },
   "outputs": [
    {
     "name": "stdout",
     "output_type": "stream",
     "text": [
      "833\n",
      "(833, 5)\n"
     ]
    }
   ],
   "source": [
    "#!g2.mig\n",
    "print(len(predictions))\n",
    "print(ipo_dataset.shape)"
   ]
  },
  {
   "cell_type": "code",
   "execution_count": 446,
   "id": "831f1bc2",
   "metadata": {
    "cellId": "d5j9ghhufjgye92qc1rzw"
   },
   "outputs": [
    {
     "name": "stdout",
     "output_type": "stream",
     "text": [
      "Positive 103\n",
      "Negative 87\n",
      "Neutral 643\n"
     ]
    }
   ],
   "source": [
    "#!g2.mig\n",
    "print('Positive', count_labels('Positive'))\n",
    "print('Negative', count_labels('Negative'))\n",
    "print('Neutral', count_labels('Neutral'))"
   ]
  },
  {
   "cell_type": "code",
   "execution_count": 447,
   "id": "a3f1e5e2",
   "metadata": {
    "cellId": "1txrze1sse1n5kfnn9cz6s"
   },
   "outputs": [
    {
     "data": {
      "text/html": [
       "<div>\n",
       "<style scoped>\n",
       "    .dataframe tbody tr th:only-of-type {\n",
       "        vertical-align: middle;\n",
       "    }\n",
       "\n",
       "    .dataframe tbody tr th {\n",
       "        vertical-align: top;\n",
       "    }\n",
       "\n",
       "    .dataframe thead th {\n",
       "        text-align: right;\n",
       "    }\n",
       "</style>\n",
       "<table border=\"1\" class=\"dataframe\">\n",
       "  <thead>\n",
       "    <tr style=\"text-align: right;\">\n",
       "      <th></th>\n",
       "      <th>Ticker</th>\n",
       "      <th>Data source</th>\n",
       "      <th>Headline</th>\n",
       "      <th>Content</th>\n",
       "      <th>Release date</th>\n",
       "      <th>Sentiment</th>\n",
       "      <th>Topic</th>\n",
       "    </tr>\n",
       "  </thead>\n",
       "  <tbody>\n",
       "    <tr>\n",
       "      <th>0</th>\n",
       "      <td>WBA</td>\n",
       "      <td>Financial news</td>\n",
       "      <td>Marijuana Banking  IPOs   Weed Votes  Will Hem...</td>\n",
       "      <td>The much awaited Cannabis Banking Bill was fin...</td>\n",
       "      <td>2019-04-03</td>\n",
       "      <td>Positive</td>\n",
       "      <td>IPO</td>\n",
       "    </tr>\n",
       "    <tr>\n",
       "      <th>1</th>\n",
       "      <td>BIDU</td>\n",
       "      <td>Financial news</td>\n",
       "      <td>China s Aurora Mobile files for IPO of America...</td>\n",
       "      <td>Chinese app services provider Aurora Mobile Li...</td>\n",
       "      <td>2018-06-29</td>\n",
       "      <td>Neutral</td>\n",
       "      <td>IPO</td>\n",
       "    </tr>\n",
       "    <tr>\n",
       "      <th>2</th>\n",
       "      <td>BX</td>\n",
       "      <td>Financial news</td>\n",
       "      <td>Auto1 may consider IPO in future but no need f...</td>\n",
       "      <td>BERLIN  Reuters    German used car dealing pla...</td>\n",
       "      <td>2019-03-27</td>\n",
       "      <td>Neutral</td>\n",
       "      <td>IPO</td>\n",
       "    </tr>\n",
       "    <tr>\n",
       "      <th>3</th>\n",
       "      <td>INTC</td>\n",
       "      <td>Financial news</td>\n",
       "      <td>Corporate investors pile into electric vehicle...</td>\n",
       "      <td>By Paul Lienert DETROIT  Reuters    Corporate ...</td>\n",
       "      <td>2019-01-11</td>\n",
       "      <td>Neutral</td>\n",
       "      <td>IPO</td>\n",
       "    </tr>\n",
       "    <tr>\n",
       "      <th>4</th>\n",
       "      <td>EXPE</td>\n",
       "      <td>Financial news</td>\n",
       "      <td>Trivago IPO  Are Tech and Travel Rising Again</td>\n",
       "      <td>In a bit of good news for the tech IPO market ...</td>\n",
       "      <td>2016-11-18</td>\n",
       "      <td>Neutral</td>\n",
       "      <td>IPO</td>\n",
       "    </tr>\n",
       "  </tbody>\n",
       "</table>\n",
       "</div>"
      ],
      "text/plain": [
       "  Ticker     Data source                                           Headline  \\\n",
       "0    WBA  Financial news  Marijuana Banking  IPOs   Weed Votes  Will Hem...   \n",
       "1   BIDU  Financial news  China s Aurora Mobile files for IPO of America...   \n",
       "2     BX  Financial news  Auto1 may consider IPO in future but no need f...   \n",
       "3   INTC  Financial news  Corporate investors pile into electric vehicle...   \n",
       "4   EXPE  Financial news     Trivago IPO  Are Tech and Travel Rising Again    \n",
       "\n",
       "                                             Content Release date Sentiment  \\\n",
       "0  The much awaited Cannabis Banking Bill was fin...   2019-04-03  Positive   \n",
       "1  Chinese app services provider Aurora Mobile Li...   2018-06-29   Neutral   \n",
       "2  BERLIN  Reuters    German used car dealing pla...   2019-03-27   Neutral   \n",
       "3  By Paul Lienert DETROIT  Reuters    Corporate ...   2019-01-11   Neutral   \n",
       "4  In a bit of good news for the tech IPO market ...   2016-11-18   Neutral   \n",
       "\n",
       "  Topic  \n",
       "0   IPO  \n",
       "1   IPO  \n",
       "2   IPO  \n",
       "3   IPO  \n",
       "4   IPO  "
      ]
     },
     "execution_count": 447,
     "metadata": {},
     "output_type": "execute_result"
    }
   ],
   "source": [
    "#!g2.mig\n",
    "ipo_dataset['Sentiment'] = predictions\n",
    "ipo_dataset['Topic'] = 'IPO'\n",
    "ipo_dataset.head(5)"
   ]
  },
  {
   "cell_type": "code",
   "execution_count": 498,
   "id": "00161dae",
   "metadata": {
    "cellId": "aq0aafimln102kpmrqwdt"
   },
   "outputs": [],
   "source": [
    "#!g2.mig\n",
    "ipo_dataset.to_csv('ipo_dataset.csv')"
   ]
  },
  {
   "cell_type": "code",
   "execution_count": 448,
   "id": "ba3549f4",
   "metadata": {
    "cellId": "mhsxyqfjdn3am7usr396v"
   },
   "outputs": [],
   "source": [
    "#!g2.mig\n",
    "predictions = predict(legal_dataset, device, finbert, tokenizer)"
   ]
  },
  {
   "cell_type": "code",
   "execution_count": 449,
   "id": "e9900106",
   "metadata": {
    "cellId": "i6bvipsf4u1tts3iiay9w"
   },
   "outputs": [
    {
     "name": "stdout",
     "output_type": "stream",
     "text": [
      "7356\n",
      "(7356, 5)\n"
     ]
    }
   ],
   "source": [
    "#!g2.mig\n",
    "print(len(predictions))\n",
    "print(legal_dataset.shape)"
   ]
  },
  {
   "cell_type": "code",
   "execution_count": 450,
   "id": "4c99da4e",
   "metadata": {
    "cellId": "bl5wqlrlkl6xqvj1yo2vz"
   },
   "outputs": [
    {
     "name": "stdout",
     "output_type": "stream",
     "text": [
      "Positive 225\n",
      "Negative 1740\n",
      "Neutral 5391\n"
     ]
    }
   ],
   "source": [
    "#!g2.mig\n",
    "print('Positive', count_labels('Positive'))\n",
    "print('Negative', count_labels('Negative'))\n",
    "print('Neutral', count_labels('Neutral'))"
   ]
  },
  {
   "cell_type": "code",
   "execution_count": 451,
   "id": "0e2e463a",
   "metadata": {
    "cellId": "km31bpivyqh5c1okmd24np"
   },
   "outputs": [
    {
     "data": {
      "text/html": [
       "<div>\n",
       "<style scoped>\n",
       "    .dataframe tbody tr th:only-of-type {\n",
       "        vertical-align: middle;\n",
       "    }\n",
       "\n",
       "    .dataframe tbody tr th {\n",
       "        vertical-align: top;\n",
       "    }\n",
       "\n",
       "    .dataframe thead th {\n",
       "        text-align: right;\n",
       "    }\n",
       "</style>\n",
       "<table border=\"1\" class=\"dataframe\">\n",
       "  <thead>\n",
       "    <tr style=\"text-align: right;\">\n",
       "      <th></th>\n",
       "      <th>Ticker</th>\n",
       "      <th>Data source</th>\n",
       "      <th>Headline</th>\n",
       "      <th>Content</th>\n",
       "      <th>Release date</th>\n",
       "      <th>Sentiment</th>\n",
       "      <th>Topic</th>\n",
       "    </tr>\n",
       "  </thead>\n",
       "  <tbody>\n",
       "    <tr>\n",
       "      <th>0</th>\n",
       "      <td>XRX</td>\n",
       "      <td>Financial news</td>\n",
       "      <td>Icahn  Deason urge Xerox shareholders to oppos...</td>\n",
       "      <td>Reuters    Xerox Corp s  N XRX  plan to sell ...</td>\n",
       "      <td>2018-02-13</td>\n",
       "      <td>Neutral</td>\n",
       "      <td>Legal | Regulation</td>\n",
       "    </tr>\n",
       "    <tr>\n",
       "      <th>1</th>\n",
       "      <td>MSFT</td>\n",
       "      <td>Financial news</td>\n",
       "      <td>Ex Autonomy CFO sentenced in U S  to 5 years p...</td>\n",
       "      <td>By Jonathan Stempel\\n Reuters    The former ch...</td>\n",
       "      <td>2019-05-14</td>\n",
       "      <td>Neutral</td>\n",
       "      <td>Legal | Regulation</td>\n",
       "    </tr>\n",
       "    <tr>\n",
       "      <th>2</th>\n",
       "      <td>FDX</td>\n",
       "      <td>Financial news</td>\n",
       "      <td>UPDATE 1 EU probes new China postal law over t...</td>\n",
       "      <td>EU analysing if new China postal law breache...</td>\n",
       "      <td>2009-04-29</td>\n",
       "      <td>Neutral</td>\n",
       "      <td>Legal | Regulation</td>\n",
       "    </tr>\n",
       "    <tr>\n",
       "      <th>3</th>\n",
       "      <td>JPM</td>\n",
       "      <td>Financial news</td>\n",
       "      <td>FINRA fines JPMorgan  1 25 million for failure...</td>\n",
       "      <td>NEW YORK  Reuters    The Financial Industry Re...</td>\n",
       "      <td>2017-11-21</td>\n",
       "      <td>Negative</td>\n",
       "      <td>Legal | Regulation</td>\n",
       "    </tr>\n",
       "    <tr>\n",
       "      <th>4</th>\n",
       "      <td>NFLX</td>\n",
       "      <td>Financial news</td>\n",
       "      <td>Tech giants prep for legal fight against FCC s...</td>\n",
       "      <td>A day after the release of official text of th...</td>\n",
       "      <td>2018-01-05</td>\n",
       "      <td>Neutral</td>\n",
       "      <td>Legal | Regulation</td>\n",
       "    </tr>\n",
       "  </tbody>\n",
       "</table>\n",
       "</div>"
      ],
      "text/plain": [
       "  Ticker     Data source                                           Headline  \\\n",
       "0    XRX  Financial news  Icahn  Deason urge Xerox shareholders to oppos...   \n",
       "1   MSFT  Financial news  Ex Autonomy CFO sentenced in U S  to 5 years p...   \n",
       "2    FDX  Financial news  UPDATE 1 EU probes new China postal law over t...   \n",
       "3    JPM  Financial news  FINRA fines JPMorgan  1 25 million for failure...   \n",
       "4   NFLX  Financial news  Tech giants prep for legal fight against FCC s...   \n",
       "\n",
       "                                             Content Release date Sentiment  \\\n",
       "0   Reuters    Xerox Corp s  N XRX  plan to sell ...   2018-02-13   Neutral   \n",
       "1  By Jonathan Stempel\\n Reuters    The former ch...   2019-05-14   Neutral   \n",
       "2    EU analysing if new China postal law breache...   2009-04-29   Neutral   \n",
       "3  NEW YORK  Reuters    The Financial Industry Re...   2017-11-21  Negative   \n",
       "4  A day after the release of official text of th...   2018-01-05   Neutral   \n",
       "\n",
       "                Topic  \n",
       "0  Legal | Regulation  \n",
       "1  Legal | Regulation  \n",
       "2  Legal | Regulation  \n",
       "3  Legal | Regulation  \n",
       "4  Legal | Regulation  "
      ]
     },
     "execution_count": 451,
     "metadata": {},
     "output_type": "execute_result"
    }
   ],
   "source": [
    "#!g2.mig\n",
    "legal_dataset['Sentiment'] = predictions\n",
    "legal_dataset['Topic'] = 'Legal | Regulation'\n",
    "legal_dataset.head(5)"
   ]
  },
  {
   "cell_type": "code",
   "execution_count": 499,
   "id": "8d572c9a",
   "metadata": {
    "cellId": "eh5bi1md1w5dlbi3hlmlbi"
   },
   "outputs": [],
   "source": [
    "#!g2.mig\n",
    "legal_dataset.to_csv('legal_dataset.csv')"
   ]
  },
  {
   "cell_type": "code",
   "execution_count": 452,
   "id": "82c229ce",
   "metadata": {
    "cellId": "benr13xhqeco8c756tf48"
   },
   "outputs": [],
   "source": [
    "#!g2.mig\n",
    "predictions = predict(macro_dataset, device, finbert, tokenizer)"
   ]
  },
  {
   "cell_type": "code",
   "execution_count": 453,
   "id": "7169e67a",
   "metadata": {
    "cellId": "982l45ht8payz9qwcz666j"
   },
   "outputs": [
    {
     "name": "stdout",
     "output_type": "stream",
     "text": [
      "11210\n",
      "(11210, 5)\n"
     ]
    }
   ],
   "source": [
    "#!g2.mig\n",
    "print(len(predictions))\n",
    "print(macro_dataset.shape)"
   ]
  },
  {
   "cell_type": "code",
   "execution_count": 454,
   "id": "5d2c2435",
   "metadata": {
    "cellId": "352zga5kiwy4dx6352cmxq"
   },
   "outputs": [
    {
     "name": "stdout",
     "output_type": "stream",
     "text": [
      "Positive 2582\n",
      "Negative 3565\n",
      "Neutral 5063\n"
     ]
    }
   ],
   "source": [
    "#!g2.mig\n",
    "print('Positive', count_labels('Positive'))\n",
    "print('Negative', count_labels('Negative'))\n",
    "print('Neutral', count_labels('Neutral'))"
   ]
  },
  {
   "cell_type": "code",
   "execution_count": 455,
   "id": "f677ae1f",
   "metadata": {
    "cellId": "zsfsovlu8vnmodomepjss"
   },
   "outputs": [
    {
     "data": {
      "text/html": [
       "<div>\n",
       "<style scoped>\n",
       "    .dataframe tbody tr th:only-of-type {\n",
       "        vertical-align: middle;\n",
       "    }\n",
       "\n",
       "    .dataframe tbody tr th {\n",
       "        vertical-align: top;\n",
       "    }\n",
       "\n",
       "    .dataframe thead th {\n",
       "        text-align: right;\n",
       "    }\n",
       "</style>\n",
       "<table border=\"1\" class=\"dataframe\">\n",
       "  <thead>\n",
       "    <tr style=\"text-align: right;\">\n",
       "      <th></th>\n",
       "      <th>Ticker</th>\n",
       "      <th>Data source</th>\n",
       "      <th>Headline</th>\n",
       "      <th>Content</th>\n",
       "      <th>Release date</th>\n",
       "      <th>Sentiment</th>\n",
       "      <th>Topic</th>\n",
       "    </tr>\n",
       "  </thead>\n",
       "  <tbody>\n",
       "    <tr>\n",
       "      <th>0</th>\n",
       "      <td>MS</td>\n",
       "      <td>Financial news</td>\n",
       "      <td>11 Reasons Why U S  Economic Growth Is The Wor...</td>\n",
       "      <td>Those that were predicting that the U S  econo...</td>\n",
       "      <td>2017-04-30</td>\n",
       "      <td>Negative</td>\n",
       "      <td>Macro</td>\n",
       "    </tr>\n",
       "    <tr>\n",
       "      <th>1</th>\n",
       "      <td>DE</td>\n",
       "      <td>Financial news</td>\n",
       "      <td>U S  farmers tighten belts to compete with che...</td>\n",
       "      <td>By Mark Weinraub and P J  Huffstutter\\nCHICAGO...</td>\n",
       "      <td>2017-10-26</td>\n",
       "      <td>Neutral</td>\n",
       "      <td>Macro</td>\n",
       "    </tr>\n",
       "    <tr>\n",
       "      <th>2</th>\n",
       "      <td>C</td>\n",
       "      <td>Financial news</td>\n",
       "      <td>LEI Index Points To Improving Economy But Is I...</td>\n",
       "      <td>Economic numbers out of the US continue to sur...</td>\n",
       "      <td>2012-04-20</td>\n",
       "      <td>Positive</td>\n",
       "      <td>Macro</td>\n",
       "    </tr>\n",
       "    <tr>\n",
       "      <th>3</th>\n",
       "      <td>NWSA</td>\n",
       "      <td>Financial news</td>\n",
       "      <td>World Competitiveness Rankings  Europeans Lost...</td>\n",
       "      <td>As calls grow for Europe to ease up on its aus...</td>\n",
       "      <td>2013-05-30</td>\n",
       "      <td>Negative</td>\n",
       "      <td>Macro</td>\n",
       "    </tr>\n",
       "    <tr>\n",
       "      <th>4</th>\n",
       "      <td>BA</td>\n",
       "      <td>Financial news</td>\n",
       "      <td>U S   Russia suspend nuclear treaty</td>\n",
       "      <td>The U S  and Russia suspended a 1987 nuclear w...</td>\n",
       "      <td>2019-02-03</td>\n",
       "      <td>Neutral</td>\n",
       "      <td>Macro</td>\n",
       "    </tr>\n",
       "  </tbody>\n",
       "</table>\n",
       "</div>"
      ],
      "text/plain": [
       "  Ticker     Data source                                           Headline  \\\n",
       "0     MS  Financial news  11 Reasons Why U S  Economic Growth Is The Wor...   \n",
       "1     DE  Financial news  U S  farmers tighten belts to compete with che...   \n",
       "2      C  Financial news  LEI Index Points To Improving Economy But Is I...   \n",
       "3   NWSA  Financial news  World Competitiveness Rankings  Europeans Lost...   \n",
       "4     BA  Financial news                U S   Russia suspend nuclear treaty   \n",
       "\n",
       "                                             Content Release date Sentiment  \\\n",
       "0  Those that were predicting that the U S  econo...   2017-04-30  Negative   \n",
       "1  By Mark Weinraub and P J  Huffstutter\\nCHICAGO...   2017-10-26   Neutral   \n",
       "2  Economic numbers out of the US continue to sur...   2012-04-20  Positive   \n",
       "3  As calls grow for Europe to ease up on its aus...   2013-05-30  Negative   \n",
       "4  The U S  and Russia suspended a 1987 nuclear w...   2019-02-03   Neutral   \n",
       "\n",
       "   Topic  \n",
       "0  Macro  \n",
       "1  Macro  \n",
       "2  Macro  \n",
       "3  Macro  \n",
       "4  Macro  "
      ]
     },
     "execution_count": 455,
     "metadata": {},
     "output_type": "execute_result"
    }
   ],
   "source": [
    "#!g2.mig\n",
    "macro_dataset['Sentiment'] = predictions\n",
    "macro_dataset['Topic'] = 'Macro'\n",
    "macro_dataset.head(5)"
   ]
  },
  {
   "cell_type": "code",
   "execution_count": 500,
   "id": "52821155",
   "metadata": {
    "cellId": "lbijdzxt0uei91jghbfpep"
   },
   "outputs": [],
   "source": [
    "#!g2.mig\n",
    "macro_dataset.to_csv('macro_dataset.csv')"
   ]
  },
  {
   "cell_type": "code",
   "execution_count": 456,
   "id": "c5719a49",
   "metadata": {
    "cellId": "1h5rn8hrevjh3mdo6d2zgmh"
   },
   "outputs": [],
   "source": [
    "#!g2.mig\n",
    "predictions = predict(markets_dataset, device, finbert, tokenizer)"
   ]
  },
  {
   "cell_type": "code",
   "execution_count": 457,
   "id": "ed8f11c2",
   "metadata": {
    "cellId": "628qsvogyqbmkgqya1xbwr"
   },
   "outputs": [
    {
     "name": "stdout",
     "output_type": "stream",
     "text": [
      "24264\n",
      "(24264, 5)\n"
     ]
    }
   ],
   "source": [
    "#!g2.mig\n",
    "print(len(predictions))\n",
    "print(markets_dataset.shape)"
   ]
  },
  {
   "cell_type": "code",
   "execution_count": 333,
   "id": "6961cb2a",
   "metadata": {
    "cellId": "e7jgq8vdxqel5fkc9lr5x"
   },
   "outputs": [
    {
     "name": "stdout",
     "output_type": "stream",
     "text": [
      "Positive 7984\n",
      "Negative 7472\n",
      "Neutral 9540\n"
     ]
    }
   ],
   "source": [
    "#!g2.mig\n",
    "print('Positive', count_labels('Positive'))\n",
    "print('Negative', count_labels('Negative'))\n",
    "print('Neutral', count_labels('Neutral'))"
   ]
  },
  {
   "cell_type": "code",
   "execution_count": 458,
   "id": "2c77da85",
   "metadata": {
    "cellId": "g0maxmhnn86vx9a53dufe"
   },
   "outputs": [
    {
     "data": {
      "text/html": [
       "<div>\n",
       "<style scoped>\n",
       "    .dataframe tbody tr th:only-of-type {\n",
       "        vertical-align: middle;\n",
       "    }\n",
       "\n",
       "    .dataframe tbody tr th {\n",
       "        vertical-align: top;\n",
       "    }\n",
       "\n",
       "    .dataframe thead th {\n",
       "        text-align: right;\n",
       "    }\n",
       "</style>\n",
       "<table border=\"1\" class=\"dataframe\">\n",
       "  <thead>\n",
       "    <tr style=\"text-align: right;\">\n",
       "      <th></th>\n",
       "      <th>Ticker</th>\n",
       "      <th>Data source</th>\n",
       "      <th>Headline</th>\n",
       "      <th>Content</th>\n",
       "      <th>Release date</th>\n",
       "      <th>Sentiment</th>\n",
       "      <th>Topic</th>\n",
       "    </tr>\n",
       "  </thead>\n",
       "  <tbody>\n",
       "    <tr>\n",
       "      <th>0</th>\n",
       "      <td>NWSA</td>\n",
       "      <td>Financial news</td>\n",
       "      <td>Street Just Yawns At Europe s Latest Crisis</td>\n",
       "      <td>Goldman Sachs called the Cyprus bank bailout a...</td>\n",
       "      <td>2013-03-19</td>\n",
       "      <td>Neutral</td>\n",
       "      <td>Markets</td>\n",
       "    </tr>\n",
       "    <tr>\n",
       "      <th>1</th>\n",
       "      <td>GPAGF</td>\n",
       "      <td>Financial news</td>\n",
       "      <td>Mexico stocks higher at close of trade  IPC up...</td>\n",
       "      <td>Investing com   Mexico stocks were higher afte...</td>\n",
       "      <td>2015-08-31</td>\n",
       "      <td>Positive</td>\n",
       "      <td>Markets</td>\n",
       "    </tr>\n",
       "    <tr>\n",
       "      <th>2</th>\n",
       "      <td>TGT</td>\n",
       "      <td>Financial news</td>\n",
       "      <td>FTSE up 0 9 percent early  financials gain</td>\n",
       "      <td>Banks gain  offsetting weakness in miners\\n ...</td>\n",
       "      <td>2009-07-29</td>\n",
       "      <td>Positive</td>\n",
       "      <td>Markets</td>\n",
       "    </tr>\n",
       "    <tr>\n",
       "      <th>3</th>\n",
       "      <td>AMZN</td>\n",
       "      <td>Financial news</td>\n",
       "      <td>Markets Mixed On Last Week s Finish</td>\n",
       "      <td>US equities finished a choppy session and week...</td>\n",
       "      <td>2017-06-18</td>\n",
       "      <td>Neutral</td>\n",
       "      <td>Markets</td>\n",
       "    </tr>\n",
       "    <tr>\n",
       "      <th>4</th>\n",
       "      <td>GS</td>\n",
       "      <td>Financial news</td>\n",
       "      <td>U S  stocks mixed after choppy session  Dow do...</td>\n",
       "      <td>Investing com   U S  stocks finished Thursday ...</td>\n",
       "      <td>2014-10-16</td>\n",
       "      <td>Negative</td>\n",
       "      <td>Markets</td>\n",
       "    </tr>\n",
       "  </tbody>\n",
       "</table>\n",
       "</div>"
      ],
      "text/plain": [
       "  Ticker     Data source                                           Headline  \\\n",
       "0   NWSA  Financial news        Street Just Yawns At Europe s Latest Crisis   \n",
       "1  GPAGF  Financial news  Mexico stocks higher at close of trade  IPC up...   \n",
       "2    TGT  Financial news         FTSE up 0 9 percent early  financials gain   \n",
       "3   AMZN  Financial news               Markets Mixed On Last Week s Finish    \n",
       "4     GS  Financial news  U S  stocks mixed after choppy session  Dow do...   \n",
       "\n",
       "                                             Content Release date Sentiment  \\\n",
       "0  Goldman Sachs called the Cyprus bank bailout a...   2013-03-19   Neutral   \n",
       "1  Investing com   Mexico stocks were higher afte...   2015-08-31  Positive   \n",
       "2    Banks gain  offsetting weakness in miners\\n ...   2009-07-29  Positive   \n",
       "3  US equities finished a choppy session and week...   2017-06-18   Neutral   \n",
       "4  Investing com   U S  stocks finished Thursday ...   2014-10-16  Negative   \n",
       "\n",
       "     Topic  \n",
       "0  Markets  \n",
       "1  Markets  \n",
       "2  Markets  \n",
       "3  Markets  \n",
       "4  Markets  "
      ]
     },
     "execution_count": 458,
     "metadata": {},
     "output_type": "execute_result"
    }
   ],
   "source": [
    "#!g2.mig\n",
    "markets_dataset['Sentiment'] = predictions\n",
    "markets_dataset['Topic'] = 'Markets'\n",
    "markets_dataset.head(5)"
   ]
  },
  {
   "cell_type": "code",
   "execution_count": 501,
   "id": "e423a9ee",
   "metadata": {
    "cellId": "81ern1cx5996um8nx7gth3"
   },
   "outputs": [],
   "source": [
    "#!g2.mig\n",
    "markets_dataset.to_csv('markets_dataset.csv')"
   ]
  },
  {
   "cell_type": "code",
   "execution_count": 459,
   "id": "c626c237",
   "metadata": {
    "cellId": "gwcrlk5s3za7tut7nc5ll"
   },
   "outputs": [],
   "source": [
    "#!g2.mig\n",
    "predictions = predict(personnel_change_dataset, device, finbert, tokenizer)"
   ]
  },
  {
   "cell_type": "code",
   "execution_count": 460,
   "id": "e9bf02ed",
   "metadata": {
    "cellId": "xsrmkwkebzegxv86752ta"
   },
   "outputs": [
    {
     "name": "stdout",
     "output_type": "stream",
     "text": [
      "2690\n",
      "(2690, 5)\n"
     ]
    }
   ],
   "source": [
    "#!g2.mig\n",
    "print(len(predictions))\n",
    "print(personnel_change_dataset.shape)"
   ]
  },
  {
   "cell_type": "code",
   "execution_count": 461,
   "id": "5f40b5b7",
   "metadata": {
    "cellId": "k6y2eqejyvax3v2hx9v2"
   },
   "outputs": [
    {
     "name": "stdout",
     "output_type": "stream",
     "text": [
      "Positive 109\n",
      "Negative 153\n",
      "Neutral 2428\n"
     ]
    }
   ],
   "source": [
    "#!g2.mig\n",
    "print('Positive', count_labels('Positive'))\n",
    "print('Negative', count_labels('Negative'))\n",
    "print('Neutral', count_labels('Neutral'))"
   ]
  },
  {
   "cell_type": "code",
   "execution_count": 462,
   "id": "5dcf6b1c",
   "metadata": {
    "cellId": "osy2hjts9gnu3qhafj9fh"
   },
   "outputs": [
    {
     "data": {
      "text/html": [
       "<div>\n",
       "<style scoped>\n",
       "    .dataframe tbody tr th:only-of-type {\n",
       "        vertical-align: middle;\n",
       "    }\n",
       "\n",
       "    .dataframe tbody tr th {\n",
       "        vertical-align: top;\n",
       "    }\n",
       "\n",
       "    .dataframe thead th {\n",
       "        text-align: right;\n",
       "    }\n",
       "</style>\n",
       "<table border=\"1\" class=\"dataframe\">\n",
       "  <thead>\n",
       "    <tr style=\"text-align: right;\">\n",
       "      <th></th>\n",
       "      <th>Ticker</th>\n",
       "      <th>Data source</th>\n",
       "      <th>Headline</th>\n",
       "      <th>Content</th>\n",
       "      <th>Release date</th>\n",
       "      <th>Sentiment</th>\n",
       "      <th>Topic</th>\n",
       "    </tr>\n",
       "  </thead>\n",
       "  <tbody>\n",
       "    <tr>\n",
       "      <th>0</th>\n",
       "      <td>CSCO</td>\n",
       "      <td>Financial news</td>\n",
       "      <td>BlackBerry names Cisco veteran as global head ...</td>\n",
       "      <td>By Euan Rocha TORONTO  Reuters    BlackBerry L...</td>\n",
       "      <td>2015-07-13</td>\n",
       "      <td>Neutral</td>\n",
       "      <td>Personnel Change</td>\n",
       "    </tr>\n",
       "    <tr>\n",
       "      <th>1</th>\n",
       "      <td>KO</td>\n",
       "      <td>Financial news</td>\n",
       "      <td>Coca Cola names Quincey president  fuelling su...</td>\n",
       "      <td>By Anjali Athavaley  Reuters     Coca Cola Co ...</td>\n",
       "      <td>2015-08-13</td>\n",
       "      <td>Neutral</td>\n",
       "      <td>Personnel Change</td>\n",
       "    </tr>\n",
       "    <tr>\n",
       "      <th>2</th>\n",
       "      <td>AAPL</td>\n",
       "      <td>Financial news</td>\n",
       "      <td>Qualcomm to depose Apple services chief Eddy Cue</td>\n",
       "      <td>By Stephen Nellis  Reuters    Qualcomm  NASDAQ...</td>\n",
       "      <td>2018-05-04</td>\n",
       "      <td>Neutral</td>\n",
       "      <td>Personnel Change</td>\n",
       "    </tr>\n",
       "    <tr>\n",
       "      <th>3</th>\n",
       "      <td>GOOGL</td>\n",
       "      <td>Financial news</td>\n",
       "      <td>Google Canada head exits  company names interi...</td>\n",
       "      <td>TORONTO  Reuters    Alphabet  NASDAQ GOOGL  In...</td>\n",
       "      <td>2017-07-25</td>\n",
       "      <td>Neutral</td>\n",
       "      <td>Personnel Change</td>\n",
       "    </tr>\n",
       "    <tr>\n",
       "      <th>4</th>\n",
       "      <td>BAC</td>\n",
       "      <td>Financial news</td>\n",
       "      <td>Exclusive  Bank of America to hire 50 bankers ...</td>\n",
       "      <td>By Sumeet Chatterjee and Scott Murdoch HONG KO...</td>\n",
       "      <td>2020-01-22</td>\n",
       "      <td>Neutral</td>\n",
       "      <td>Personnel Change</td>\n",
       "    </tr>\n",
       "  </tbody>\n",
       "</table>\n",
       "</div>"
      ],
      "text/plain": [
       "  Ticker     Data source                                           Headline  \\\n",
       "0   CSCO  Financial news  BlackBerry names Cisco veteran as global head ...   \n",
       "1     KO  Financial news  Coca Cola names Quincey president  fuelling su...   \n",
       "2   AAPL  Financial news   Qualcomm to depose Apple services chief Eddy Cue   \n",
       "3  GOOGL  Financial news  Google Canada head exits  company names interi...   \n",
       "4    BAC  Financial news  Exclusive  Bank of America to hire 50 bankers ...   \n",
       "\n",
       "                                             Content Release date Sentiment  \\\n",
       "0  By Euan Rocha TORONTO  Reuters    BlackBerry L...   2015-07-13   Neutral   \n",
       "1  By Anjali Athavaley  Reuters     Coca Cola Co ...   2015-08-13   Neutral   \n",
       "2  By Stephen Nellis  Reuters    Qualcomm  NASDAQ...   2018-05-04   Neutral   \n",
       "3  TORONTO  Reuters    Alphabet  NASDAQ GOOGL  In...   2017-07-25   Neutral   \n",
       "4  By Sumeet Chatterjee and Scott Murdoch HONG KO...   2020-01-22   Neutral   \n",
       "\n",
       "              Topic  \n",
       "0  Personnel Change  \n",
       "1  Personnel Change  \n",
       "2  Personnel Change  \n",
       "3  Personnel Change  \n",
       "4  Personnel Change  "
      ]
     },
     "execution_count": 462,
     "metadata": {},
     "output_type": "execute_result"
    }
   ],
   "source": [
    "#!g2.mig\n",
    "personnel_change_dataset['Sentiment'] = predictions\n",
    "personnel_change_dataset['Topic'] = 'Personnel Change'\n",
    "personnel_change_dataset.head(5)"
   ]
  },
  {
   "cell_type": "code",
   "execution_count": 502,
   "id": "0e16ca1b",
   "metadata": {
    "cellId": "f2yj4z9br7sfzt6aj95q"
   },
   "outputs": [],
   "source": [
    "#!g2.mig\n",
    "personnel_change_dataset.to_csv('personnel_change_dataset.csv')"
   ]
  },
  {
   "cell_type": "code",
   "execution_count": 463,
   "id": "1e130bb4",
   "metadata": {
    "cellId": "ab5oz7zs2blm2h3crck1n"
   },
   "outputs": [],
   "source": [
    "#!g2.mig\n",
    "predictions = predict(politics_dataset, device, finbert, tokenizer)"
   ]
  },
  {
   "cell_type": "code",
   "execution_count": 464,
   "id": "eebc1fed",
   "metadata": {
    "cellId": "gypin4zk63528z9subhw2f"
   },
   "outputs": [
    {
     "name": "stdout",
     "output_type": "stream",
     "text": [
      "4619\n",
      "(4619, 5)\n"
     ]
    }
   ],
   "source": [
    "#!g2.mig\n",
    "print(len(predictions))\n",
    "print(politics_dataset.shape)"
   ]
  },
  {
   "cell_type": "code",
   "execution_count": 465,
   "id": "c108fc25",
   "metadata": {
    "cellId": "3a31kbgspazb5knyyksivm"
   },
   "outputs": [
    {
     "name": "stdout",
     "output_type": "stream",
     "text": [
      "Positive 303\n",
      "Negative 641\n",
      "Neutral 3675\n"
     ]
    }
   ],
   "source": [
    "#!g2.mig\n",
    "print('Positive', count_labels('Positive'))\n",
    "print('Negative', count_labels('Negative'))\n",
    "print('Neutral', count_labels('Neutral'))"
   ]
  },
  {
   "cell_type": "code",
   "execution_count": 466,
   "id": "bb689b21",
   "metadata": {
    "cellId": "q19bpto65bg7in8dnaqe29"
   },
   "outputs": [
    {
     "data": {
      "text/html": [
       "<div>\n",
       "<style scoped>\n",
       "    .dataframe tbody tr th:only-of-type {\n",
       "        vertical-align: middle;\n",
       "    }\n",
       "\n",
       "    .dataframe tbody tr th {\n",
       "        vertical-align: top;\n",
       "    }\n",
       "\n",
       "    .dataframe thead th {\n",
       "        text-align: right;\n",
       "    }\n",
       "</style>\n",
       "<table border=\"1\" class=\"dataframe\">\n",
       "  <thead>\n",
       "    <tr style=\"text-align: right;\">\n",
       "      <th></th>\n",
       "      <th>Ticker</th>\n",
       "      <th>Data source</th>\n",
       "      <th>Headline</th>\n",
       "      <th>Content</th>\n",
       "      <th>Release date</th>\n",
       "      <th>Sentiment</th>\n",
       "      <th>Topic</th>\n",
       "    </tr>\n",
       "  </thead>\n",
       "  <tbody>\n",
       "    <tr>\n",
       "      <th>0</th>\n",
       "      <td>AAPL</td>\n",
       "      <td>Financial news</td>\n",
       "      <td>Crowd chants  Modi  Modi  as India PM winds up...</td>\n",
       "      <td>By Yasmeen Abutaleb SAN JOSE  California  Reut...</td>\n",
       "      <td>2015-09-28</td>\n",
       "      <td>Neutral</td>\n",
       "      <td>Politics</td>\n",
       "    </tr>\n",
       "    <tr>\n",
       "      <th>1</th>\n",
       "      <td>AAPL</td>\n",
       "      <td>Financial news</td>\n",
       "      <td>Who Benefits From Trump s China Tariffs</td>\n",
       "      <td>Today  we have another Trump  success story  t...</td>\n",
       "      <td>2019-07-15</td>\n",
       "      <td>Positive</td>\n",
       "      <td>Politics</td>\n",
       "    </tr>\n",
       "    <tr>\n",
       "      <th>2</th>\n",
       "      <td>AGN</td>\n",
       "      <td>Financial news</td>\n",
       "      <td>President Trump at it again with comments on  ...</td>\n",
       "      <td>Drug and biotech stocks are  again  the target...</td>\n",
       "      <td>2017-10-16</td>\n",
       "      <td>Neutral</td>\n",
       "      <td>Politics</td>\n",
       "    </tr>\n",
       "    <tr>\n",
       "      <th>3</th>\n",
       "      <td>AMZN</td>\n",
       "      <td>Financial news</td>\n",
       "      <td>Factbox  India s Modi crafts populist measures...</td>\n",
       "      <td>By Krishna N  Das NEW DELHI  Reuters    India ...</td>\n",
       "      <td>2019-01-25</td>\n",
       "      <td>Neutral</td>\n",
       "      <td>Politics</td>\n",
       "    </tr>\n",
       "    <tr>\n",
       "      <th>4</th>\n",
       "      <td>GOOGL</td>\n",
       "      <td>Financial news</td>\n",
       "      <td>IForex Daily  Looking Ahead To FOMC Speech</td>\n",
       "      <td>The dollar turned broadly higher against the e...</td>\n",
       "      <td>2015-03-25</td>\n",
       "      <td>Neutral</td>\n",
       "      <td>Politics</td>\n",
       "    </tr>\n",
       "  </tbody>\n",
       "</table>\n",
       "</div>"
      ],
      "text/plain": [
       "  Ticker     Data source                                           Headline  \\\n",
       "0   AAPL  Financial news  Crowd chants  Modi  Modi  as India PM winds up...   \n",
       "1   AAPL  Financial news           Who Benefits From Trump s China Tariffs    \n",
       "2    AGN  Financial news  President Trump at it again with comments on  ...   \n",
       "3   AMZN  Financial news  Factbox  India s Modi crafts populist measures...   \n",
       "4  GOOGL  Financial news         IForex Daily  Looking Ahead To FOMC Speech   \n",
       "\n",
       "                                             Content Release date Sentiment  \\\n",
       "0  By Yasmeen Abutaleb SAN JOSE  California  Reut...   2015-09-28   Neutral   \n",
       "1  Today  we have another Trump  success story  t...   2019-07-15  Positive   \n",
       "2  Drug and biotech stocks are  again  the target...   2017-10-16   Neutral   \n",
       "3  By Krishna N  Das NEW DELHI  Reuters    India ...   2019-01-25   Neutral   \n",
       "4  The dollar turned broadly higher against the e...   2015-03-25   Neutral   \n",
       "\n",
       "      Topic  \n",
       "0  Politics  \n",
       "1  Politics  \n",
       "2  Politics  \n",
       "3  Politics  \n",
       "4  Politics  "
      ]
     },
     "execution_count": 466,
     "metadata": {},
     "output_type": "execute_result"
    }
   ],
   "source": [
    "#!g2.mig\n",
    "politics_dataset['Sentiment'] = predictions\n",
    "politics_dataset['Topic'] = 'Politics'\n",
    "politics_dataset.head(5)"
   ]
  },
  {
   "cell_type": "code",
   "execution_count": 503,
   "id": "d2acba8a",
   "metadata": {
    "cellId": "t3b1vfh6fnrq3xk7uzbq6"
   },
   "outputs": [],
   "source": [
    "#!g2.mig\n",
    "politics_dataset.to_csv('politics_dataset.csv')"
   ]
  },
  {
   "cell_type": "code",
   "execution_count": 467,
   "id": "32c1e589",
   "metadata": {
    "cellId": "undvgczejdkk29k7stk3"
   },
   "outputs": [],
   "source": [
    "#!g2.mig\n",
    "predictions = predict(product_news_dataset, device, finbert, tokenizer)"
   ]
  },
  {
   "cell_type": "code",
   "execution_count": 468,
   "id": "d9cb3de2",
   "metadata": {
    "cellId": "qoby2fli4udth4r3onpx5"
   },
   "outputs": [
    {
     "name": "stdout",
     "output_type": "stream",
     "text": [
      "44401\n",
      "(44401, 5)\n"
     ]
    }
   ],
   "source": [
    "#!g2.mig\n",
    "print(len(predictions))\n",
    "print(product_news_dataset.shape)"
   ]
  },
  {
   "cell_type": "code",
   "execution_count": 469,
   "id": "b64c8043",
   "metadata": {
    "cellId": "t7qf8i3l4ju34q0w7nfi9"
   },
   "outputs": [
    {
     "name": "stdout",
     "output_type": "stream",
     "text": [
      "Positive 8893\n",
      "Negative 4275\n",
      "Neutral 31233\n"
     ]
    }
   ],
   "source": [
    "#!g2.mig\n",
    "print('Positive', count_labels('Positive'))\n",
    "print('Negative', count_labels('Negative'))\n",
    "print('Neutral', count_labels('Neutral'))"
   ]
  },
  {
   "cell_type": "code",
   "execution_count": 470,
   "id": "be28c5ff",
   "metadata": {
    "cellId": "c51jwl12ctwgs83qnhi7p"
   },
   "outputs": [
    {
     "data": {
      "text/html": [
       "<div>\n",
       "<style scoped>\n",
       "    .dataframe tbody tr th:only-of-type {\n",
       "        vertical-align: middle;\n",
       "    }\n",
       "\n",
       "    .dataframe tbody tr th {\n",
       "        vertical-align: top;\n",
       "    }\n",
       "\n",
       "    .dataframe thead th {\n",
       "        text-align: right;\n",
       "    }\n",
       "</style>\n",
       "<table border=\"1\" class=\"dataframe\">\n",
       "  <thead>\n",
       "    <tr style=\"text-align: right;\">\n",
       "      <th></th>\n",
       "      <th>Ticker</th>\n",
       "      <th>Data source</th>\n",
       "      <th>Headline</th>\n",
       "      <th>Content</th>\n",
       "      <th>Release date</th>\n",
       "      <th>Sentiment</th>\n",
       "      <th>Topic</th>\n",
       "    </tr>\n",
       "  </thead>\n",
       "  <tbody>\n",
       "    <tr>\n",
       "      <th>0</th>\n",
       "      <td>GM</td>\n",
       "      <td>Financial news</td>\n",
       "      <td>GM to respond by January 7 to Canada union pro...</td>\n",
       "      <td>Reuters    General Motors Co  NYSE GM  will r...</td>\n",
       "      <td>2018-12-20</td>\n",
       "      <td>Neutral</td>\n",
       "      <td>Company | Product News</td>\n",
       "    </tr>\n",
       "    <tr>\n",
       "      <th>1</th>\n",
       "      <td>WFC</td>\n",
       "      <td>Financial news</td>\n",
       "      <td>Wells Fargo plans 1 000 U S  job cuts</td>\n",
       "      <td>By Imani Moise  Reuters     Wells Fargo   NYSE...</td>\n",
       "      <td>2018-11-15</td>\n",
       "      <td>Neutral</td>\n",
       "      <td>Company | Product News</td>\n",
       "    </tr>\n",
       "    <tr>\n",
       "      <th>2</th>\n",
       "      <td>ROK</td>\n",
       "      <td>Financial news</td>\n",
       "      <td>ManpowerGroup Collaborates With Rockwell To Tr...</td>\n",
       "      <td>Leading staffing company  ManpowerGroup Inc   ...</td>\n",
       "      <td>2017-06-13</td>\n",
       "      <td>Neutral</td>\n",
       "      <td>Company | Product News</td>\n",
       "    </tr>\n",
       "    <tr>\n",
       "      <th>3</th>\n",
       "      <td>SRPT</td>\n",
       "      <td>Financial news</td>\n",
       "      <td>Sarepta Looks To Focus On Exondys 51   DMD Pip...</td>\n",
       "      <td>We issued an updated research report on Cambri...</td>\n",
       "      <td>2017-06-29</td>\n",
       "      <td>Neutral</td>\n",
       "      <td>Company | Product News</td>\n",
       "    </tr>\n",
       "    <tr>\n",
       "      <th>4</th>\n",
       "      <td>AAPL</td>\n",
       "      <td>Financial news</td>\n",
       "      <td>HSBC retail head sees more bank partnerships w...</td>\n",
       "      <td>TORONTO  Reuters    HSBC s  L HSBA  retail ban...</td>\n",
       "      <td>2016-09-12</td>\n",
       "      <td>Neutral</td>\n",
       "      <td>Company | Product News</td>\n",
       "    </tr>\n",
       "  </tbody>\n",
       "</table>\n",
       "</div>"
      ],
      "text/plain": [
       "  Ticker     Data source                                           Headline  \\\n",
       "0     GM  Financial news  GM to respond by January 7 to Canada union pro...   \n",
       "1    WFC  Financial news              Wells Fargo plans 1 000 U S  job cuts   \n",
       "2    ROK  Financial news  ManpowerGroup Collaborates With Rockwell To Tr...   \n",
       "3   SRPT  Financial news  Sarepta Looks To Focus On Exondys 51   DMD Pip...   \n",
       "4   AAPL  Financial news  HSBC retail head sees more bank partnerships w...   \n",
       "\n",
       "                                             Content Release date Sentiment  \\\n",
       "0   Reuters    General Motors Co  NYSE GM  will r...   2018-12-20   Neutral   \n",
       "1  By Imani Moise  Reuters     Wells Fargo   NYSE...   2018-11-15   Neutral   \n",
       "2  Leading staffing company  ManpowerGroup Inc   ...   2017-06-13   Neutral   \n",
       "3  We issued an updated research report on Cambri...   2017-06-29   Neutral   \n",
       "4  TORONTO  Reuters    HSBC s  L HSBA  retail ban...   2016-09-12   Neutral   \n",
       "\n",
       "                    Topic  \n",
       "0  Company | Product News  \n",
       "1  Company | Product News  \n",
       "2  Company | Product News  \n",
       "3  Company | Product News  \n",
       "4  Company | Product News  "
      ]
     },
     "execution_count": 470,
     "metadata": {},
     "output_type": "execute_result"
    }
   ],
   "source": [
    "#!g2.mig\n",
    "product_news_dataset['Sentiment'] = predictions\n",
    "product_news_dataset['Topic'] = 'Company | Product News'\n",
    "product_news_dataset.head(5)"
   ]
  },
  {
   "cell_type": "code",
   "execution_count": 504,
   "id": "352d0ca9",
   "metadata": {
    "cellId": "vlnaa5k5l9dtonwnude45"
   },
   "outputs": [],
   "source": [
    "#!g2.mig\n",
    "product_news_dataset.to_csv('product_news_dataset.csv')"
   ]
  },
  {
   "cell_type": "code",
   "execution_count": 471,
   "id": "fe3c2d5b",
   "metadata": {
    "cellId": "hau167fdku8njao9izssgf"
   },
   "outputs": [
    {
     "data": {
      "text/plain": [
       "(24364, 5)"
      ]
     },
     "execution_count": 471,
     "metadata": {},
     "output_type": "execute_result"
    }
   ],
   "source": [
    "#!g2.mig\n",
    "stock_commentary_dataset.shape"
   ]
  },
  {
   "cell_type": "code",
   "execution_count": 472,
   "id": "cd2f25b1",
   "metadata": {
    "cellId": "cks88nbeaoktyzmvdvky5"
   },
   "outputs": [],
   "source": [
    "#!g2.mig\n",
    "def predict(sentences, device, finbert, tokenizer):\n",
    "    inputs = tokenizer(sentences, return_tensors=\"pt\", padding=True)\n",
    "    input_ids = inputs['input_ids']\n",
    "    attention_masks = inputs['attention_mask']\n",
    "    #labels = torch.tensor(labels)\n",
    "    # Set the batch size.\n",
    "    batch_size = 32\n",
    "    prediction_data = TensorDataset(input_ids, attention_masks)\n",
    "    prediction_sampler = SequentialSampler(prediction_data)\n",
    "    prediction_dataloader = DataLoader(prediction_data, sampler=prediction_sampler, batch_size=batch_size)\n",
    "    finbert.to(device)\n",
    "    # Put model in evaluation mode\n",
    "    finbert.eval()\n",
    "    predictions = []\n",
    "    number = 0\n",
    "    for batch in prediction_dataloader:\n",
    "        # Add batch to GPU\n",
    "        batch = tuple(t.to(device) for t in batch)\n",
    "\n",
    "        # Unpack the inputs from our dataloader\n",
    "        b_input_ids, b_input_mask = batch\n",
    "\n",
    "        # Telling the model not to compute or store gradients, saving memory and\n",
    "        # speeding up prediction\n",
    "        with torch.no_grad():\n",
    "            # Forward pass, calculate logit predictions\n",
    "     \n",
    "            outputs = finbert(b_input_ids, token_type_ids=None,\n",
    "                            attention_mask=b_input_mask)\n",
    "        for logit in outputs.logits:\n",
    "\n",
    "          logits = logit\n",
    "          predicted_class_id = logits.argmax().item()\n",
    "          # Move logits and labels to CPU\n",
    "          logits = logits.detach().cpu().numpy()\n",
    "          # Store predictions and true labels\n",
    "          predicted_class = finbert.config.id2label[predicted_class_id]\n",
    "          number+=1\n",
    "          predictions.append(predicted_class)\n",
    "    return predictions"
   ]
  },
  {
   "cell_type": "code",
   "execution_count": 474,
   "id": "653d9679",
   "metadata": {
    "cellId": "e1qujyybxybo0yi0jnq0v"
   },
   "outputs": [],
   "source": [
    "#!g2.mig\n",
    "sentences = stock_commentary_dataset.Headline.tolist()\n",
    "count = 0\n",
    "tokenize_sentences = []\n",
    "predictions = []\n",
    "for sent in sentences:\n",
    "    count += 1\n",
    "    tokenize_sentences.append(sent)\n",
    "    if count >= 1000:\n",
    "        predictions.extend(predict(tokenize_sentences, device, finbert, tokenizer))\n",
    "        tokenize_sentences = []\n",
    "        count = 0\n",
    "    else:\n",
    "        if len(predictions) == 24000 and count == 364:\n",
    "            predictions.extend(predict(tokenize_sentences, device, finbert, tokenizer))\n",
    "            tokenize_sentences = []\n",
    "            count = 0"
   ]
  },
  {
   "cell_type": "code",
   "execution_count": 475,
   "id": "5ac51085",
   "metadata": {
    "cellId": "bvebot2jz6ly57kf071ox"
   },
   "outputs": [
    {
     "name": "stdout",
     "output_type": "stream",
     "text": [
      "(24364, 5)\n",
      "24364\n"
     ]
    }
   ],
   "source": [
    "#!g2.mig\n",
    "#print(len(predictions))\n",
    "print(stock_commentary_dataset.shape)\n",
    "print(len(predictions))"
   ]
  },
  {
   "cell_type": "code",
   "execution_count": 476,
   "id": "7a0da388",
   "metadata": {
    "cellId": "39adwolb1oq34ys0cwv43h"
   },
   "outputs": [
    {
     "name": "stdout",
     "output_type": "stream",
     "text": [
      "Positive 9650\n",
      "Negative 1634\n",
      "Neutral 13080\n"
     ]
    }
   ],
   "source": [
    "#!g2.mig\n",
    "print('Positive', count_labels('Positive'))\n",
    "print('Negative', count_labels('Negative'))\n",
    "print('Neutral', count_labels('Neutral'))"
   ]
  },
  {
   "cell_type": "code",
   "execution_count": 477,
   "id": "6ff415e2",
   "metadata": {
    "cellId": "fhbt92g1lhlmh3m234mn3"
   },
   "outputs": [
    {
     "data": {
      "text/html": [
       "<div>\n",
       "<style scoped>\n",
       "    .dataframe tbody tr th:only-of-type {\n",
       "        vertical-align: middle;\n",
       "    }\n",
       "\n",
       "    .dataframe tbody tr th {\n",
       "        vertical-align: top;\n",
       "    }\n",
       "\n",
       "    .dataframe thead th {\n",
       "        text-align: right;\n",
       "    }\n",
       "</style>\n",
       "<table border=\"1\" class=\"dataframe\">\n",
       "  <thead>\n",
       "    <tr style=\"text-align: right;\">\n",
       "      <th></th>\n",
       "      <th>Ticker</th>\n",
       "      <th>Data source</th>\n",
       "      <th>Headline</th>\n",
       "      <th>Content</th>\n",
       "      <th>Release date</th>\n",
       "      <th>Sentiment</th>\n",
       "      <th>Topic</th>\n",
       "    </tr>\n",
       "  </thead>\n",
       "  <tbody>\n",
       "    <tr>\n",
       "      <th>0</th>\n",
       "      <td>CATM</td>\n",
       "      <td>Financial news</td>\n",
       "      <td>Here s Why You Should Hold Alliance Data  ADS ...</td>\n",
       "      <td>Alliance Data Systems Corporation   NYSE ADS  ...</td>\n",
       "      <td>2018-12-17</td>\n",
       "      <td>Neutral</td>\n",
       "      <td>Stock Commentary</td>\n",
       "    </tr>\n",
       "    <tr>\n",
       "      <th>1</th>\n",
       "      <td>LHX</td>\n",
       "      <td>Financial news</td>\n",
       "      <td>What Makes Harris  HRS  A Strong Momentum Stoc...</td>\n",
       "      <td>Momentum investing is all about the idea of fo...</td>\n",
       "      <td>2019-02-12</td>\n",
       "      <td>Positive</td>\n",
       "      <td>Stock Commentary</td>\n",
       "    </tr>\n",
       "    <tr>\n",
       "      <th>2</th>\n",
       "      <td>PFG</td>\n",
       "      <td>Financial news</td>\n",
       "      <td>Are You Looking For A High Growth Dividend Sto...</td>\n",
       "      <td>Whether it s through stocks  bonds  ETFs  or o...</td>\n",
       "      <td>2019-06-19</td>\n",
       "      <td>Positive</td>\n",
       "      <td>Stock Commentary</td>\n",
       "    </tr>\n",
       "    <tr>\n",
       "      <th>3</th>\n",
       "      <td>JBLU</td>\n",
       "      <td>Financial news</td>\n",
       "      <td>Here s Where I ll Buy JetBlue</td>\n",
       "      <td>JetBlue Airways  NASDAQ JBLU  has been steadil...</td>\n",
       "      <td>2017-08-21</td>\n",
       "      <td>Neutral</td>\n",
       "      <td>Stock Commentary</td>\n",
       "    </tr>\n",
       "    <tr>\n",
       "      <th>4</th>\n",
       "      <td>LAZ</td>\n",
       "      <td>Financial news</td>\n",
       "      <td>Why Regions Financial  RF  Is A Great Pick Rig...</td>\n",
       "      <td>Shares of Birmingham based banking giant  Regi...</td>\n",
       "      <td>2016-11-02</td>\n",
       "      <td>Positive</td>\n",
       "      <td>Stock Commentary</td>\n",
       "    </tr>\n",
       "  </tbody>\n",
       "</table>\n",
       "</div>"
      ],
      "text/plain": [
       "  Ticker     Data source                                           Headline  \\\n",
       "0   CATM  Financial news  Here s Why You Should Hold Alliance Data  ADS ...   \n",
       "1    LHX  Financial news  What Makes Harris  HRS  A Strong Momentum Stoc...   \n",
       "2    PFG  Financial news  Are You Looking For A High Growth Dividend Sto...   \n",
       "3   JBLU  Financial news                      Here s Where I ll Buy JetBlue   \n",
       "4    LAZ  Financial news  Why Regions Financial  RF  Is A Great Pick Rig...   \n",
       "\n",
       "                                             Content Release date Sentiment  \\\n",
       "0  Alliance Data Systems Corporation   NYSE ADS  ...   2018-12-17   Neutral   \n",
       "1  Momentum investing is all about the idea of fo...   2019-02-12  Positive   \n",
       "2  Whether it s through stocks  bonds  ETFs  or o...   2019-06-19  Positive   \n",
       "3  JetBlue Airways  NASDAQ JBLU  has been steadil...   2017-08-21   Neutral   \n",
       "4  Shares of Birmingham based banking giant  Regi...   2016-11-02  Positive   \n",
       "\n",
       "              Topic  \n",
       "0  Stock Commentary  \n",
       "1  Stock Commentary  \n",
       "2  Stock Commentary  \n",
       "3  Stock Commentary  \n",
       "4  Stock Commentary  "
      ]
     },
     "execution_count": 477,
     "metadata": {},
     "output_type": "execute_result"
    }
   ],
   "source": [
    "#!g2.mig\n",
    "stock_commentary_dataset['Sentiment'] = predictions\n",
    "stock_commentary_dataset['Topic'] = 'Stock Commentary'\n",
    "stock_commentary_dataset.head(5)"
   ]
  },
  {
   "cell_type": "code",
   "execution_count": 505,
   "id": "5ddcce8f",
   "metadata": {
    "cellId": "943pihuof6k84bd24qjwxp"
   },
   "outputs": [],
   "source": [
    "#!g2.mig\n",
    "stock_commentary_dataset.to_csv('stock_commentary_dataset.csv')"
   ]
  },
  {
   "cell_type": "code",
   "execution_count": 478,
   "id": "3e332e7a",
   "metadata": {
    "cellId": "mhvnutsjt9u8ws5lfp0ya"
   },
   "outputs": [],
   "source": [
    "#!g2.mig\n",
    "sentences  = stock_movement_dataset.Headline.tolist()\n",
    "predictions = predict(sentences, device, finbert, tokenizer)"
   ]
  },
  {
   "cell_type": "code",
   "execution_count": 479,
   "id": "73dac783",
   "metadata": {
    "cellId": "u84ql1d8jpo54gik82h2iv"
   },
   "outputs": [
    {
     "name": "stdout",
     "output_type": "stream",
     "text": [
      "19915\n",
      "(19915, 5)\n"
     ]
    }
   ],
   "source": [
    "#!g2.mig\n",
    "print(len(predictions))\n",
    "print(stock_movement_dataset.shape)"
   ]
  },
  {
   "cell_type": "code",
   "execution_count": 480,
   "id": "718e05e3",
   "metadata": {
    "cellId": "gsfcfvtjl3gpuz1jvaz0p"
   },
   "outputs": [
    {
     "name": "stdout",
     "output_type": "stream",
     "text": [
      "Positive 8862\n",
      "Negative 5493\n",
      "Neutral 5560\n"
     ]
    }
   ],
   "source": [
    "#!g2.mig\n",
    "print('Positive', count_labels('Positive'))\n",
    "print('Negative', count_labels('Negative'))\n",
    "print('Neutral', count_labels('Neutral'))"
   ]
  },
  {
   "cell_type": "code",
   "execution_count": 481,
   "id": "9e724e36",
   "metadata": {
    "cellId": "x5zs420qhyoy5nzzl4qgrs"
   },
   "outputs": [
    {
     "data": {
      "text/html": [
       "<div>\n",
       "<style scoped>\n",
       "    .dataframe tbody tr th:only-of-type {\n",
       "        vertical-align: middle;\n",
       "    }\n",
       "\n",
       "    .dataframe tbody tr th {\n",
       "        vertical-align: top;\n",
       "    }\n",
       "\n",
       "    .dataframe thead th {\n",
       "        text-align: right;\n",
       "    }\n",
       "</style>\n",
       "<table border=\"1\" class=\"dataframe\">\n",
       "  <thead>\n",
       "    <tr style=\"text-align: right;\">\n",
       "      <th></th>\n",
       "      <th>Ticker</th>\n",
       "      <th>Data source</th>\n",
       "      <th>Headline</th>\n",
       "      <th>Content</th>\n",
       "      <th>Release date</th>\n",
       "      <th>Sentiment</th>\n",
       "      <th>Topic</th>\n",
       "    </tr>\n",
       "  </thead>\n",
       "  <tbody>\n",
       "    <tr>\n",
       "      <th>0</th>\n",
       "      <td>GE</td>\n",
       "      <td>Financial news</td>\n",
       "      <td>General Electric Shares Jump Despite Lower Tha...</td>\n",
       "      <td>Investing com   Shares of  General Electric   ...</td>\n",
       "      <td>2018-01-24</td>\n",
       "      <td>Positive</td>\n",
       "      <td>Stock Movement</td>\n",
       "    </tr>\n",
       "    <tr>\n",
       "      <th>1</th>\n",
       "      <td>GOOGL</td>\n",
       "      <td>Financial news</td>\n",
       "      <td>Bitcoin rockets above  5 000 to all time high</td>\n",
       "      <td>By Jemima Kelly LONDON  Reuters    Bitcoin sma...</td>\n",
       "      <td>2017-10-12</td>\n",
       "      <td>Positive</td>\n",
       "      <td>Stock Movement</td>\n",
       "    </tr>\n",
       "    <tr>\n",
       "      <th>2</th>\n",
       "      <td>AXP</td>\n",
       "      <td>Financial news</td>\n",
       "      <td>Visa Or Mastercard  Which Stock Looks Better P...</td>\n",
       "      <td>Visa Inc    NYSE V   and Mastercard Inc    NYS...</td>\n",
       "      <td>2019-05-15</td>\n",
       "      <td>Positive</td>\n",
       "      <td>Stock Movement</td>\n",
       "    </tr>\n",
       "    <tr>\n",
       "      <th>3</th>\n",
       "      <td>TM</td>\n",
       "      <td>Financial news</td>\n",
       "      <td>Japanese Car Makers Rally On Weak Yen  Hyundai...</td>\n",
       "      <td>The beleaguered Japanese auto shares are rally...</td>\n",
       "      <td>2012-11-18</td>\n",
       "      <td>Positive</td>\n",
       "      <td>Stock Movement</td>\n",
       "    </tr>\n",
       "    <tr>\n",
       "      <th>4</th>\n",
       "      <td>BA</td>\n",
       "      <td>Financial news</td>\n",
       "      <td>Esterline Technologies  ESL  Soars To 52 Week ...</td>\n",
       "      <td>Have you been paying attention to shares of Es...</td>\n",
       "      <td>2018-12-27</td>\n",
       "      <td>Neutral</td>\n",
       "      <td>Stock Movement</td>\n",
       "    </tr>\n",
       "  </tbody>\n",
       "</table>\n",
       "</div>"
      ],
      "text/plain": [
       "  Ticker     Data source                                           Headline  \\\n",
       "0     GE  Financial news  General Electric Shares Jump Despite Lower Tha...   \n",
       "1  GOOGL  Financial news      Bitcoin rockets above  5 000 to all time high   \n",
       "2    AXP  Financial news  Visa Or Mastercard  Which Stock Looks Better P...   \n",
       "3     TM  Financial news  Japanese Car Makers Rally On Weak Yen  Hyundai...   \n",
       "4     BA  Financial news  Esterline Technologies  ESL  Soars To 52 Week ...   \n",
       "\n",
       "                                             Content Release date Sentiment  \\\n",
       "0  Investing com   Shares of  General Electric   ...   2018-01-24  Positive   \n",
       "1  By Jemima Kelly LONDON  Reuters    Bitcoin sma...   2017-10-12  Positive   \n",
       "2  Visa Inc    NYSE V   and Mastercard Inc    NYS...   2019-05-15  Positive   \n",
       "3  The beleaguered Japanese auto shares are rally...   2012-11-18  Positive   \n",
       "4  Have you been paying attention to shares of Es...   2018-12-27   Neutral   \n",
       "\n",
       "            Topic  \n",
       "0  Stock Movement  \n",
       "1  Stock Movement  \n",
       "2  Stock Movement  \n",
       "3  Stock Movement  \n",
       "4  Stock Movement  "
      ]
     },
     "execution_count": 481,
     "metadata": {},
     "output_type": "execute_result"
    }
   ],
   "source": [
    "#!g2.mig\n",
    "stock_movement_dataset['Sentiment'] = predictions\n",
    "stock_movement_dataset['Topic'] = 'Stock Movement'\n",
    "stock_movement_dataset.head(5)"
   ]
  },
  {
   "cell_type": "code",
   "execution_count": 506,
   "id": "288c82d7",
   "metadata": {
    "cellId": "05o00xkrqzsauop0pqih5oe"
   },
   "outputs": [],
   "source": [
    "#!g2.mig\n",
    "stock_movement_dataset.to_csv('stock_movement_dataset.csv')"
   ]
  },
  {
   "cell_type": "code",
   "execution_count": 482,
   "id": "7897e889",
   "metadata": {
    "cellId": "mnc5x8ek4wmguxgbk62pvg"
   },
   "outputs": [],
   "source": [
    "#!g2.mig\n",
    "sentences = treasuries_dataset.Headline.tolist()\n",
    "predictions = predict(sentences, device, finbert, tokenizer)"
   ]
  },
  {
   "cell_type": "code",
   "execution_count": 483,
   "id": "1ac11d55",
   "metadata": {
    "cellId": "urp7lnzeed79ijdazunm7v"
   },
   "outputs": [
    {
     "name": "stdout",
     "output_type": "stream",
     "text": [
      "2514\n",
      "(2514, 5)\n"
     ]
    }
   ],
   "source": [
    "#!g2.mig\n",
    "print(len(predictions))\n",
    "print(treasuries_dataset.shape)"
   ]
  },
  {
   "cell_type": "code",
   "execution_count": 484,
   "id": "882e81ec",
   "metadata": {
    "cellId": "1di8oi0wqusgq2h6bdue6f"
   },
   "outputs": [
    {
     "name": "stdout",
     "output_type": "stream",
     "text": [
      "Positive 335\n",
      "Negative 521\n",
      "Neutral 1658\n"
     ]
    }
   ],
   "source": [
    "#!g2.mig\n",
    "print('Positive', count_labels('Positive'))\n",
    "print('Negative', count_labels('Negative'))\n",
    "print('Neutral', count_labels('Neutral'))"
   ]
  },
  {
   "cell_type": "code",
   "execution_count": 485,
   "id": "9d9629af",
   "metadata": {
    "cellId": "24h447g5ixnsloicsx2zv"
   },
   "outputs": [
    {
     "data": {
      "text/html": [
       "<div>\n",
       "<style scoped>\n",
       "    .dataframe tbody tr th:only-of-type {\n",
       "        vertical-align: middle;\n",
       "    }\n",
       "\n",
       "    .dataframe tbody tr th {\n",
       "        vertical-align: top;\n",
       "    }\n",
       "\n",
       "    .dataframe thead th {\n",
       "        text-align: right;\n",
       "    }\n",
       "</style>\n",
       "<table border=\"1\" class=\"dataframe\">\n",
       "  <thead>\n",
       "    <tr style=\"text-align: right;\">\n",
       "      <th></th>\n",
       "      <th>Ticker</th>\n",
       "      <th>Data source</th>\n",
       "      <th>Headline</th>\n",
       "      <th>Content</th>\n",
       "      <th>Release date</th>\n",
       "      <th>Sentiment</th>\n",
       "      <th>Topic</th>\n",
       "    </tr>\n",
       "  </thead>\n",
       "  <tbody>\n",
       "    <tr>\n",
       "      <th>0</th>\n",
       "      <td>AAPL</td>\n",
       "      <td>Financial news</td>\n",
       "      <td>Citigroup To Redeem Subordinated Notes Worth C...</td>\n",
       "      <td>Citigroup Inc    NYSE C   recently announced 1...</td>\n",
       "      <td>2017-09-10</td>\n",
       "      <td>Neutral</td>\n",
       "      <td>Treasuries | Corporate Debt</td>\n",
       "    </tr>\n",
       "    <tr>\n",
       "      <th>1</th>\n",
       "      <td>TSLA</td>\n",
       "      <td>Financial news</td>\n",
       "      <td>Tesla raises borrowing capacity for car leases...</td>\n",
       "      <td>Reuters    Tesla Inc  O TSLA  said on Friday ...</td>\n",
       "      <td>2017-10-20</td>\n",
       "      <td>Positive</td>\n",
       "      <td>Treasuries | Corporate Debt</td>\n",
       "    </tr>\n",
       "    <tr>\n",
       "      <th>2</th>\n",
       "      <td>MS</td>\n",
       "      <td>Financial news</td>\n",
       "      <td>Week That Spooked Bond Markets Sent Traders Sc...</td>\n",
       "      <td>Bloomberg     Volatility in the U S  Treasury...</td>\n",
       "      <td>2018-10-12</td>\n",
       "      <td>Negative</td>\n",
       "      <td>Treasuries | Corporate Debt</td>\n",
       "    </tr>\n",
       "    <tr>\n",
       "      <th>3</th>\n",
       "      <td>BAC</td>\n",
       "      <td>Financial news</td>\n",
       "      <td>US 10 Year Yields Fall From 12 Month High</td>\n",
       "      <td>Treasuries advanced after 10 year U S  governm...</td>\n",
       "      <td>2013-05-30</td>\n",
       "      <td>Negative</td>\n",
       "      <td>Treasuries | Corporate Debt</td>\n",
       "    </tr>\n",
       "    <tr>\n",
       "      <th>4</th>\n",
       "      <td>MMM</td>\n",
       "      <td>Financial news</td>\n",
       "      <td>Scandi FX Volatility Monitor   Sell 3M EUR SEK...</td>\n",
       "      <td>Implied volatility is little changed from last...</td>\n",
       "      <td>2019-01-14</td>\n",
       "      <td>Neutral</td>\n",
       "      <td>Treasuries | Corporate Debt</td>\n",
       "    </tr>\n",
       "  </tbody>\n",
       "</table>\n",
       "</div>"
      ],
      "text/plain": [
       "  Ticker     Data source                                           Headline  \\\n",
       "0   AAPL  Financial news  Citigroup To Redeem Subordinated Notes Worth C...   \n",
       "1   TSLA  Financial news  Tesla raises borrowing capacity for car leases...   \n",
       "2     MS  Financial news  Week That Spooked Bond Markets Sent Traders Sc...   \n",
       "3    BAC  Financial news          US 10 Year Yields Fall From 12 Month High   \n",
       "4    MMM  Financial news  Scandi FX Volatility Monitor   Sell 3M EUR SEK...   \n",
       "\n",
       "                                             Content Release date Sentiment  \\\n",
       "0  Citigroup Inc    NYSE C   recently announced 1...   2017-09-10   Neutral   \n",
       "1   Reuters    Tesla Inc  O TSLA  said on Friday ...   2017-10-20  Positive   \n",
       "2   Bloomberg     Volatility in the U S  Treasury...   2018-10-12  Negative   \n",
       "3  Treasuries advanced after 10 year U S  governm...   2013-05-30  Negative   \n",
       "4  Implied volatility is little changed from last...   2019-01-14   Neutral   \n",
       "\n",
       "                         Topic  \n",
       "0  Treasuries | Corporate Debt  \n",
       "1  Treasuries | Corporate Debt  \n",
       "2  Treasuries | Corporate Debt  \n",
       "3  Treasuries | Corporate Debt  \n",
       "4  Treasuries | Corporate Debt  "
      ]
     },
     "execution_count": 485,
     "metadata": {},
     "output_type": "execute_result"
    }
   ],
   "source": [
    "#!g2.mig\n",
    "treasuries_dataset['Sentiment'] = predictions\n",
    "treasuries_dataset['Topic'] = 'Treasuries | Corporate Debt'\n",
    "treasuries_dataset.head(5)"
   ]
  },
  {
   "cell_type": "code",
   "execution_count": 507,
   "id": "625eb486",
   "metadata": {
    "cellId": "czbsu97aopkdec52ep59e8"
   },
   "outputs": [],
   "source": [
    "#!g2.mig\n",
    "treasuries_dataset.to_csv('treasuries_dataset.csv')"
   ]
  }
 ],
 "metadata": {
  "language_info": {
   "codemirror_mode": {
    "name": "ipython",
    "version": 3
   },
   "file_extension": ".py",
   "mimetype": "text/x-python",
   "name": "python",
   "nbconvert_exporter": "python",
   "pygments_lexer": "ipython3",
   "version": "3.7.7"
  },
  "notebookId": "0afdc997-44b4-4c28-b0f0-ca5bd6297e8b",
  "notebookPath": "financial_sentiment_classification.ipynb"
 },
 "nbformat": 4,
 "nbformat_minor": 5
}
