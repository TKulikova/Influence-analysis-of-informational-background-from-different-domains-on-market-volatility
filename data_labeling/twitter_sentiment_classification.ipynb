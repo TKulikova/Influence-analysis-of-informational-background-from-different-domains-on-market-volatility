{
 "cells": [
  {
   "cell_type": "code",
   "execution_count": 2,
   "id": "3043f596",
   "metadata": {
    "cellId": "o9yj0nb8rfsu8h5xyw9vqf"
   },
   "outputs": [],
   "source": [
    "import warnings\n",
    "import numpy as np\n",
    "from matplotlib import pyplot as plt\n",
    "from sklearn.linear_model import LinearRegression\n",
    "from sklearn.feature_extraction.text import TfidfVectorizer\n",
    "from sklearn.manifold import TSNE\n",
    "from sklearn.metrics import mean_squared_error, r2_score\n",
    "from sklearn.model_selection import train_test_split\n",
    "import pandas as pd\n",
    "from gensim.models import Word2Vec\n",
    "from gensim.models.doc2vec import Doc2Vec, TaggedDocument\n",
    "\n",
    "warnings.filterwarnings(\"ignore\")\n",
    "pd.options.display.max_colwidth = 100\n",
    "pd.options.display.max_rows = 2000"
   ]
  },
  {
   "cell_type": "code",
   "execution_count": 3,
   "id": "56612e76",
   "metadata": {
    "cellId": "9btq156c7pmn3a5byxkee"
   },
   "outputs": [
    {
     "data": {
      "text/plain": [
       "(0, 5)"
      ]
     },
     "execution_count": 3,
     "metadata": {},
     "output_type": "execute_result"
    }
   ],
   "source": [
    "twitter_dataset = pd.read_csv('twitter_dataset.csv')\n",
    "twitter_dataset[pd.isna(twitter_dataset.Ticker) == True].shape"
   ]
  },
  {
   "cell_type": "code",
   "execution_count": 4,
   "id": "ff47200c",
   "metadata": {
    "cellId": "g8795m1z6rces4rwvztjr"
   },
   "outputs": [
    {
     "name": "stdout",
     "output_type": "stream",
     "text": [
      "Found GPU at: /device:GPU:0\n"
     ]
    },
    {
     "name": "stderr",
     "output_type": "stream",
     "text": [
      "2023-01-18 16:21:02.736902: I tensorflow/core/platform/cpu_feature_guard.cc:142] This TensorFlow binary is optimized with oneAPI Deep Neural Network Library (oneDNN) to use the following CPU instructions in performance-critical operations:  AVX2 FMA\n",
      "To enable them in other operations, rebuild TensorFlow with the appropriate compiler flags.\n",
      "2023-01-18 16:21:03.281493: I tensorflow/core/common_runtime/gpu/gpu_device.cc:1510] Created device /device:GPU:0 with 2629 MB memory:  -> device: 0, name: GRID A100X-1-5C MIG 1g.5gb, pci bus id: 0000:8c:00.0, compute capability: 8.0\n"
     ]
    }
   ],
   "source": [
    "#!g2.mig\n",
    "import tensorflow as tf\n",
    "\n",
    "device_name = tf.test.gpu_device_name()\n",
    "\n",
    "if device_name == '/device:GPU:0':\n",
    "    print('Found GPU at: {}'.format(device_name))\n",
    "else:\n",
    "    raise SystemError('GPU device not found')"
   ]
  },
  {
   "cell_type": "code",
   "execution_count": 5,
   "id": "24ee2f4e",
   "metadata": {
    "cellId": "ck08exxejzhhdvisyuvb6p"
   },
   "outputs": [
    {
     "name": "stdout",
     "output_type": "stream",
     "text": [
      "There are 1 GPU(s) available.\n",
      "We will use the GPU: GRID A100X-1-5C MIG 1g.5gb\n"
     ]
    }
   ],
   "source": [
    "#!g2.mig\n",
    "import torch\n",
    "\n",
    "if torch.cuda.is_available():    \n",
    "\n",
    "    device = torch.device(\"cuda\")\n",
    "\n",
    "    print('There are %d GPU(s) available.' % torch.cuda.device_count())\n",
    "\n",
    "    print('We will use the GPU:', torch.cuda.get_device_name(0))\n",
    "\n",
    "else:\n",
    "    print('No GPU available, using the CPU instead.')\n",
    "    device = torch.device(\"cpu\")"
   ]
  },
  {
   "cell_type": "code",
   "execution_count": 6,
   "id": "2390c6ba",
   "metadata": {
    "cellId": "vql0ji1mb80i75bvp54f8n"
   },
   "outputs": [
    {
     "data": {
      "text/plain": [
       "(870439, 5)"
      ]
     },
     "execution_count": 6,
     "metadata": {},
     "output_type": "execute_result"
    }
   ],
   "source": [
    "#!g2.mig\n",
    "twitter_dataset.shape"
   ]
  },
  {
   "cell_type": "code",
   "execution_count": 11,
   "id": "5c52c89c",
   "metadata": {
    "cellId": "vizag03atgpi1i8bez53w"
   },
   "outputs": [
    {
     "name": "stderr",
     "output_type": "stream",
     "text": [
      "Some weights of the model checkpoint at cardiffnlp/twitter-roberta-base-sentiment-latest were not used when initializing RobertaForSequenceClassification: ['roberta.pooler.dense.bias', 'roberta.pooler.dense.weight']\n",
      "- This IS expected if you are initializing RobertaForSequenceClassification from the checkpoint of a model trained on another task or with another architecture (e.g. initializing a BertForSequenceClassification model from a BertForPreTraining model).\n",
      "- This IS NOT expected if you are initializing RobertaForSequenceClassification from the checkpoint of a model that you expect to be exactly identical (initializing a BertForSequenceClassification model from a BertForSequenceClassification model).\n"
     ]
    }
   ],
   "source": [
    "from transformers import RobertaTokenizer, RobertaForSequenceClassification\n",
    "\n",
    "tokenizer = RobertaTokenizer.from_pretrained(\"cardiffnlp/twitter-roberta-base-sentiment-latest\")\n",
    "\n",
    "model = RobertaForSequenceClassification.from_pretrained(\"cardiffnlp/twitter-roberta-base-sentiment-latest\")"
   ]
  },
  {
   "cell_type": "code",
   "execution_count": 15,
   "id": "0275e245",
   "metadata": {
    "cellId": "ciy7efmee8tqyn2lipo6t"
   },
   "outputs": [],
   "source": [
    "#!g2.mig\n",
    "import torch\n",
    "from torch.utils.data import TensorDataset, SequentialSampler, DataLoader\n",
    "def predict(sentences, device, finbert, tokenizer):\n",
    "    inputs = tokenizer(sentences, return_tensors=\"pt\", padding=True)\n",
    "    input_ids = inputs['input_ids']\n",
    "    attention_masks = inputs['attention_mask']\n",
    "\n",
    "    batch_size = 32\n",
    "    prediction_data = TensorDataset(input_ids, attention_masks)\n",
    "    prediction_sampler = SequentialSampler(prediction_data)\n",
    "    prediction_dataloader = DataLoader(prediction_data, sampler=prediction_sampler, batch_size=batch_size)\n",
    "    model.to(device)\n",
    "    model.eval()\n",
    "    predictions = []\n",
    "    number = 0\n",
    "    for batch in prediction_dataloader:\n",
    "\n",
    "        batch = tuple(t.to(device) for t in batch)\n",
    "\n",
    "        b_input_ids, b_input_mask = batch\n",
    "\n",
    "        with torch.no_grad():\n",
    "     \n",
    "            outputs = model(b_input_ids, token_type_ids=None,\n",
    "                            attention_mask=b_input_mask)\n",
    "        for logit in outputs.logits:\n",
    "\n",
    "          logits = logit\n",
    "          predicted_class_id = logits.argmax().item()\n",
    "          logits = logits.detach().cpu().numpy()\n",
    "          predicted_class = finbert.config.id2label[predicted_class_id]\n",
    "          number+=1\n",
    "          predictions.append(predicted_class)\n",
    "    return predictions"
   ]
  },
  {
   "cell_type": "code",
   "execution_count": 16,
   "id": "a374125b",
   "metadata": {
    "cellId": "v2f9obndp5ysp151n9fc"
   },
   "outputs": [],
   "source": [
    "#!g2.mig\n",
    "sentences = twitter_dataset.Headline.tolist()\n",
    "count = 0\n",
    "tokenize_sentences = []\n",
    "predictions = []\n",
    "for sent in sentences:\n",
    "    count += 1\n",
    "    tokenize_sentences.append(sent)\n",
    "    if count >= 1000:\n",
    "        predictions.extend(predict(tokenize_sentences, device, model, tokenizer))\n",
    "        tokenize_sentences = []\n",
    "        count = 0\n",
    "    else:\n",
    "        if len(predictions) == 870000 and count == 439:\n",
    "            predictions.extend(predict(tokenize_sentences, device, model, tokenizer))\n",
    "            tokenize_sentences = []\n",
    "            count = 0"
   ]
  },
  {
   "cell_type": "code",
   "execution_count": 20,
   "id": "703b1767",
   "metadata": {
    "cellId": "6gypcsyw9o5brvh2yfoxgq"
   },
   "outputs": [
    {
     "data": {
      "text/plain": [
       "870439"
      ]
     },
     "execution_count": 20,
     "metadata": {},
     "output_type": "execute_result"
    }
   ],
   "source": [
    "#!g2.mig\n",
    "len(predictions)"
   ]
  },
  {
   "cell_type": "code",
   "execution_count": 22,
   "id": "b163c2e4",
   "metadata": {
    "cellId": "uj4gvgzhuzu61mm30cj2b"
   },
   "outputs": [],
   "source": [
    "#!g2.mig\n"
   ]
  },
  {
   "cell_type": "code",
   "execution_count": 24,
   "id": "d46b8f7a",
   "metadata": {
    "cellId": "t4wzkep401z3ixyekpik"
   },
   "outputs": [],
   "source": [
    "#!g2.mig\n",
    "def count_labels(label):\n",
    "  counter = 0\n",
    "  for prediction in predictions:\n",
    "    if prediction == label:\n",
    "      counter += 1\n",
    "  return counter"
   ]
  },
  {
   "cell_type": "code",
   "execution_count": 26,
   "id": "835633cc",
   "metadata": {
    "cellId": "6di22z3ue2d95ysx0j6ofm"
   },
   "outputs": [
    {
     "name": "stdout",
     "output_type": "stream",
     "text": [
      "Positive 389743\n",
      "Negative 87879\n",
      "Neutral 392817\n"
     ]
    }
   ],
   "source": [
    "#!g2.mig\n",
    "print('Positive', count_labels('positive'))\n",
    "print('Negative', count_labels('negative'))\n",
    "print('Neutral', count_labels('neutral'))"
   ]
  },
  {
   "cell_type": "code",
   "execution_count": 31,
   "id": "487d808b",
   "metadata": {
    "cellId": "35pfrda5gmkekezcgrwwuo"
   },
   "outputs": [],
   "source": [
    "#!g2.mig\n",
    "twitter_dataset['Sentiment'] = predictions\n",
    "twitter_dataset['Topic'] = 'Twitter news'"
   ]
  },
  {
   "cell_type": "code",
   "execution_count": 32,
   "id": "fcc2f59d",
   "metadata": {
    "cellId": "sxjysnaijlab4b7qy5rvqg"
   },
   "outputs": [],
   "source": [
    "#!g2.mig\n",
    "twitter_dataset.to_csv('twitter_dataset.csv', sep=',')"
   ]
  },
  {
   "cell_type": "code",
   "execution_count": null,
   "id": "de500646",
   "metadata": {
    "cellId": "vje2rmc7nol9d7ypxjjue"
   },
   "outputs": [],
   "source": [
    "#!g2.mig\n"
   ]
  }
 ],
 "metadata": {
  "language_info": {
   "codemirror_mode": {
    "name": "ipython",
    "version": 3
   },
   "file_extension": ".py",
   "mimetype": "text/x-python",
   "name": "python",
   "nbconvert_exporter": "python",
   "pygments_lexer": "ipython3",
   "version": "3.7.7"
  },
  "notebookId": "ff2818c8-9c45-4b13-a3c3-ee7803968ad5",
  "notebookPath": "twitter_sentiment_classification.ipynb"
 },
 "nbformat": 4,
 "nbformat_minor": 5
}
